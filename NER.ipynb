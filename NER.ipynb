{
 "cells": [
  {
   "metadata": {
    "ExecuteTime": {
     "end_time": "2024-08-12T15:55:27.989326Z",
     "start_time": "2024-08-12T15:55:24.886238Z"
    }
   },
   "cell_type": "code",
   "source": "!pip install spacy",
   "id": "79c82555e127bfe0",
   "outputs": [
    {
     "name": "stdout",
     "output_type": "stream",
     "text": [
      "Requirement already satisfied: spacy in /Users/abhiramyanampally/miniconda3/lib/python3.12/site-packages (3.7.5)\r\n",
      "Requirement already satisfied: spacy-legacy<3.1.0,>=3.0.11 in /Users/abhiramyanampally/miniconda3/lib/python3.12/site-packages (from spacy) (3.0.12)\r\n",
      "Requirement already satisfied: spacy-loggers<2.0.0,>=1.0.0 in /Users/abhiramyanampally/miniconda3/lib/python3.12/site-packages (from spacy) (1.0.5)\r\n",
      "Requirement already satisfied: murmurhash<1.1.0,>=0.28.0 in /Users/abhiramyanampally/miniconda3/lib/python3.12/site-packages (from spacy) (1.0.10)\r\n",
      "Requirement already satisfied: cymem<2.1.0,>=2.0.2 in /Users/abhiramyanampally/miniconda3/lib/python3.12/site-packages (from spacy) (2.0.8)\r\n",
      "Requirement already satisfied: preshed<3.1.0,>=3.0.2 in /Users/abhiramyanampally/miniconda3/lib/python3.12/site-packages (from spacy) (3.0.9)\r\n",
      "Requirement already satisfied: thinc<8.3.0,>=8.2.2 in /Users/abhiramyanampally/miniconda3/lib/python3.12/site-packages (from spacy) (8.2.5)\r\n",
      "Requirement already satisfied: wasabi<1.2.0,>=0.9.1 in /Users/abhiramyanampally/miniconda3/lib/python3.12/site-packages (from spacy) (1.1.3)\r\n",
      "Requirement already satisfied: srsly<3.0.0,>=2.4.3 in /Users/abhiramyanampally/miniconda3/lib/python3.12/site-packages (from spacy) (2.4.8)\r\n",
      "Requirement already satisfied: catalogue<2.1.0,>=2.0.6 in /Users/abhiramyanampally/miniconda3/lib/python3.12/site-packages (from spacy) (2.0.10)\r\n",
      "Requirement already satisfied: weasel<0.5.0,>=0.1.0 in /Users/abhiramyanampally/miniconda3/lib/python3.12/site-packages (from spacy) (0.4.1)\r\n",
      "Requirement already satisfied: typer<1.0.0,>=0.3.0 in /Users/abhiramyanampally/miniconda3/lib/python3.12/site-packages (from spacy) (0.12.3)\r\n",
      "Requirement already satisfied: tqdm<5.0.0,>=4.38.0 in /Users/abhiramyanampally/miniconda3/lib/python3.12/site-packages (from spacy) (4.65.0)\r\n",
      "Requirement already satisfied: requests<3.0.0,>=2.13.0 in /Users/abhiramyanampally/miniconda3/lib/python3.12/site-packages (from spacy) (2.31.0)\r\n",
      "Requirement already satisfied: pydantic!=1.8,!=1.8.1,<3.0.0,>=1.7.4 in /Users/abhiramyanampally/miniconda3/lib/python3.12/site-packages (from spacy) (2.8.2)\r\n",
      "Requirement already satisfied: jinja2 in /Users/abhiramyanampally/miniconda3/lib/python3.12/site-packages (from spacy) (3.1.4)\r\n",
      "Requirement already satisfied: setuptools in /Users/abhiramyanampally/miniconda3/lib/python3.12/site-packages (from spacy) (72.1.0)\r\n",
      "Requirement already satisfied: packaging>=20.0 in /Users/abhiramyanampally/miniconda3/lib/python3.12/site-packages (from spacy) (23.2)\r\n",
      "Requirement already satisfied: langcodes<4.0.0,>=3.2.0 in /Users/abhiramyanampally/miniconda3/lib/python3.12/site-packages (from spacy) (3.4.0)\r\n",
      "Requirement already satisfied: numpy>=1.19.0 in /Users/abhiramyanampally/miniconda3/lib/python3.12/site-packages (from spacy) (1.26.4)\r\n",
      "Requirement already satisfied: language-data>=1.2 in /Users/abhiramyanampally/miniconda3/lib/python3.12/site-packages (from langcodes<4.0.0,>=3.2.0->spacy) (1.2.0)\r\n",
      "Requirement already satisfied: annotated-types>=0.4.0 in /Users/abhiramyanampally/miniconda3/lib/python3.12/site-packages (from pydantic!=1.8,!=1.8.1,<3.0.0,>=1.7.4->spacy) (0.7.0)\r\n",
      "Requirement already satisfied: pydantic-core==2.20.1 in /Users/abhiramyanampally/miniconda3/lib/python3.12/site-packages (from pydantic!=1.8,!=1.8.1,<3.0.0,>=1.7.4->spacy) (2.20.1)\r\n",
      "Requirement already satisfied: typing-extensions>=4.6.1 in /Users/abhiramyanampally/miniconda3/lib/python3.12/site-packages (from pydantic!=1.8,!=1.8.1,<3.0.0,>=1.7.4->spacy) (4.11.0)\r\n",
      "Requirement already satisfied: charset-normalizer<4,>=2 in /Users/abhiramyanampally/miniconda3/lib/python3.12/site-packages (from requests<3.0.0,>=2.13.0->spacy) (2.0.4)\r\n",
      "Requirement already satisfied: idna<4,>=2.5 in /Users/abhiramyanampally/miniconda3/lib/python3.12/site-packages (from requests<3.0.0,>=2.13.0->spacy) (3.4)\r\n",
      "Requirement already satisfied: urllib3<3,>=1.21.1 in /Users/abhiramyanampally/miniconda3/lib/python3.12/site-packages (from requests<3.0.0,>=2.13.0->spacy) (2.1.0)\r\n",
      "Requirement already satisfied: certifi>=2017.4.17 in /Users/abhiramyanampally/miniconda3/lib/python3.12/site-packages (from requests<3.0.0,>=2.13.0->spacy) (2024.7.4)\r\n",
      "Requirement already satisfied: blis<0.8.0,>=0.7.8 in /Users/abhiramyanampally/miniconda3/lib/python3.12/site-packages (from thinc<8.3.0,>=8.2.2->spacy) (0.7.11)\r\n",
      "Requirement already satisfied: confection<1.0.0,>=0.0.1 in /Users/abhiramyanampally/miniconda3/lib/python3.12/site-packages (from thinc<8.3.0,>=8.2.2->spacy) (0.1.5)\r\n",
      "Requirement already satisfied: click>=8.0.0 in /Users/abhiramyanampally/miniconda3/lib/python3.12/site-packages (from typer<1.0.0,>=0.3.0->spacy) (8.1.7)\r\n",
      "Requirement already satisfied: shellingham>=1.3.0 in /Users/abhiramyanampally/miniconda3/lib/python3.12/site-packages (from typer<1.0.0,>=0.3.0->spacy) (1.5.4)\r\n",
      "Requirement already satisfied: rich>=10.11.0 in /Users/abhiramyanampally/miniconda3/lib/python3.12/site-packages (from typer<1.0.0,>=0.3.0->spacy) (13.7.1)\r\n",
      "Requirement already satisfied: cloudpathlib<1.0.0,>=0.7.0 in /Users/abhiramyanampally/miniconda3/lib/python3.12/site-packages (from weasel<0.5.0,>=0.1.0->spacy) (0.18.1)\r\n",
      "Requirement already satisfied: smart-open<8.0.0,>=5.2.1 in /Users/abhiramyanampally/miniconda3/lib/python3.12/site-packages (from weasel<0.5.0,>=0.1.0->spacy) (7.0.4)\r\n",
      "Requirement already satisfied: MarkupSafe>=2.0 in /Users/abhiramyanampally/miniconda3/lib/python3.12/site-packages (from jinja2->spacy) (2.1.3)\r\n",
      "Requirement already satisfied: marisa-trie>=0.7.7 in /Users/abhiramyanampally/miniconda3/lib/python3.12/site-packages (from language-data>=1.2->langcodes<4.0.0,>=3.2.0->spacy) (1.2.0)\r\n",
      "Requirement already satisfied: markdown-it-py>=2.2.0 in /Users/abhiramyanampally/miniconda3/lib/python3.12/site-packages (from rich>=10.11.0->typer<1.0.0,>=0.3.0->spacy) (3.0.0)\r\n",
      "Requirement already satisfied: pygments<3.0.0,>=2.13.0 in /Users/abhiramyanampally/miniconda3/lib/python3.12/site-packages (from rich>=10.11.0->typer<1.0.0,>=0.3.0->spacy) (2.15.1)\r\n",
      "Requirement already satisfied: wrapt in /Users/abhiramyanampally/miniconda3/lib/python3.12/site-packages (from smart-open<8.0.0,>=5.2.1->weasel<0.5.0,>=0.1.0->spacy) (1.16.0)\r\n",
      "Requirement already satisfied: mdurl~=0.1 in /Users/abhiramyanampally/miniconda3/lib/python3.12/site-packages (from markdown-it-py>=2.2.0->rich>=10.11.0->typer<1.0.0,>=0.3.0->spacy) (0.1.2)\r\n"
     ]
    }
   ],
   "execution_count": 13
  },
  {
   "metadata": {
    "ExecuteTime": {
     "end_time": "2024-08-12T15:55:30.803188Z",
     "start_time": "2024-08-12T15:55:27.992178Z"
    }
   },
   "cell_type": "code",
   "source": [
    "%pip install -U pip setuptools wheel\n",
    "%pip install -U 'spacy[apple]'"
   ],
   "id": "251ebd19bc20277d",
   "outputs": [
    {
     "name": "stdout",
     "output_type": "stream",
     "text": [
      "Requirement already satisfied: pip in /Users/abhiramyanampally/miniconda3/lib/python3.12/site-packages (24.2)\r\n",
      "Requirement already satisfied: setuptools in /Users/abhiramyanampally/miniconda3/lib/python3.12/site-packages (72.1.0)\r\n",
      "Requirement already satisfied: wheel in /Users/abhiramyanampally/miniconda3/lib/python3.12/site-packages (0.44.0)\r\n",
      "Note: you may need to restart the kernel to use updated packages.\n",
      "Requirement already satisfied: spacy[apple] in /Users/abhiramyanampally/miniconda3/lib/python3.12/site-packages (3.7.5)\r\n",
      "Requirement already satisfied: spacy-legacy<3.1.0,>=3.0.11 in /Users/abhiramyanampally/miniconda3/lib/python3.12/site-packages (from spacy[apple]) (3.0.12)\r\n",
      "Requirement already satisfied: spacy-loggers<2.0.0,>=1.0.0 in /Users/abhiramyanampally/miniconda3/lib/python3.12/site-packages (from spacy[apple]) (1.0.5)\r\n",
      "Requirement already satisfied: murmurhash<1.1.0,>=0.28.0 in /Users/abhiramyanampally/miniconda3/lib/python3.12/site-packages (from spacy[apple]) (1.0.10)\r\n",
      "Requirement already satisfied: cymem<2.1.0,>=2.0.2 in /Users/abhiramyanampally/miniconda3/lib/python3.12/site-packages (from spacy[apple]) (2.0.8)\r\n",
      "Requirement already satisfied: preshed<3.1.0,>=3.0.2 in /Users/abhiramyanampally/miniconda3/lib/python3.12/site-packages (from spacy[apple]) (3.0.9)\r\n",
      "Requirement already satisfied: thinc<8.3.0,>=8.2.2 in /Users/abhiramyanampally/miniconda3/lib/python3.12/site-packages (from spacy[apple]) (8.2.5)\r\n",
      "Requirement already satisfied: wasabi<1.2.0,>=0.9.1 in /Users/abhiramyanampally/miniconda3/lib/python3.12/site-packages (from spacy[apple]) (1.1.3)\r\n",
      "Requirement already satisfied: srsly<3.0.0,>=2.4.3 in /Users/abhiramyanampally/miniconda3/lib/python3.12/site-packages (from spacy[apple]) (2.4.8)\r\n",
      "Requirement already satisfied: catalogue<2.1.0,>=2.0.6 in /Users/abhiramyanampally/miniconda3/lib/python3.12/site-packages (from spacy[apple]) (2.0.10)\r\n",
      "Requirement already satisfied: weasel<0.5.0,>=0.1.0 in /Users/abhiramyanampally/miniconda3/lib/python3.12/site-packages (from spacy[apple]) (0.4.1)\r\n",
      "Requirement already satisfied: typer<1.0.0,>=0.3.0 in /Users/abhiramyanampally/miniconda3/lib/python3.12/site-packages (from spacy[apple]) (0.12.3)\r\n",
      "Requirement already satisfied: tqdm<5.0.0,>=4.38.0 in /Users/abhiramyanampally/miniconda3/lib/python3.12/site-packages (from spacy[apple]) (4.65.0)\r\n",
      "Requirement already satisfied: requests<3.0.0,>=2.13.0 in /Users/abhiramyanampally/miniconda3/lib/python3.12/site-packages (from spacy[apple]) (2.31.0)\r\n",
      "Requirement already satisfied: pydantic!=1.8,!=1.8.1,<3.0.0,>=1.7.4 in /Users/abhiramyanampally/miniconda3/lib/python3.12/site-packages (from spacy[apple]) (2.8.2)\r\n",
      "Requirement already satisfied: jinja2 in /Users/abhiramyanampally/miniconda3/lib/python3.12/site-packages (from spacy[apple]) (3.1.4)\r\n",
      "Requirement already satisfied: setuptools in /Users/abhiramyanampally/miniconda3/lib/python3.12/site-packages (from spacy[apple]) (72.1.0)\r\n",
      "Requirement already satisfied: packaging>=20.0 in /Users/abhiramyanampally/miniconda3/lib/python3.12/site-packages (from spacy[apple]) (23.2)\r\n",
      "Requirement already satisfied: langcodes<4.0.0,>=3.2.0 in /Users/abhiramyanampally/miniconda3/lib/python3.12/site-packages (from spacy[apple]) (3.4.0)\r\n",
      "Requirement already satisfied: numpy>=1.19.0 in /Users/abhiramyanampally/miniconda3/lib/python3.12/site-packages (from spacy[apple]) (1.26.4)\r\n",
      "Requirement already satisfied: thinc-apple-ops<1.0.0,>=0.1.0.dev0 in /Users/abhiramyanampally/miniconda3/lib/python3.12/site-packages (from spacy[apple]) (0.1.5)\r\n",
      "Requirement already satisfied: language-data>=1.2 in /Users/abhiramyanampally/miniconda3/lib/python3.12/site-packages (from langcodes<4.0.0,>=3.2.0->spacy[apple]) (1.2.0)\r\n",
      "Requirement already satisfied: annotated-types>=0.4.0 in /Users/abhiramyanampally/miniconda3/lib/python3.12/site-packages (from pydantic!=1.8,!=1.8.1,<3.0.0,>=1.7.4->spacy[apple]) (0.7.0)\r\n",
      "Requirement already satisfied: pydantic-core==2.20.1 in /Users/abhiramyanampally/miniconda3/lib/python3.12/site-packages (from pydantic!=1.8,!=1.8.1,<3.0.0,>=1.7.4->spacy[apple]) (2.20.1)\r\n",
      "Requirement already satisfied: typing-extensions>=4.6.1 in /Users/abhiramyanampally/miniconda3/lib/python3.12/site-packages (from pydantic!=1.8,!=1.8.1,<3.0.0,>=1.7.4->spacy[apple]) (4.11.0)\r\n",
      "Requirement already satisfied: charset-normalizer<4,>=2 in /Users/abhiramyanampally/miniconda3/lib/python3.12/site-packages (from requests<3.0.0,>=2.13.0->spacy[apple]) (2.0.4)\r\n",
      "Requirement already satisfied: idna<4,>=2.5 in /Users/abhiramyanampally/miniconda3/lib/python3.12/site-packages (from requests<3.0.0,>=2.13.0->spacy[apple]) (3.4)\r\n",
      "Requirement already satisfied: urllib3<3,>=1.21.1 in /Users/abhiramyanampally/miniconda3/lib/python3.12/site-packages (from requests<3.0.0,>=2.13.0->spacy[apple]) (2.1.0)\r\n",
      "Requirement already satisfied: certifi>=2017.4.17 in /Users/abhiramyanampally/miniconda3/lib/python3.12/site-packages (from requests<3.0.0,>=2.13.0->spacy[apple]) (2024.7.4)\r\n",
      "Requirement already satisfied: blis<0.8.0,>=0.7.8 in /Users/abhiramyanampally/miniconda3/lib/python3.12/site-packages (from thinc<8.3.0,>=8.2.2->spacy[apple]) (0.7.11)\r\n",
      "Requirement already satisfied: confection<1.0.0,>=0.0.1 in /Users/abhiramyanampally/miniconda3/lib/python3.12/site-packages (from thinc<8.3.0,>=8.2.2->spacy[apple]) (0.1.5)\r\n",
      "Requirement already satisfied: click>=8.0.0 in /Users/abhiramyanampally/miniconda3/lib/python3.12/site-packages (from typer<1.0.0,>=0.3.0->spacy[apple]) (8.1.7)\r\n",
      "Requirement already satisfied: shellingham>=1.3.0 in /Users/abhiramyanampally/miniconda3/lib/python3.12/site-packages (from typer<1.0.0,>=0.3.0->spacy[apple]) (1.5.4)\r\n",
      "Requirement already satisfied: rich>=10.11.0 in /Users/abhiramyanampally/miniconda3/lib/python3.12/site-packages (from typer<1.0.0,>=0.3.0->spacy[apple]) (13.7.1)\r\n",
      "Requirement already satisfied: cloudpathlib<1.0.0,>=0.7.0 in /Users/abhiramyanampally/miniconda3/lib/python3.12/site-packages (from weasel<0.5.0,>=0.1.0->spacy[apple]) (0.18.1)\r\n",
      "Requirement already satisfied: smart-open<8.0.0,>=5.2.1 in /Users/abhiramyanampally/miniconda3/lib/python3.12/site-packages (from weasel<0.5.0,>=0.1.0->spacy[apple]) (7.0.4)\r\n",
      "Requirement already satisfied: MarkupSafe>=2.0 in /Users/abhiramyanampally/miniconda3/lib/python3.12/site-packages (from jinja2->spacy[apple]) (2.1.3)\r\n",
      "Requirement already satisfied: marisa-trie>=0.7.7 in /Users/abhiramyanampally/miniconda3/lib/python3.12/site-packages (from language-data>=1.2->langcodes<4.0.0,>=3.2.0->spacy[apple]) (1.2.0)\r\n",
      "Requirement already satisfied: markdown-it-py>=2.2.0 in /Users/abhiramyanampally/miniconda3/lib/python3.12/site-packages (from rich>=10.11.0->typer<1.0.0,>=0.3.0->spacy[apple]) (3.0.0)\r\n",
      "Requirement already satisfied: pygments<3.0.0,>=2.13.0 in /Users/abhiramyanampally/miniconda3/lib/python3.12/site-packages (from rich>=10.11.0->typer<1.0.0,>=0.3.0->spacy[apple]) (2.15.1)\r\n",
      "Requirement already satisfied: wrapt in /Users/abhiramyanampally/miniconda3/lib/python3.12/site-packages (from smart-open<8.0.0,>=5.2.1->weasel<0.5.0,>=0.1.0->spacy[apple]) (1.16.0)\r\n",
      "Requirement already satisfied: mdurl~=0.1 in /Users/abhiramyanampally/miniconda3/lib/python3.12/site-packages (from markdown-it-py>=2.2.0->rich>=10.11.0->typer<1.0.0,>=0.3.0->spacy[apple]) (0.1.2)\r\n",
      "Note: you may need to restart the kernel to use updated packages.\n"
     ]
    }
   ],
   "execution_count": 14
  },
  {
   "metadata": {},
   "cell_type": "markdown",
   "source": "",
   "id": "627e721b2cc720d4"
  },
  {
   "metadata": {
    "ExecuteTime": {
     "end_time": "2024-08-12T15:56:06.591180Z",
     "start_time": "2024-08-12T15:55:30.804431Z"
    }
   },
   "cell_type": "code",
   "source": "!python -m spacy download en_core_web_sm",
   "id": "6c8a33dab9722964",
   "outputs": [
    {
     "name": "stdout",
     "output_type": "stream",
     "text": [
      "Collecting en-core-web-sm==3.7.1\r\n",
      "  Downloading https://github.com/explosion/spacy-models/releases/download/en_core_web_sm-3.7.1/en_core_web_sm-3.7.1-py3-none-any.whl (12.8 MB)\r\n",
      "\u001B[2K     \u001B[90m━━━━━━━━━━━━━━━━━━━━━━━━━━━━━━━━━━━━━━━\u001B[0m \u001B[32m12.8/12.8 MB\u001B[0m \u001B[31m523.0 kB/s\u001B[0m eta \u001B[36m0:00:00\u001B[0m00:01\u001B[0m00:01\u001B[0m\r\n",
      "\u001B[?25hRequirement already satisfied: spacy<3.8.0,>=3.7.2 in /Users/abhiramyanampally/miniconda3/lib/python3.12/site-packages (from en-core-web-sm==3.7.1) (3.7.5)\r\n",
      "Requirement already satisfied: spacy-legacy<3.1.0,>=3.0.11 in /Users/abhiramyanampally/miniconda3/lib/python3.12/site-packages (from spacy<3.8.0,>=3.7.2->en-core-web-sm==3.7.1) (3.0.12)\r\n",
      "Requirement already satisfied: spacy-loggers<2.0.0,>=1.0.0 in /Users/abhiramyanampally/miniconda3/lib/python3.12/site-packages (from spacy<3.8.0,>=3.7.2->en-core-web-sm==3.7.1) (1.0.5)\r\n",
      "Requirement already satisfied: murmurhash<1.1.0,>=0.28.0 in /Users/abhiramyanampally/miniconda3/lib/python3.12/site-packages (from spacy<3.8.0,>=3.7.2->en-core-web-sm==3.7.1) (1.0.10)\r\n",
      "Requirement already satisfied: cymem<2.1.0,>=2.0.2 in /Users/abhiramyanampally/miniconda3/lib/python3.12/site-packages (from spacy<3.8.0,>=3.7.2->en-core-web-sm==3.7.1) (2.0.8)\r\n",
      "Requirement already satisfied: preshed<3.1.0,>=3.0.2 in /Users/abhiramyanampally/miniconda3/lib/python3.12/site-packages (from spacy<3.8.0,>=3.7.2->en-core-web-sm==3.7.1) (3.0.9)\r\n",
      "Requirement already satisfied: thinc<8.3.0,>=8.2.2 in /Users/abhiramyanampally/miniconda3/lib/python3.12/site-packages (from spacy<3.8.0,>=3.7.2->en-core-web-sm==3.7.1) (8.2.5)\r\n",
      "Requirement already satisfied: wasabi<1.2.0,>=0.9.1 in /Users/abhiramyanampally/miniconda3/lib/python3.12/site-packages (from spacy<3.8.0,>=3.7.2->en-core-web-sm==3.7.1) (1.1.3)\r\n",
      "Requirement already satisfied: srsly<3.0.0,>=2.4.3 in /Users/abhiramyanampally/miniconda3/lib/python3.12/site-packages (from spacy<3.8.0,>=3.7.2->en-core-web-sm==3.7.1) (2.4.8)\r\n",
      "Requirement already satisfied: catalogue<2.1.0,>=2.0.6 in /Users/abhiramyanampally/miniconda3/lib/python3.12/site-packages (from spacy<3.8.0,>=3.7.2->en-core-web-sm==3.7.1) (2.0.10)\r\n",
      "Requirement already satisfied: weasel<0.5.0,>=0.1.0 in /Users/abhiramyanampally/miniconda3/lib/python3.12/site-packages (from spacy<3.8.0,>=3.7.2->en-core-web-sm==3.7.1) (0.4.1)\r\n",
      "Requirement already satisfied: typer<1.0.0,>=0.3.0 in /Users/abhiramyanampally/miniconda3/lib/python3.12/site-packages (from spacy<3.8.0,>=3.7.2->en-core-web-sm==3.7.1) (0.12.3)\r\n",
      "Requirement already satisfied: tqdm<5.0.0,>=4.38.0 in /Users/abhiramyanampally/miniconda3/lib/python3.12/site-packages (from spacy<3.8.0,>=3.7.2->en-core-web-sm==3.7.1) (4.65.0)\r\n",
      "Requirement already satisfied: requests<3.0.0,>=2.13.0 in /Users/abhiramyanampally/miniconda3/lib/python3.12/site-packages (from spacy<3.8.0,>=3.7.2->en-core-web-sm==3.7.1) (2.31.0)\r\n",
      "Requirement already satisfied: pydantic!=1.8,!=1.8.1,<3.0.0,>=1.7.4 in /Users/abhiramyanampally/miniconda3/lib/python3.12/site-packages (from spacy<3.8.0,>=3.7.2->en-core-web-sm==3.7.1) (2.8.2)\r\n",
      "Requirement already satisfied: jinja2 in /Users/abhiramyanampally/miniconda3/lib/python3.12/site-packages (from spacy<3.8.0,>=3.7.2->en-core-web-sm==3.7.1) (3.1.4)\r\n",
      "Requirement already satisfied: setuptools in /Users/abhiramyanampally/miniconda3/lib/python3.12/site-packages (from spacy<3.8.0,>=3.7.2->en-core-web-sm==3.7.1) (72.1.0)\r\n",
      "Requirement already satisfied: packaging>=20.0 in /Users/abhiramyanampally/miniconda3/lib/python3.12/site-packages (from spacy<3.8.0,>=3.7.2->en-core-web-sm==3.7.1) (23.2)\r\n",
      "Requirement already satisfied: langcodes<4.0.0,>=3.2.0 in /Users/abhiramyanampally/miniconda3/lib/python3.12/site-packages (from spacy<3.8.0,>=3.7.2->en-core-web-sm==3.7.1) (3.4.0)\r\n",
      "Requirement already satisfied: numpy>=1.19.0 in /Users/abhiramyanampally/miniconda3/lib/python3.12/site-packages (from spacy<3.8.0,>=3.7.2->en-core-web-sm==3.7.1) (1.26.4)\r\n",
      "Requirement already satisfied: language-data>=1.2 in /Users/abhiramyanampally/miniconda3/lib/python3.12/site-packages (from langcodes<4.0.0,>=3.2.0->spacy<3.8.0,>=3.7.2->en-core-web-sm==3.7.1) (1.2.0)\r\n",
      "Requirement already satisfied: annotated-types>=0.4.0 in /Users/abhiramyanampally/miniconda3/lib/python3.12/site-packages (from pydantic!=1.8,!=1.8.1,<3.0.0,>=1.7.4->spacy<3.8.0,>=3.7.2->en-core-web-sm==3.7.1) (0.7.0)\r\n",
      "Requirement already satisfied: pydantic-core==2.20.1 in /Users/abhiramyanampally/miniconda3/lib/python3.12/site-packages (from pydantic!=1.8,!=1.8.1,<3.0.0,>=1.7.4->spacy<3.8.0,>=3.7.2->en-core-web-sm==3.7.1) (2.20.1)\r\n",
      "Requirement already satisfied: typing-extensions>=4.6.1 in /Users/abhiramyanampally/miniconda3/lib/python3.12/site-packages (from pydantic!=1.8,!=1.8.1,<3.0.0,>=1.7.4->spacy<3.8.0,>=3.7.2->en-core-web-sm==3.7.1) (4.11.0)\r\n",
      "Requirement already satisfied: charset-normalizer<4,>=2 in /Users/abhiramyanampally/miniconda3/lib/python3.12/site-packages (from requests<3.0.0,>=2.13.0->spacy<3.8.0,>=3.7.2->en-core-web-sm==3.7.1) (2.0.4)\r\n",
      "Requirement already satisfied: idna<4,>=2.5 in /Users/abhiramyanampally/miniconda3/lib/python3.12/site-packages (from requests<3.0.0,>=2.13.0->spacy<3.8.0,>=3.7.2->en-core-web-sm==3.7.1) (3.4)\r\n",
      "Requirement already satisfied: urllib3<3,>=1.21.1 in /Users/abhiramyanampally/miniconda3/lib/python3.12/site-packages (from requests<3.0.0,>=2.13.0->spacy<3.8.0,>=3.7.2->en-core-web-sm==3.7.1) (2.1.0)\r\n",
      "Requirement already satisfied: certifi>=2017.4.17 in /Users/abhiramyanampally/miniconda3/lib/python3.12/site-packages (from requests<3.0.0,>=2.13.0->spacy<3.8.0,>=3.7.2->en-core-web-sm==3.7.1) (2024.7.4)\r\n",
      "Requirement already satisfied: blis<0.8.0,>=0.7.8 in /Users/abhiramyanampally/miniconda3/lib/python3.12/site-packages (from thinc<8.3.0,>=8.2.2->spacy<3.8.0,>=3.7.2->en-core-web-sm==3.7.1) (0.7.11)\r\n",
      "Requirement already satisfied: confection<1.0.0,>=0.0.1 in /Users/abhiramyanampally/miniconda3/lib/python3.12/site-packages (from thinc<8.3.0,>=8.2.2->spacy<3.8.0,>=3.7.2->en-core-web-sm==3.7.1) (0.1.5)\r\n",
      "Requirement already satisfied: click>=8.0.0 in /Users/abhiramyanampally/miniconda3/lib/python3.12/site-packages (from typer<1.0.0,>=0.3.0->spacy<3.8.0,>=3.7.2->en-core-web-sm==3.7.1) (8.1.7)\r\n",
      "Requirement already satisfied: shellingham>=1.3.0 in /Users/abhiramyanampally/miniconda3/lib/python3.12/site-packages (from typer<1.0.0,>=0.3.0->spacy<3.8.0,>=3.7.2->en-core-web-sm==3.7.1) (1.5.4)\r\n",
      "Requirement already satisfied: rich>=10.11.0 in /Users/abhiramyanampally/miniconda3/lib/python3.12/site-packages (from typer<1.0.0,>=0.3.0->spacy<3.8.0,>=3.7.2->en-core-web-sm==3.7.1) (13.7.1)\r\n",
      "Requirement already satisfied: cloudpathlib<1.0.0,>=0.7.0 in /Users/abhiramyanampally/miniconda3/lib/python3.12/site-packages (from weasel<0.5.0,>=0.1.0->spacy<3.8.0,>=3.7.2->en-core-web-sm==3.7.1) (0.18.1)\r\n",
      "Requirement already satisfied: smart-open<8.0.0,>=5.2.1 in /Users/abhiramyanampally/miniconda3/lib/python3.12/site-packages (from weasel<0.5.0,>=0.1.0->spacy<3.8.0,>=3.7.2->en-core-web-sm==3.7.1) (7.0.4)\r\n",
      "Requirement already satisfied: MarkupSafe>=2.0 in /Users/abhiramyanampally/miniconda3/lib/python3.12/site-packages (from jinja2->spacy<3.8.0,>=3.7.2->en-core-web-sm==3.7.1) (2.1.3)\r\n",
      "Requirement already satisfied: marisa-trie>=0.7.7 in /Users/abhiramyanampally/miniconda3/lib/python3.12/site-packages (from language-data>=1.2->langcodes<4.0.0,>=3.2.0->spacy<3.8.0,>=3.7.2->en-core-web-sm==3.7.1) (1.2.0)\r\n",
      "Requirement already satisfied: markdown-it-py>=2.2.0 in /Users/abhiramyanampally/miniconda3/lib/python3.12/site-packages (from rich>=10.11.0->typer<1.0.0,>=0.3.0->spacy<3.8.0,>=3.7.2->en-core-web-sm==3.7.1) (3.0.0)\r\n",
      "Requirement already satisfied: pygments<3.0.0,>=2.13.0 in /Users/abhiramyanampally/miniconda3/lib/python3.12/site-packages (from rich>=10.11.0->typer<1.0.0,>=0.3.0->spacy<3.8.0,>=3.7.2->en-core-web-sm==3.7.1) (2.15.1)\r\n",
      "Requirement already satisfied: wrapt in /Users/abhiramyanampally/miniconda3/lib/python3.12/site-packages (from smart-open<8.0.0,>=5.2.1->weasel<0.5.0,>=0.1.0->spacy<3.8.0,>=3.7.2->en-core-web-sm==3.7.1) (1.16.0)\r\n",
      "Requirement already satisfied: mdurl~=0.1 in /Users/abhiramyanampally/miniconda3/lib/python3.12/site-packages (from markdown-it-py>=2.2.0->rich>=10.11.0->typer<1.0.0,>=0.3.0->spacy<3.8.0,>=3.7.2->en-core-web-sm==3.7.1) (0.1.2)\r\n",
      "\u001B[38;5;2m✔ Download and installation successful\u001B[0m\r\n",
      "You can now load the package via spacy.load('en_core_web_sm')\r\n"
     ]
    }
   ],
   "execution_count": 15
  },
  {
   "metadata": {
    "ExecuteTime": {
     "end_time": "2024-08-12T15:56:07.501097Z",
     "start_time": "2024-08-12T15:56:06.595267Z"
    }
   },
   "cell_type": "code",
   "source": [
    "import spacy\n",
    "import srsly\n",
    "\n",
    "# Load the pre-trained spaCy model\n",
    "nlp = spacy.load('en_core_web_sm')\n",
    "\n",
    "# Load the data from the train.jsonl file\n",
    "file_path = 'train.jsonl'\n",
    "data = srsly.read_jsonl(file_path)\n",
    "\n",
    "# Initialize a blank English model and add an EntityRuler\n",
    "nlp_blank = spacy.blank(\"en\")\n",
    "ruler = nlp_blank.add_pipe(\"entity_ruler\")\n",
    "\n",
    "# Iterate over the data and add patterns for the location mentions\n",
    "patterns = []\n",
    "corpus = []\n",
    "for item in data:\n",
    "    text = item[\"text\"]\n",
    "    location_mentions = item[\"location_mentions\"]\n",
    "\n",
    "    # Add the text to the corpus for later processing\n",
    "    corpus.append(text)\n",
    "\n",
    "    # Add patterns for each location mention\n",
    "    for loc in location_mentions:\n",
    "        pattern = {\"label\": \"LOC\", \"pattern\": loc[\"text\"]}\n",
    "        patterns.append(pattern)\n",
    "\n",
    "ruler.add_patterns(patterns)\n",
    "\n",
    "# Generate TRAIN_DATA\n",
    "TRAIN_DATA = []\n",
    "for sentence in corpus:\n",
    "    doc = nlp_blank(sentence)\n",
    "    entities = []\n",
    "\n",
    "    for ent in doc.ents:\n",
    "        entities.append((ent.start_char, ent.end_char, ent.label_))\n",
    "\n",
    "    if entities:\n",
    "        TRAIN_DATA.append((sentence, {\"entities\": entities}))\n",
    "\n",
    "\n"
   ],
   "id": "5a874c59f613208c",
   "outputs": [],
   "execution_count": 16
  },
  {
   "metadata": {
    "ExecuteTime": {
     "end_time": "2024-08-12T15:56:07.506440Z",
     "start_time": "2024-08-12T15:56:07.501865Z"
    }
   },
   "cell_type": "code",
   "source": [
    "import srsly\n",
    "import typer\n",
    "import warnings\n",
    "from pathlib import Path\n",
    "\n",
    "import spacy\n",
    "from spacy.tokens import DocBin\n",
    "\n",
    "def convert(lang: str, TRAIN_DATA, output_path: Path):\n",
    "    nlp = spacy.blank(lang)\n",
    "    db = DocBin()\n",
    "    for text, annot in TRAIN_DATA:\n",
    "        doc = nlp.make_doc(text)\n",
    "        ents = []\n",
    "        i=0\n",
    "        for start, end, label in annot[\"entities\"]:\n",
    "            i+=1\n",
    "            print(start, end, label, i)\n",
    "            span = doc.char_span(start, end, label=label)\n",
    "            if span is None:\n",
    "                msg = f\"Skipping entity [{start}, {end}, {label}] in the following text because the character span '{doc.text[start:end]}' does not align with token boundaries:\\n\\n{repr(text)}\\n\"\n",
    "                warnings.warn(msg)\n",
    "            else:\n",
    "                ents.append(span)\n",
    "        doc.ents = ents\n",
    "        db.add(doc)\n",
    "    db.to_disk(output_path)"
   ],
   "id": "813dbc7e0feff4d1",
   "outputs": [],
   "execution_count": 17
  },
  {
   "metadata": {
    "ExecuteTime": {
     "end_time": "2024-08-12T15:56:07.905555Z",
     "start_time": "2024-08-12T15:56:07.507850Z"
    }
   },
   "cell_type": "code",
   "source": "convert(lang=\"en\", TRAIN_DATA=TRAIN_DATA, output_path=Path(\"./train.spacy\"))",
   "id": "ee9548c83b04f598",
   "outputs": [
    {
     "name": "stdout",
     "output_type": "stream",
     "text": [
      "118 120 LOC 1\n",
      "130 140 LOC 2\n",
      "46 52 LOC 1\n",
      "87 106 LOC 2\n",
      "218 228 LOC 1\n",
      "87 93 LOC 1\n",
      "95 105 LOC 2\n",
      "56 75 LOC 1\n",
      "13 19 LOC 1\n",
      "66 85 LOC 2\n",
      "20 30 LOC 1\n",
      "18 28 LOC 1\n",
      "91 101 LOC 2\n",
      "17 27 LOC 1\n",
      "46 56 LOC 2\n",
      "11 23 LOC 1\n",
      "60 79 LOC 1\n",
      "81 93 LOC 2\n",
      "63 73 LOC 1\n",
      "115 121 LOC 2\n",
      "17 25 LOC 1\n",
      "26 36 LOC 2\n",
      "30 40 LOC 1\n",
      "21 31 LOC 1\n",
      "0 19 LOC 1\n",
      "174 193 LOC 1\n",
      "56 66 LOC 1\n",
      "59 78 LOC 1\n",
      "8 18 LOC 1\n",
      "71 82 LOC 2\n",
      "130 138 LOC 3\n",
      "59 70 LOC 1\n",
      "71 85 LOC 2\n",
      "94 96 LOC 3\n",
      "165 171 LOC 4\n",
      "243 254 LOC 5\n",
      "60 71 LOC 1\n",
      "59 69 LOC 1\n",
      "100 110 LOC 2\n",
      "28 38 LOC 1\n",
      "89 97 LOC 1\n",
      "57 67 LOC 1\n",
      "76 84 LOC 2\n",
      "47 57 LOC 1\n",
      "12 22 LOC 1\n",
      "29 39 LOC 1\n",
      "89 95 LOC 2\n",
      "1 3 LOC 1\n",
      "123 133 LOC 2\n",
      "160 168 LOC 3\n",
      "0 5 LOC 1\n",
      "10 17 LOC 2\n",
      "79 81 LOC 3\n",
      "86 97 LOC 4\n",
      "56 75 LOC 1\n",
      "143 149 LOC 2\n",
      "65 75 LOC 1\n",
      "59 69 LOC 1\n",
      "51 61 LOC 1\n",
      "34 44 LOC 1\n",
      "179 187 LOC 2\n",
      "189 191 LOC 3\n",
      "202 212 LOC 4\n",
      "224 232 LOC 5\n",
      "19 29 LOC 1\n",
      "69 79 LOC 1\n",
      "0 10 LOC 1\n",
      "5 13 LOC 1\n",
      "26 36 LOC 2\n",
      "71 79 LOC 3\n",
      "0 8 LOC 1\n",
      "34 47 LOC 2\n",
      "90 100 LOC 3\n",
      "61 69 LOC 1\n",
      "250 260 LOC 2\n",
      "109 119 LOC 1\n",
      "77 85 LOC 1\n",
      "138 146 LOC 2\n",
      "148 153 LOC 3\n",
      "155 163 LOC 4\n",
      "165 175 LOC 5\n",
      "213 219 LOC 6\n",
      "241 247 LOC 7\n",
      "48 58 LOC 1\n",
      "96 104 LOC 1\n",
      "178 187 LOC 2\n",
      "0 10 LOC 1\n",
      "39 47 LOC 1\n",
      "49 51 LOC 2\n",
      "218 228 LOC 1\n",
      "193 198 LOC 1\n",
      "17 36 LOC 1\n",
      "42 50 LOC 1\n",
      "74 82 LOC 2\n",
      "157 167 LOC 3\n",
      "13 32 LOC 1\n",
      "8 18 LOC 1\n",
      "108 116 LOC 2\n",
      "71 85 LOC 1\n",
      "87 97 LOC 2\n",
      "42 61 LOC 1\n",
      "69 79 LOC 1\n",
      "15 34 LOC 1\n",
      "12 20 LOC 1\n",
      "32 43 LOC 2\n",
      "53 63 LOC 1\n",
      "141 149 LOC 2\n",
      "0 10 LOC 1\n",
      "5 13 LOC 1\n",
      "17 27 LOC 2\n",
      "95 105 LOC 3\n",
      "49 57 LOC 1\n",
      "33 43 LOC 1\n",
      "56 66 LOC 1\n",
      "88 93 LOC 1\n",
      "94 104 LOC 2\n",
      "123 131 LOC 3\n",
      "249 259 LOC 4\n",
      "50 60 LOC 1\n",
      "27 37 LOC 1\n",
      "157 165 LOC 2\n",
      "51 70 LOC 1\n",
      "117 125 LOC 1\n",
      "17 27 LOC 1\n",
      "167 177 LOC 1\n",
      "94 102 LOC 1\n",
      "107 114 LOC 2\n",
      "106 116 LOC 1\n",
      "174 179 LOC 2\n",
      "187 195 LOC 3\n",
      "59 69 LOC 1\n",
      "119 121 LOC 1\n",
      "96 104 LOC 1\n",
      "106 108 LOC 2\n",
      "65 84 LOC 1\n",
      "125 135 LOC 1\n",
      "92 101 LOC 1\n",
      "63 82 LOC 1\n",
      "127 137 LOC 2\n",
      "23 33 LOC 1\n",
      "79 89 LOC 1\n",
      "43 53 LOC 1\n",
      "31 41 LOC 1\n",
      "10 21 LOC 1\n",
      "110 120 LOC 2\n",
      "208 216 LOC 3\n",
      "0 10 LOC 1\n",
      "70 80 LOC 2\n",
      "33 43 LOC 1\n",
      "144 166 LOC 2\n",
      "259 267 LOC 3\n",
      "36 46 LOC 1\n",
      "11 21 LOC 1\n",
      "49 59 LOC 1\n",
      "144 153 LOC 2\n",
      "199 217 LOC 3\n",
      "221 227 LOC 4\n",
      "229 231 LOC 5\n",
      "266 275 LOC 6\n",
      "43 53 LOC 1\n",
      "146 156 LOC 1\n",
      "20 40 LOC 1\n",
      "42 50 LOC 2\n",
      "12 31 LOC 1\n",
      "39 41 LOC 2\n",
      "10 16 LOC 1\n",
      "68 78 LOC 2\n",
      "91 101 LOC 1\n",
      "123 134 LOC 2\n",
      "170 179 LOC 1\n",
      "49 59 LOC 1\n",
      "71 79 LOC 1\n",
      "95 105 LOC 1\n",
      "52 59 LOC 1\n",
      "1 11 LOC 1\n",
      "48 62 LOC 1\n",
      "67 80 LOC 2\n",
      "91 93 LOC 1\n",
      "47 66 LOC 1\n",
      "71 85 LOC 2\n",
      "145 154 LOC 3\n",
      "136 146 LOC 1\n",
      "171 177 LOC 2\n",
      "203 213 LOC 3\n",
      "133 143 LOC 1\n",
      "63 69 LOC 1\n",
      "71 84 LOC 2\n",
      "97 108 LOC 1\n",
      "32 42 LOC 1\n",
      "72 82 LOC 1\n",
      "97 107 LOC 1\n",
      "0 10 LOC 1\n",
      "0 10 LOC 1\n",
      "14 24 LOC 1\n",
      "0 10 LOC 1\n",
      "130 140 LOC 1\n",
      "45 64 LOC 1\n",
      "179 190 LOC 2\n",
      "192 205 LOC 3\n",
      "210 224 LOC 4\n",
      "61 80 LOC 1\n",
      "30 38 LOC 1\n",
      "39 49 LOC 1\n",
      "26 36 LOC 1\n",
      "18 28 LOC 1\n",
      "37 47 LOC 1\n",
      "24 43 LOC 1\n",
      "62 72 LOC 1\n",
      "43 53 LOC 1\n",
      "16 24 LOC 1\n",
      "28 47 LOC 2\n",
      "112 123 LOC 3\n",
      "16 26 LOC 1\n",
      "4 16 LOC 1\n",
      "63 73 LOC 1\n",
      "31 41 LOC 1\n",
      "43 63 LOC 1\n",
      "34 40 LOC 1\n",
      "0 12 LOC 1\n",
      "245 255 LOC 2\n",
      "127 137 LOC 1\n",
      "43 62 LOC 1\n",
      "72 82 LOC 1\n",
      "36 44 LOC 1\n",
      "45 55 LOC 2\n",
      "163 171 LOC 3\n",
      "29 35 LOC 1\n",
      "63 73 LOC 1\n",
      "11 21 LOC 1\n",
      "103 122 LOC 2\n",
      "159 169 LOC 1\n",
      "11 13 LOC 1\n",
      "16 22 LOC 2\n",
      "24 34 LOC 3\n",
      "44 54 LOC 1\n",
      "59 69 LOC 1\n",
      "1 9 LOC 1\n",
      "20 30 LOC 2\n",
      "29 39 LOC 1\n",
      "204 210 LOC 2\n",
      "32 42 LOC 1\n",
      "123 131 LOC 2\n",
      "66 72 LOC 1\n",
      "80 90 LOC 2\n",
      "29 49 LOC 1\n",
      "76 84 LOC 2\n",
      "45 56 LOC 1\n",
      "55 64 LOC 1\n",
      "117 127 LOC 2\n",
      "46 56 LOC 1\n",
      "0 33 LOC 1\n",
      "62 102 LOC 2\n",
      "53 72 LOC 1\n",
      "58 66 LOC 1\n",
      "83 94 LOC 2\n",
      "0 11 LOC 1\n",
      "108 127 LOC 1\n",
      "45 53 LOC 1\n",
      "122 128 LOC 2\n",
      "14 33 LOC 1\n",
      "67 72 LOC 1\n",
      "49 59 LOC 1\n",
      "72 74 LOC 1\n",
      "241 251 LOC 2\n",
      "43 53 LOC 1\n",
      "119 129 LOC 1\n",
      "1 11 LOC 1\n",
      "64 74 LOC 2\n",
      "63 73 LOC 1\n",
      "14 24 LOC 1\n",
      "26 37 LOC 1\n",
      "44 54 LOC 1\n",
      "37 47 LOC 1\n",
      "71 90 LOC 1\n",
      "34 45 LOC 1\n",
      "33 43 LOC 1\n",
      "91 101 LOC 1\n",
      "11 21 LOC 1\n",
      "139 156 LOC 2\n",
      "50 60 LOC 1\n",
      "70 80 LOC 1\n",
      "67 77 LOC 1\n",
      "17 36 LOC 1\n",
      "39 51 LOC 2\n",
      "133 143 LOC 1\n",
      "103 113 LOC 1\n",
      "51 59 LOC 1\n",
      "29 39 LOC 1\n",
      "94 113 LOC 1\n",
      "78 80 LOC 1\n",
      "126 136 LOC 2\n",
      "104 114 LOC 1\n",
      "225 232 LOC 2\n",
      "26 36 LOC 1\n",
      "49 57 LOC 1\n",
      "58 68 LOC 2\n",
      "13 23 LOC 1\n",
      "185 195 LOC 1\n",
      "40 50 LOC 1\n",
      "61 63 LOC 1\n",
      "40 50 LOC 1\n",
      "57 72 LOC 1\n",
      "23 33 LOC 1\n",
      "31 41 LOC 1\n",
      "94 102 LOC 2\n",
      "103 112 LOC 3\n",
      "113 123 LOC 4\n",
      "69 77 LOC 1\n",
      "79 89 LOC 2\n",
      "17 27 LOC 1\n",
      "88 98 LOC 1\n",
      "127 146 LOC 1\n",
      "25 31 LOC 1\n",
      "58 68 LOC 2\n",
      "42 52 LOC 1\n",
      "63 73 LOC 1\n",
      "26 36 LOC 1\n",
      "189 199 LOC 1\n",
      "68 78 LOC 1\n",
      "91 99 LOC 1\n",
      "100 102 LOC 2\n",
      "103 113 LOC 1\n",
      "16 24 LOC 1\n",
      "132 140 LOC 2\n",
      "155 163 LOC 3\n",
      "228 234 LOC 4\n",
      "236 246 LOC 5\n",
      "18 28 LOC 1\n",
      "24 34 LOC 1\n",
      "50 60 LOC 1\n",
      "119 121 LOC 2\n",
      "7 17 LOC 1\n",
      "41 47 LOC 2\n",
      "127 129 LOC 1\n",
      "76 86 LOC 1\n",
      "16 26 LOC 1\n",
      "157 167 LOC 2\n",
      "20 26 LOC 1\n",
      "62 72 LOC 1\n",
      "54 73 LOC 1\n",
      "43 54 LOC 1\n",
      "59 66 LOC 2\n",
      "159 178 LOC 3\n",
      "28 38 LOC 1\n",
      "130 138 LOC 2\n",
      "12 20 LOC 1\n",
      "0 8 LOC 1\n",
      "10 20 LOC 2\n",
      "123 135 LOC 3\n",
      "53 61 LOC 1\n",
      "63 73 LOC 2\n",
      "110 120 LOC 3\n",
      "22 32 LOC 1\n",
      "77 79 LOC 1\n",
      "120 130 LOC 1\n",
      "22 41 LOC 1\n",
      "71 82 LOC 1\n",
      "14 24 LOC 1\n",
      "104 114 LOC 1\n",
      "138 151 LOC 2\n",
      "198 204 LOC 3\n",
      "39 49 LOC 1\n",
      "43 53 LOC 1\n",
      "55 74 LOC 1\n",
      "74 93 LOC 1\n",
      "20 28 LOC 1\n",
      "62 72 LOC 1\n",
      "0 10 LOC 1\n",
      "26 34 LOC 1\n",
      "100 110 LOC 2\n",
      "0 10 LOC 1\n",
      "119 121 LOC 2\n",
      "0 10 LOC 1\n",
      "19 38 LOC 1\n",
      "0 10 LOC 1\n",
      "65 67 LOC 2\n",
      "37 47 LOC 1\n",
      "0 11 LOC 1\n",
      "50 60 LOC 2\n",
      "118 123 LOC 3\n",
      "165 175 LOC 4\n",
      "0 10 LOC 1\n",
      "0 10 LOC 1\n",
      "92 102 LOC 2\n",
      "90 109 LOC 1\n",
      "33 43 LOC 1\n",
      "102 110 LOC 2\n",
      "17 27 LOC 1\n",
      "22 30 LOC 1\n",
      "79 89 LOC 2\n",
      "1 9 LOC 1\n",
      "63 76 LOC 2\n",
      "102 112 LOC 3\n",
      "25 35 LOC 1\n",
      "21 27 LOC 1\n",
      "44 54 LOC 2\n",
      "22 41 LOC 1\n",
      "1 11 LOC 1\n",
      "31 41 LOC 1\n",
      "140 156 LOC 2\n",
      "158 168 LOC 3\n",
      "25 35 LOC 1\n",
      "0 10 LOC 1\n",
      "0 10 LOC 1\n",
      "56 66 LOC 1\n",
      "42 52 LOC 1\n",
      "146 151 LOC 2\n",
      "155 174 LOC 3\n",
      "49 59 LOC 1\n",
      "37 47 LOC 1\n",
      "56 66 LOC 1\n",
      "106 116 LOC 2\n",
      "179 183 LOC 3\n",
      "26 36 LOC 1\n",
      "110 120 LOC 1\n",
      "127 136 LOC 2\n",
      "49 51 LOC 1\n",
      "52 62 LOC 1\n",
      "18 38 LOC 1\n",
      "122 132 LOC 2\n",
      "152 160 LOC 3\n",
      "217 220 LOC 4\n",
      "85 95 LOC 1\n",
      "13 17 LOC 1\n",
      "0 8 LOC 1\n",
      "27 37 LOC 2\n",
      "35 45 LOC 1\n",
      "4 14 LOC 1\n",
      "135 141 LOC 2\n",
      "223 231 LOC 1\n",
      "23 42 LOC 1\n",
      "19 29 LOC 1\n",
      "30 40 LOC 1\n",
      "44 54 LOC 1\n",
      "55 65 LOC 1\n",
      "17 27 LOC 1\n",
      "16 27 LOC 1\n",
      "81 91 LOC 1\n",
      "13 23 LOC 1\n",
      "3 13 LOC 1\n",
      "67 77 LOC 1\n",
      "42 52 LOC 1\n",
      "117 125 LOC 2\n",
      "127 129 LOC 3\n",
      "193 203 LOC 4\n",
      "97 107 LOC 1\n",
      "136 142 LOC 2\n",
      "31 41 LOC 1\n",
      "22 32 LOC 1\n",
      "15 25 LOC 1\n",
      "42 50 LOC 2\n",
      "14 33 LOC 1\n",
      "161 171 LOC 1\n",
      "212 222 LOC 1\n",
      "73 81 LOC 1\n",
      "31 50 LOC 1\n",
      "42 50 LOC 1\n",
      "52 62 LOC 2\n",
      "72 80 LOC 3\n",
      "142 161 LOC 4\n",
      "122 134 LOC 1\n",
      "0 10 LOC 1\n",
      "30 38 LOC 2\n",
      "71 81 LOC 1\n",
      "17 27 LOC 1\n",
      "50 58 LOC 1\n",
      "60 70 LOC 2\n",
      "145 155 LOC 3\n",
      "1 11 LOC 1\n",
      "123 125 LOC 2\n",
      "66 72 LOC 1\n",
      "87 99 LOC 2\n",
      "205 215 LOC 3\n",
      "77 87 LOC 1\n",
      "60 70 LOC 1\n",
      "0 8 LOC 1\n",
      "78 88 LOC 2\n",
      "37 49 LOC 1\n",
      "64 74 LOC 1\n",
      "135 148 LOC 1\n",
      "25 35 LOC 1\n",
      "38 48 LOC 1\n",
      "16 24 LOC 1\n",
      "62 72 LOC 2\n",
      "14 24 LOC 1\n",
      "47 55 LOC 2\n",
      "104 114 LOC 3\n",
      "27 47 LOC 1\n",
      "49 57 LOC 2\n",
      "108 112 LOC 3\n",
      "126 138 LOC 4\n",
      "67 75 LOC 1\n",
      "88 100 LOC 2\n",
      "102 112 LOC 3\n",
      "37 56 LOC 1\n",
      "50 60 LOC 1\n",
      "90 98 LOC 2\n",
      "10 20 LOC 1\n",
      "125 133 LOC 1\n",
      "32 51 LOC 1\n",
      "57 76 LOC 1\n",
      "14 24 LOC 1\n",
      "37 49 LOC 1\n",
      "86 94 LOC 2\n",
      "31 41 LOC 1\n",
      "133 143 LOC 1\n",
      "103 113 LOC 1\n",
      "53 63 LOC 1\n",
      "23 42 LOC 1\n",
      "71 83 LOC 2\n",
      "16 35 LOC 1\n",
      "37 56 LOC 1\n",
      "19 27 LOC 1\n",
      "29 35 LOC 2\n",
      "81 100 LOC 3\n",
      "34 44 LOC 1\n",
      "149 159 LOC 1\n",
      "49 60 LOC 1\n",
      "16 35 LOC 1\n",
      "89 100 LOC 2\n",
      "41 52 LOC 1\n",
      "14 34 LOC 1\n",
      "0 20 LOC 1\n",
      "68 81 LOC 2\n",
      "0 10 LOC 1\n",
      "33 43 LOC 1\n",
      "76 95 LOC 1\n",
      "56 75 LOC 1\n",
      "106 116 LOC 1\n",
      "48 58 LOC 1\n",
      "0 10 LOC 1\n",
      "60 70 LOC 1\n",
      "206 208 LOC 2\n",
      "0 10 LOC 1\n",
      "10 20 LOC 1\n",
      "27 37 LOC 1\n",
      "0 10 LOC 1\n",
      "75 85 LOC 1\n",
      "0 10 LOC 1\n",
      "33 43 LOC 1\n",
      "103 114 LOC 1\n",
      "14 24 LOC 1\n",
      "60 70 LOC 1\n",
      "109 116 LOC 2\n",
      "38 57 LOC 1\n",
      "84 90 LOC 2\n",
      "146 158 LOC 3\n",
      "0 10 LOC 1\n",
      "19 29 LOC 1\n",
      "91 103 LOC 1\n",
      "194 204 LOC 2\n",
      "0 19 LOC 1\n",
      "32 40 LOC 1\n",
      "42 48 LOC 2\n",
      "72 80 LOC 3\n",
      "0 10 LOC 1\n",
      "43 49 LOC 2\n",
      "51 59 LOC 3\n",
      "52 62 LOC 1\n",
      "62 72 LOC 1\n",
      "110 120 LOC 1\n",
      "225 233 LOC 2\n",
      "11 21 LOC 1\n",
      "97 107 LOC 1\n",
      "70 81 LOC 1\n",
      "118 128 LOC 2\n",
      "13 26 LOC 1\n",
      "101 111 LOC 1\n",
      "0 10 LOC 1\n",
      "1 11 LOC 1\n",
      "93 95 LOC 2\n",
      "72 82 LOC 1\n",
      "0 10 LOC 1\n",
      "61 71 LOC 1\n",
      "133 143 LOC 2\n",
      "0 10 LOC 1\n",
      "52 54 LOC 2\n",
      "16 24 LOC 1\n",
      "61 80 LOC 2\n",
      "90 108 LOC 3\n",
      "147 160 LOC 4\n",
      "46 48 LOC 1\n",
      "87 97 LOC 2\n",
      "174 182 LOC 1\n",
      "83 102 LOC 1\n",
      "43 53 LOC 1\n",
      "97 103 LOC 2\n",
      "108 120 LOC 3\n",
      "0 10 LOC 1\n",
      "51 59 LOC 1\n",
      "61 71 LOC 2\n",
      "169 179 LOC 3\n",
      "23 34 LOC 1\n",
      "14 33 LOC 1\n",
      "61 67 LOC 1\n",
      "60 70 LOC 1\n",
      "61 80 LOC 1\n",
      "105 118 LOC 1\n",
      "120 130 LOC 2\n",
      "26 36 LOC 1\n",
      "92 98 LOC 2\n",
      "0 10 LOC 1\n",
      "111 121 LOC 2\n",
      "5 15 LOC 1\n",
      "20 31 LOC 1\n",
      "149 157 LOC 2\n",
      "61 69 LOC 1\n",
      "48 58 LOC 1\n",
      "8 18 LOC 1\n",
      "67 75 LOC 1\n",
      "77 87 LOC 2\n",
      "55 66 LOC 1\n",
      "24 34 LOC 1\n",
      "79 98 LOC 2\n",
      "26 37 LOC 1\n",
      "97 105 LOC 2\n",
      "107 109 LOC 3\n",
      "115 123 LOC 4\n",
      "12 24 LOC 1\n",
      "95 103 LOC 2\n",
      "145 153 LOC 3\n",
      "194 204 LOC 4\n",
      "34 44 LOC 1\n",
      "55 65 LOC 1\n",
      "27 46 LOC 1\n",
      "0 10 LOC 1\n",
      "83 93 LOC 1\n",
      "3 13 LOC 1\n",
      "125 135 LOC 1\n",
      "73 84 LOC 1\n",
      "103 113 LOC 2\n",
      "116 126 LOC 3\n",
      "196 204 LOC 4\n",
      "227 236 LOC 5\n",
      "44 54 LOC 1\n",
      "0 6 LOC 1\n",
      "15 25 LOC 1\n",
      "0 10 LOC 1\n",
      "101 109 LOC 1\n",
      "18 29 LOC 1\n",
      "0 8 LOC 1\n",
      "98 108 LOC 2\n",
      "115 123 LOC 1\n",
      "148 156 LOC 2\n",
      "48 58 LOC 1\n",
      "13 23 LOC 1\n",
      "33 43 LOC 1\n",
      "93 103 LOC 1\n",
      "56 66 LOC 1\n",
      "3 13 LOC 1\n",
      "62 72 LOC 1\n",
      "95 100 LOC 2\n",
      "185 193 LOC 1\n",
      "70 80 LOC 1\n",
      "48 54 LOC 1\n",
      "57 70 LOC 2\n",
      "90 100 LOC 3\n",
      "188 194 LOC 4\n",
      "199 208 LOC 5\n",
      "210 212 LOC 6\n",
      "238 248 LOC 7\n",
      "282 290 LOC 1\n",
      "55 68 LOC 1\n",
      "134 144 LOC 2\n",
      "63 73 LOC 1\n",
      "33 43 LOC 1\n",
      "116 125 LOC 2\n",
      "99 108 LOC 1\n",
      "6 16 LOC 1\n",
      "218 228 LOC 2\n",
      "58 68 LOC 1\n",
      "0 10 LOC 1\n",
      "83 91 LOC 1\n",
      "164 174 LOC 2\n",
      "199 207 LOC 1\n",
      "34 39 LOC 1\n",
      "94 107 LOC 2\n",
      "128 136 LOC 3\n",
      "63 73 LOC 1\n",
      "29 39 LOC 1\n",
      "0 10 LOC 1\n",
      "50 60 LOC 1\n",
      "84 92 LOC 1\n",
      "142 161 LOC 2\n",
      "17 27 LOC 1\n",
      "74 83 LOC 1\n",
      "51 61 LOC 1\n",
      "58 68 LOC 1\n",
      "20 30 LOC 1\n",
      "0 10 LOC 1\n",
      "64 75 LOC 2\n",
      "48 58 LOC 1\n",
      "27 46 LOC 1\n",
      "22 30 LOC 1\n",
      "28 34 LOC 1\n",
      "104 123 LOC 2\n",
      "44 55 LOC 1\n",
      "112 120 LOC 2\n",
      "62 81 LOC 1\n",
      "22 33 LOC 1\n",
      "35 43 LOC 2\n",
      "0 10 LOC 1\n",
      "39 49 LOC 1\n",
      "80 88 LOC 2\n",
      "22 32 LOC 1\n",
      "22 32 LOC 1\n",
      "93 101 LOC 2\n",
      "61 71 LOC 1\n",
      "35 45 LOC 1\n",
      "55 65 LOC 1\n",
      "114 116 LOC 1\n",
      "126 136 LOC 2\n",
      "245 253 LOC 3\n",
      "46 56 LOC 1\n",
      "14 24 LOC 1\n",
      "81 91 LOC 2\n",
      "20 30 LOC 1\n",
      "15 25 LOC 1\n",
      "68 78 LOC 1\n",
      "87 99 LOC 2\n",
      "122 132 LOC 1\n",
      "69 79 LOC 1\n",
      "54 61 LOC 1\n",
      "28 38 LOC 1\n",
      "64 74 LOC 1\n",
      "71 81 LOC 1\n",
      "13 21 LOC 1\n",
      "209 219 LOC 2\n",
      "62 72 LOC 1\n",
      "52 62 LOC 1\n",
      "109 121 LOC 1\n",
      "26 45 LOC 1\n",
      "18 26 LOC 1\n",
      "0 8 LOC 1\n",
      "10 16 LOC 2\n",
      "11 21 LOC 1\n",
      "38 57 LOC 1\n",
      "97 105 LOC 1\n",
      "158 168 LOC 2\n",
      "10 18 LOC 1\n",
      "47 57 LOC 2\n",
      "53 63 LOC 1\n",
      "43 48 LOC 1\n",
      "162 164 LOC 2\n",
      "1 11 LOC 1\n",
      "243 249 LOC 1\n",
      "1 9 LOC 1\n",
      "0 19 LOC 1\n",
      "34 44 LOC 1\n",
      "31 41 LOC 1\n",
      "68 83 LOC 1\n",
      "196 204 LOC 2\n",
      "81 91 LOC 1\n",
      "34 44 LOC 1\n",
      "117 124 LOC 2\n",
      "0 10 LOC 1\n",
      "185 187 LOC 2\n",
      "135 146 LOC 1\n",
      "207 213 LOC 2\n",
      "218 237 LOC 3\n",
      "0 11 LOC 1\n",
      "109 119 LOC 2\n",
      "175 183 LOC 3\n",
      "185 195 LOC 4\n",
      "49 59 LOC 1\n",
      "4 17 LOC 1\n",
      "171 181 LOC 2\n",
      "17 25 LOC 1\n",
      "47 55 LOC 1\n",
      "55 65 LOC 1\n",
      "110 118 LOC 2\n",
      "37 40 LOC 1\n",
      "152 162 LOC 2\n",
      "25 35 LOC 1\n",
      "77 87 LOC 2\n",
      "91 99 LOC 3\n",
      "57 77 LOC 1\n",
      "79 87 LOC 2\n",
      "19 38 LOC 1\n",
      "92 112 LOC 1\n",
      "21 31 LOC 1\n",
      "26 41 LOC 1\n",
      "59 72 LOC 2\n",
      "10 20 LOC 1\n",
      "124 134 LOC 2\n",
      "34 44 LOC 1\n",
      "38 48 LOC 1\n",
      "25 35 LOC 1\n",
      "59 61 LOC 1\n",
      "0 10 LOC 1\n",
      "0 10 LOC 1\n",
      "67 75 LOC 1\n",
      "55 63 LOC 1\n",
      "0 10 LOC 1\n",
      "37 56 LOC 1\n",
      "81 93 LOC 2\n",
      "74 84 LOC 1\n",
      "101 120 LOC 1\n",
      "75 85 LOC 1\n",
      "143 151 LOC 2\n",
      "0 10 LOC 1\n",
      "92 98 LOC 1\n",
      "61 71 LOC 1\n",
      "46 56 LOC 1\n",
      "41 51 LOC 1\n",
      "93 103 LOC 2\n",
      "105 108 LOC 3\n",
      "177 187 LOC 4\n",
      "189 192 LOC 5\n",
      "27 37 LOC 1\n",
      "97 105 LOC 1\n",
      "107 117 LOC 2\n",
      "54 64 LOC 1\n",
      "101 112 LOC 2\n",
      "51 61 LOC 1\n",
      "20 31 LOC 1\n",
      "124 131 LOC 2\n",
      "136 143 LOC 3\n",
      "146 154 LOC 4\n",
      "156 166 LOC 5\n",
      "216 228 LOC 6\n",
      "46 54 LOC 1\n",
      "25 35 LOC 1\n",
      "40 48 LOC 1\n",
      "89 97 LOC 2\n",
      "152 162 LOC 3\n",
      "1 9 LOC 1\n",
      "36 46 LOC 1\n",
      "53 63 LOC 1\n",
      "97 105 LOC 1\n",
      "124 134 LOC 2\n",
      "5 13 LOC 1\n",
      "26 36 LOC 2\n",
      "22 32 LOC 1\n",
      "27 37 LOC 1\n",
      "12 19 LOC 1\n",
      "21 23 LOC 2\n",
      "44 54 LOC 3\n",
      "92 100 LOC 1\n",
      "102 112 LOC 2\n",
      "1 9 LOC 1\n",
      "165 184 LOC 2\n",
      "66 76 LOC 1\n",
      "11 21 LOC 1\n",
      "98 110 LOC 2\n",
      "30 49 LOC 1\n",
      "70 89 LOC 1\n",
      "35 54 LOC 1\n",
      "59 69 LOC 1\n",
      "53 63 LOC 1\n",
      "24 34 LOC 1\n",
      "26 36 LOC 1\n",
      "173 192 LOC 2\n",
      "18 28 LOC 1\n",
      "107 126 LOC 1\n",
      "78 88 LOC 1\n",
      "49 57 LOC 1\n",
      "15 25 LOC 1\n",
      "30 40 LOC 1\n",
      "15 25 LOC 1\n",
      "65 75 LOC 1\n",
      "25 35 LOC 1\n",
      "15 25 LOC 1\n",
      "61 65 LOC 2\n",
      "0 10 LOC 1\n",
      "51 59 LOC 2\n",
      "61 71 LOC 3\n",
      "109 128 LOC 4\n",
      "3 13 LOC 1\n",
      "0 10 LOC 1\n",
      "43 55 LOC 1\n",
      "99 107 LOC 1\n",
      "33 44 LOC 1\n",
      "89 108 LOC 2\n",
      "112 120 LOC 3\n",
      "188 197 LOC 4\n",
      "152 162 LOC 1\n",
      "64 74 LOC 1\n",
      "0 10 LOC 1\n",
      "17 24 LOC 1\n",
      "24 43 LOC 1\n",
      "100 111 LOC 2\n",
      "119 129 LOC 1\n",
      "77 85 LOC 1\n",
      "128 135 LOC 1\n",
      "139 144 LOC 2\n",
      "14 24 LOC 1\n",
      "65 84 LOC 1\n",
      "69 79 LOC 1\n",
      "29 39 LOC 1\n",
      "72 82 LOC 1\n",
      "103 111 LOC 2\n",
      "16 26 LOC 1\n",
      "67 77 LOC 1\n",
      "15 25 LOC 1\n",
      "165 175 LOC 1\n",
      "0 12 LOC 1\n",
      "144 156 LOC 2\n",
      "106 116 LOC 1\n",
      "21 33 LOC 1\n",
      "104 116 LOC 2\n",
      "63 73 LOC 1\n",
      "85 93 LOC 1\n",
      "84 94 LOC 1\n",
      "11 21 LOC 1\n",
      "0 10 LOC 1\n",
      "63 71 LOC 1\n",
      "73 81 LOC 2\n",
      "83 93 LOC 3\n",
      "189 199 LOC 1\n",
      "26 28 LOC 1\n",
      "49 51 LOC 2\n",
      "191 201 LOC 3\n",
      "49 59 LOC 1\n",
      "42 52 LOC 1\n",
      "34 44 LOC 1\n",
      "35 45 LOC 1\n",
      "31 41 LOC 1\n",
      "161 173 LOC 2\n",
      "59 62 LOC 1\n",
      "63 73 LOC 1\n",
      "98 107 LOC 2\n",
      "131 141 LOC 3\n",
      "97 105 LOC 1\n",
      "178 183 LOC 2\n",
      "88 107 LOC 1\n",
      "194 204 LOC 1\n",
      "76 85 LOC 1\n",
      "47 57 LOC 1\n",
      "36 46 LOC 1\n",
      "55 64 LOC 1\n",
      "52 62 LOC 1\n",
      "76 85 LOC 1\n",
      "41 51 LOC 1\n",
      "17 27 LOC 1\n",
      "110 118 LOC 1\n",
      "164 174 LOC 2\n",
      "211 222 LOC 3\n",
      "223 233 LOC 4\n",
      "236 244 LOC 5\n",
      "50 60 LOC 1\n",
      "72 81 LOC 2\n",
      "138 153 LOC 1\n",
      "93 101 LOC 1\n",
      "120 126 LOC 2\n",
      "32 42 LOC 1\n",
      "0 9 LOC 1\n",
      "59 69 LOC 2\n",
      "0 10 LOC 1\n",
      "86 96 LOC 1\n",
      "219 227 LOC 2\n",
      "2 10 LOC 1\n",
      "49 59 LOC 2\n",
      "190 200 LOC 3\n",
      "38 48 LOC 1\n",
      "207 217 LOC 2\n",
      "34 44 LOC 1\n",
      "173 180 LOC 1\n",
      "59 69 LOC 1\n",
      "158 171 LOC 2\n",
      "0 14 LOC 1\n",
      "194 204 LOC 1\n",
      "71 81 LOC 1\n",
      "0 10 LOC 1\n",
      "20 30 LOC 1\n",
      "90 93 LOC 2\n",
      "95 105 LOC 1\n",
      "38 48 LOC 1\n",
      "10 20 LOC 1\n",
      "208 216 LOC 1\n",
      "96 115 LOC 1\n",
      "14 24 LOC 1\n",
      "58 66 LOC 2\n",
      "13 21 LOC 1\n",
      "163 170 LOC 2\n",
      "186 191 LOC 3\n",
      "193 199 LOC 4\n",
      "60 70 LOC 1\n",
      "52 71 LOC 1\n",
      "5 15 LOC 1\n",
      "0 10 LOC 1\n",
      "0 10 LOC 1\n",
      "148 160 LOC 2\n",
      "156 168 LOC 1\n",
      "4 7 LOC 1\n",
      "41 48 LOC 2\n",
      "224 227 LOC 3\n",
      "11 21 LOC 1\n",
      "48 78 LOC 1\n",
      "105 115 LOC 1\n",
      "117 125 LOC 2\n",
      "15 23 LOC 1\n",
      "194 207 LOC 2\n",
      "210 218 LOC 3\n",
      "221 231 LOC 4\n",
      "233 238 LOC 5\n",
      "249 257 LOC 6\n",
      "60 79 LOC 1\n",
      "81 89 LOC 2\n",
      "224 232 LOC 3\n",
      "18 37 LOC 1\n",
      "31 41 LOC 1\n",
      "31 42 LOC 1\n",
      "42 54 LOC 1\n",
      "59 69 LOC 2\n",
      "186 194 LOC 3\n",
      "66 76 LOC 1\n",
      "92 100 LOC 2\n",
      "101 111 LOC 3\n",
      "127 137 LOC 1\n",
      "0 2 LOC 1\n",
      "61 63 LOC 2\n",
      "95 128 LOC 3\n",
      "130 140 LOC 4\n",
      "200 219 LOC 5\n",
      "40 50 LOC 1\n",
      "55 57 LOC 2\n",
      "48 58 LOC 1\n",
      "25 35 LOC 1\n",
      "107 117 LOC 1\n",
      "27 37 LOC 1\n",
      "56 64 LOC 1\n",
      "65 75 LOC 1\n",
      "169 177 LOC 2\n",
      "14 33 LOC 1\n",
      "4 14 LOC 1\n",
      "16 24 LOC 2\n",
      "0 10 LOC 1\n",
      "52 54 LOC 1\n",
      "124 133 LOC 2\n",
      "177 187 LOC 3\n",
      "16 35 LOC 1\n",
      "100 104 LOC 2\n",
      "18 28 LOC 1\n",
      "71 81 LOC 1\n",
      "10 12 LOC 1\n",
      "84 91 LOC 2\n",
      "93 100 LOC 3\n",
      "48 58 LOC 1\n",
      "5 15 LOC 1\n",
      "128 141 LOC 2\n",
      "0 10 LOC 1\n",
      "0 10 LOC 1\n",
      "1 11 LOC 1\n",
      "47 54 LOC 1\n",
      "81 91 LOC 2\n",
      "17 27 LOC 1\n",
      "81 91 LOC 1\n",
      "14 24 LOC 1\n",
      "41 49 LOC 1\n",
      "160 172 LOC 1\n",
      "16 26 LOC 1\n",
      "68 78 LOC 1\n",
      "83 96 LOC 2\n",
      "225 235 LOC 3\n",
      "48 58 LOC 1\n",
      "68 78 LOC 1\n",
      "139 149 LOC 1\n",
      "230 238 LOC 2\n",
      "58 68 LOC 1\n",
      "0 10 LOC 1\n",
      "24 32 LOC 2\n",
      "175 183 LOC 3\n",
      "114 119 LOC 1\n",
      "171 176 LOC 2\n",
      "178 180 LOC 3\n",
      "51 61 LOC 1\n",
      "124 134 LOC 1\n",
      "30 40 LOC 1\n",
      "48 55 LOC 2\n",
      "215 223 LOC 3\n",
      "24 34 LOC 1\n",
      "73 83 LOC 1\n",
      "43 45 LOC 1\n",
      "87 89 LOC 2\n",
      "27 37 LOC 1\n",
      "47 55 LOC 1\n",
      "57 59 LOC 2\n",
      "31 41 LOC 1\n",
      "88 98 LOC 2\n",
      "51 61 LOC 1\n",
      "103 113 LOC 1\n",
      "65 75 LOC 1\n",
      "37 47 LOC 1\n",
      "128 136 LOC 2\n",
      "57 67 LOC 1\n",
      "241 251 LOC 2\n",
      "256 261 LOC 3\n",
      "22 30 LOC 1\n",
      "76 86 LOC 2\n",
      "191 199 LOC 3\n",
      "56 66 LOC 1\n",
      "24 34 LOC 1\n",
      "16 29 LOC 1\n",
      "51 61 LOC 1\n",
      "92 101 LOC 2\n",
      "32 42 LOC 1\n",
      "36 46 LOC 1\n",
      "36 46 LOC 1\n",
      "0 13 LOC 1\n",
      "41 44 LOC 2\n",
      "80 99 LOC 1\n",
      "41 51 LOC 1\n",
      "87 95 LOC 2\n",
      "282 294 LOC 3\n",
      "50 60 LOC 1\n",
      "226 234 LOC 1\n",
      "40 50 LOC 1\n",
      "86 95 LOC 1\n",
      "17 27 LOC 1\n",
      "83 95 LOC 1\n",
      "179 189 LOC 1\n",
      "0 27 LOC 1\n",
      "83 102 LOC 1\n",
      "0 10 LOC 1\n",
      "26 36 LOC 1\n",
      "95 103 LOC 2\n",
      "78 88 LOC 1\n",
      "72 80 LOC 1\n",
      "53 63 LOC 1\n",
      "49 59 LOC 1\n",
      "62 74 LOC 1\n",
      "237 245 LOC 2\n",
      "121 131 LOC 1\n",
      "0 10 LOC 1\n",
      "52 60 LOC 1\n",
      "95 104 LOC 2\n",
      "70 80 LOC 1\n",
      "171 181 LOC 1\n",
      "57 69 LOC 1\n",
      "73 81 LOC 2\n",
      "60 70 LOC 1\n",
      "40 48 LOC 1\n",
      "179 187 LOC 2\n",
      "37 56 LOC 1\n",
      "38 48 LOC 1\n",
      "202 212 LOC 1\n",
      "217 227 LOC 1\n",
      "11 21 LOC 1\n",
      "6 16 LOC 1\n",
      "89 101 LOC 1\n",
      "143 153 LOC 2\n",
      "22 32 LOC 1\n",
      "27 38 LOC 1\n",
      "95 105 LOC 1\n",
      "102 110 LOC 1\n",
      "86 88 LOC 1\n",
      "137 145 LOC 2\n",
      "149 161 LOC 3\n",
      "186 197 LOC 4\n",
      "202 209 LOC 5\n",
      "0 22 LOC 1\n",
      "26 36 LOC 2\n",
      "217 230 LOC 1\n",
      "15 19 LOC 1\n",
      "80 90 LOC 2\n",
      "177 187 LOC 3\n",
      "145 155 LOC 1\n",
      "77 87 LOC 1\n",
      "22 28 LOC 1\n",
      "78 88 LOC 2\n",
      "37 47 LOC 1\n",
      "75 83 LOC 2\n",
      "185 196 LOC 3\n",
      "82 90 LOC 1\n",
      "12 18 LOC 1\n",
      "203 211 LOC 2\n",
      "53 66 LOC 1\n",
      "67 69 LOC 2\n",
      "0 4 LOC 1\n",
      "50 60 LOC 2\n",
      "0 7 LOC 1\n",
      "49 51 LOC 2\n",
      "113 123 LOC 3\n"
     ]
    }
   ],
   "execution_count": 18
  },
  {
   "metadata": {
    "ExecuteTime": {
     "end_time": "2024-08-12T15:56:08.060445Z",
     "start_time": "2024-08-12T15:56:07.907019Z"
    }
   },
   "cell_type": "code",
   "source": [
    "import spacy\n",
    "from pathlib import Path\n",
    "\n",
    "model = None\n",
    "output_dir = Path(\"./ner\")\n",
    "n_iter = 10\n",
    "\n",
    "# Load or create a blank model\n",
    "if model is not None:\n",
    "    nlp = spacy.load(model)\n",
    "    print(\"Loaded model '%s'\" % model)\n",
    "else:\n",
    "    nlp = spacy.blank('en')\n",
    "    print(\"Created blank 'en' model\")\n",
    "\n",
    "# Set up the pipeline\n",
    "if 'ner' not in nlp.pipe_names:\n",
    "    ner = nlp.add_pipe('ner', last=True)\n",
    "else:\n",
    "    ner = nlp.get_pipe('ner')\n"
   ],
   "id": "c43858fdf4852704",
   "outputs": [
    {
     "name": "stdout",
     "output_type": "stream",
     "text": [
      "Created blank 'en' model\n"
     ]
    }
   ],
   "execution_count": 19
  },
  {
   "metadata": {
    "ExecuteTime": {
     "end_time": "2024-08-12T15:56:08.065057Z",
     "start_time": "2024-08-12T15:56:08.061332Z"
    }
   },
   "cell_type": "code",
   "source": [
    "from __future__ import unicode_literals, print_function\n",
    "import random\n",
    "from pathlib import Path\n",
    "import spacy\n",
    "from tqdm import tqdm"
   ],
   "id": "56a22cd5b37c8390",
   "outputs": [],
   "execution_count": 20
  },
  {
   "metadata": {
    "ExecuteTime": {
     "end_time": "2024-08-12T15:57:26.757909Z",
     "start_time": "2024-08-12T15:56:08.066022Z"
    }
   },
   "cell_type": "code",
   "source": [
    "import random\n",
    "from tqdm import tqdm\n",
    "import spacy\n",
    "from spacy.training import Example\n",
    "\n",
    "# Assuming TRAIN_DATA is a list of tuples like: (text, {\"entities\": [(start, end, label)]})\n",
    "for _, annotations in TRAIN_DATA:\n",
    "    for ent in annotations.get('entities'):\n",
    "        ner.add_label(ent[2])\n",
    "\n",
    "# Disable other pipeline components to only train NER\n",
    "other_pipes = [pipe for pipe in nlp.pipe_names if pipe != 'ner']\n",
    "with nlp.disable_pipes(*other_pipes):\n",
    "    optimizer = nlp.begin_training()\n",
    "\n",
    "    for itn in range(n_iter):\n",
    "        random.shuffle(TRAIN_DATA)\n",
    "        losses = {}\n",
    "\n",
    "        for text, annotations in tqdm(TRAIN_DATA):\n",
    "            # Convert the training data to spaCy's Example objects\n",
    "            doc = nlp.make_doc(text)\n",
    "            example = Example.from_dict(doc, annotations)\n",
    "            nlp.update(\n",
    "                [example],\n",
    "                drop=0.5,\n",
    "                sgd=optimizer,\n",
    "                losses=losses\n",
    "            )\n",
    "        print(f\"Iteration {itn}: {losses}\")\n"
   ],
   "id": "d8dd249d5bdf430e",
   "outputs": [
    {
     "name": "stderr",
     "output_type": "stream",
     "text": [
      "100%|██████████| 777/777 [00:07<00:00, 97.76it/s] \n"
     ]
    },
    {
     "name": "stdout",
     "output_type": "stream",
     "text": [
      "Iteration 0: {'ner': 1148.1300253277197}\n"
     ]
    },
    {
     "name": "stderr",
     "output_type": "stream",
     "text": [
      "100%|██████████| 777/777 [00:07<00:00, 101.72it/s]\n"
     ]
    },
    {
     "name": "stdout",
     "output_type": "stream",
     "text": [
      "Iteration 1: {'ner': 347.59583899660316}\n"
     ]
    },
    {
     "name": "stderr",
     "output_type": "stream",
     "text": [
      "100%|██████████| 777/777 [00:07<00:00, 100.72it/s]\n"
     ]
    },
    {
     "name": "stdout",
     "output_type": "stream",
     "text": [
      "Iteration 2: {'ner': 244.44694606474897}\n"
     ]
    },
    {
     "name": "stderr",
     "output_type": "stream",
     "text": [
      "100%|██████████| 777/777 [00:07<00:00, 101.92it/s]\n"
     ]
    },
    {
     "name": "stdout",
     "output_type": "stream",
     "text": [
      "Iteration 3: {'ner': 175.6617979552906}\n"
     ]
    },
    {
     "name": "stderr",
     "output_type": "stream",
     "text": [
      "100%|██████████| 777/777 [00:07<00:00, 101.96it/s]\n"
     ]
    },
    {
     "name": "stdout",
     "output_type": "stream",
     "text": [
      "Iteration 4: {'ner': 142.9312649094207}\n"
     ]
    },
    {
     "name": "stderr",
     "output_type": "stream",
     "text": [
      "100%|██████████| 777/777 [00:07<00:00, 103.19it/s]\n"
     ]
    },
    {
     "name": "stdout",
     "output_type": "stream",
     "text": [
      "Iteration 5: {'ner': 116.66878678191284}\n"
     ]
    },
    {
     "name": "stderr",
     "output_type": "stream",
     "text": [
      "100%|██████████| 777/777 [00:07<00:00, 99.16it/s] \n"
     ]
    },
    {
     "name": "stdout",
     "output_type": "stream",
     "text": [
      "Iteration 6: {'ner': 141.99569010865642}\n"
     ]
    },
    {
     "name": "stderr",
     "output_type": "stream",
     "text": [
      "100%|██████████| 777/777 [00:07<00:00, 102.07it/s]\n"
     ]
    },
    {
     "name": "stdout",
     "output_type": "stream",
     "text": [
      "Iteration 7: {'ner': 102.20066659940682}\n"
     ]
    },
    {
     "name": "stderr",
     "output_type": "stream",
     "text": [
      "100%|██████████| 777/777 [00:07<00:00, 101.88it/s]\n"
     ]
    },
    {
     "name": "stdout",
     "output_type": "stream",
     "text": [
      "Iteration 8: {'ner': 134.82856001284762}\n"
     ]
    },
    {
     "name": "stderr",
     "output_type": "stream",
     "text": [
      "100%|██████████| 777/777 [00:09<00:00, 82.27it/s] "
     ]
    },
    {
     "name": "stdout",
     "output_type": "stream",
     "text": [
      "Iteration 9: {'ner': 99.15206014409152}\n"
     ]
    },
    {
     "name": "stderr",
     "output_type": "stream",
     "text": [
      "\n"
     ]
    }
   ],
   "execution_count": 21
  },
  {
   "metadata": {
    "ExecuteTime": {
     "end_time": "2024-08-12T15:57:27.569786Z",
     "start_time": "2024-08-12T15:57:26.761067Z"
    }
   },
   "cell_type": "code",
   "source": [
    "for text, _ in TRAIN_DATA:\n",
    "    doc = nlp(text)\n",
    "    print('Entities', [(ent.text, ent.label_) for ent in doc.ents])"
   ],
   "id": "22dc6b6679204827",
   "outputs": [
    {
     "name": "stdout",
     "output_type": "stream",
     "text": [
      "Entities [('Paradise', 'LOC'), ('California', 'LOC')]\n",
      "Entities [('California', 'LOC')]\n",
      "Entities [('California', 'LOC')]\n",
      "Entities [('California', 'LOC')]\n",
      "Entities [('CA', 'LOC')]\n",
      "Entities [('California', 'LOC')]\n",
      "Entities [('California', 'LOC')]\n",
      "Entities [('CampFire', 'LOC')]\n",
      "Entities [('California', 'LOC')]\n",
      "Entities [('California', 'LOC')]\n",
      "Entities [('California', 'LOC'), ('Butte County', 'LOC')]\n",
      "Entities [('California', 'LOC'), ('American', 'LOC')]\n",
      "Entities [('California', 'LOC')]\n",
      "Entities [('California', 'LOC')]\n",
      "Entities [('California', 'LOC'), ('Paradise', 'LOC'), ('American', 'LOC')]\n",
      "Entities [('California', 'LOC')]\n",
      "Entities [('California', 'LOC'), ('California', 'LOC')]\n",
      "Entities [('California', 'LOC')]\n",
      "Entities [('9/11,California', 'LOC')]\n",
      "Entities [('California', 'LOC')]\n",
      "Entities [('California', 'LOC')]\n",
      "Entities [('California', 'LOC')]\n",
      "Entities [('California', 'LOC')]\n",
      "Entities [('Butte County', 'LOC')]\n",
      "Entities [('California', 'LOC')]\n",
      "Entities [('NYC', 'LOC'), ('California', 'LOC')]\n",
      "Entities [('California', 'LOC'), ('CampFire', 'LOC')]\n",
      "Entities [('California', 'LOC')]\n",
      "Entities []\n",
      "Entities [('California', 'LOC'), ('Paradise', 'LOC'), ('Californians', 'LOC')]\n",
      "Entities [('Paradise', 'LOC'), ('California', 'LOC')]\n",
      "Entities [('California', 'LOC')]\n",
      "Entities [('California', 'LOC')]\n",
      "Entities [('Paradise', 'LOC'), ('Walmart', 'LOC'), ('Chico', 'LOC'), ('Calif.', 'LOC')]\n",
      "Entities [('California', 'LOC')]\n",
      "Entities [('California', 'LOC'), ('California', 'LOC'), ('Cali', 'LOC')]\n",
      "Entities [('California', 'LOC')]\n",
      "Entities [('California', 'LOC')]\n",
      "Entities [('California', 'LOC')]\n",
      "Entities [('CampFire', 'LOC')]\n",
      "Entities [('California', 'LOC')]\n",
      "Entities [('California', 'LOC')]\n",
      "Entities [('CA', 'LOC'), ('US', 'LOC'), ('California', 'LOC')]\n",
      "Entities [('CampFire', 'LOC')]\n",
      "Entities [('Paradise', 'LOC'), ('California', 'LOC')]\n",
      "Entities [('California', 'LOC')]\n",
      "Entities [('California', 'LOC')]\n",
      "Entities [('California', 'LOC')]\n",
      "Entities [('California', 'LOC')]\n",
      "Entities [('CampFire', 'LOC'), ('Paradise', 'LOC'), ('CampFire', 'LOC'), ('malibu', 'LOC'), ('California', 'LOC')]\n",
      "Entities [('California', 'LOC')]\n",
      "Entities [('California', 'LOC')]\n",
      "Entities [('California', 'LOC')]\n",
      "Entities [('Californias', 'LOC')]\n",
      "Entities [('California', 'LOC')]\n",
      "Entities [('California', 'LOC')]\n",
      "Entities [('California', 'LOC')]\n",
      "Entities [('California', 'LOC')]\n",
      "Entities [('CampFire', 'LOC'), ('California', 'LOC')]\n",
      "Entities [('California', 'LOC')]\n",
      "Entities [('PARADISE', 'LOC')]\n",
      "Entities [('California', 'LOC')]\n",
      "Entities [('Californias', 'LOC'), ('california', 'LOC'), ('sandiego', 'LOC'), ('LosAngeles', 'LOC')]\n",
      "Entities [('California', 'LOC')]\n",
      "Entities [('California', 'LOC'), ('CampFire', 'LOC')]\n",
      "Entities []\n",
      "Entities [('California', 'LOC')]\n",
      "Entities [('California', 'LOC')]\n",
      "Entities [('California', 'LOC')]\n",
      "Entities [('Californias', 'LOC'), ('Beijing', 'LOC'), ('America', 'LOC'), ('CampFire', 'LOC'), ('California', 'LOC'), ('SanFrancisco', 'LOC')]\n",
      "Entities [('California', 'LOC')]\n",
      "Entities [('California', 'LOC'), ('California', 'LOC')]\n",
      "Entities [('California', 'LOC')]\n",
      "Entities [('California', 'LOC')]\n",
      "Entities [('California', 'LOC')]\n",
      "Entities [('Oregon', 'LOC'), ('CampFire', 'LOC')]\n",
      "Entities [('CA', 'LOC')]\n",
      "Entities [('California', 'LOC')]\n",
      "Entities [('california', 'LOC')]\n",
      "Entities [('California', 'LOC')]\n",
      "Entities [('Californias', 'LOC')]\n",
      "Entities [('California', 'LOC')]\n",
      "Entities [('California', 'LOC'), ('Paradise', 'LOC')]\n",
      "Entities [('california', 'LOC'), ('malibu', 'LOC'), ('losangeles', 'LOC')]\n",
      "Entities [('Paradise', 'LOC'), ('California', 'LOC')]\n",
      "Entities [('California', 'LOC')]\n",
      "Entities [('California', 'LOC')]\n",
      "Entities [('California', 'LOC')]\n",
      "Entities [('California', 'LOC')]\n",
      "Entities [('Butte County', 'LOC')]\n",
      "Entities [('California', 'LOC')]\n",
      "Entities [('California', 'LOC')]\n",
      "Entities [('California', 'LOC')]\n",
      "Entities [('America', 'LOC'), ('Ca', 'LOC'), ('California', 'LOC')]\n",
      "Entities [('California', 'LOC')]\n",
      "Entities [('California', 'LOC')]\n",
      "Entities [('CampFire', 'LOC')]\n",
      "Entities [('California', 'LOC')]\n",
      "Entities [('Orange', 'LOC')]\n",
      "Entities [('California', 'LOC'), ('CampFire', 'LOC'), ('SantaRosa', 'LOC')]\n",
      "Entities [('Meanwhile', 'LOC')]\n",
      "Entities [('U.S.', 'LOC'), ('California', 'LOC')]\n",
      "Entities [('California', 'LOC')]\n",
      "Entities [('California', 'LOC')]\n",
      "Entities [('California', 'LOC'), ('CampFire', 'LOC')]\n",
      "Entities [('Ventura', 'LOC'), ('California', 'LOC')]\n",
      "Entities [('CampFire', 'LOC'), ('Paradise', 'LOC'), ('Chico', 'LOC'), ('Oroville', 'LOC'), ('SimiValley', 'LOC'), ('Orland', 'LOC'), ('Malibu', 'LOC')]\n",
      "Entities [('Paradise', 'LOC'), ('California', 'LOC')]\n",
      "Entities [('California', 'LOC')]\n",
      "Entities [('CALIFORNIA', 'LOC')]\n",
      "Entities [('Californias', 'LOC')]\n",
      "Entities [('California', 'LOC')]\n",
      "Entities [('Paradise', 'LOC'), ('California', 'LOC'), ('American', 'LOC'), ('California', 'LOC')]\n",
      "Entities []\n",
      "Entities [('California', 'LOC'), ('CampFire', 'LOC')]\n",
      "Entities [('CampFire', 'LOC')]\n",
      "Entities [('@california', 'LOC'), ('California', 'LOC'), ('CampFire', 'LOC')]\n",
      "Entities [('California', 'LOC')]\n",
      "Entities [('California', 'LOC')]\n",
      "Entities [('California', 'LOC')]\n",
      "Entities [('CampFire', 'LOC')]\n",
      "Entities [('Caifornia', 'LOC')]\n",
      "Entities [('California', 'LOC'), ('Florida', 'LOC')]\n",
      "Entities [('California', 'LOC')]\n",
      "Entities [('California', 'LOC')]\n",
      "Entities [('California', 'LOC')]\n",
      "Entities [('Paradise', 'LOC'), ('California', 'LOC'), ('California', 'LOC')]\n",
      "Entities [('Paradise', 'LOC'), ('Californias', 'LOC')]\n",
      "Entities [('California', 'LOC')]\n",
      "Entities [('California', 'LOC')]\n",
      "Entities [('California', 'LOC')]\n",
      "Entities [('CampFire', 'LOC')]\n",
      "Entities [('CA', 'LOC'), ('California', 'LOC')]\n",
      "Entities [('California', 'LOC')]\n",
      "Entities [('California', 'LOC')]\n",
      "Entities [('CampFire', 'LOC'), ('California', 'LOC')]\n",
      "Entities [('CampFire', 'LOC'), ('YubaCity', 'LOC'), ('California', 'LOC'), ('Chico', 'LOC'), ('Oroville', 'LOC')]\n",
      "Entities [('California', 'LOC')]\n",
      "Entities [('California', 'LOC'), ('CampFire', 'LOC')]\n",
      "Entities [('California', 'LOC')]\n",
      "Entities [('Malibu', 'LOC'), ('California', 'LOC')]\n",
      "Entities [('California', 'LOC')]\n",
      "Entities []\n",
      "Entities [('California', 'LOC')]\n",
      "Entities [('California', 'LOC'), ('LA', 'LOC')]\n",
      "Entities [('California', 'LOC')]\n",
      "Entities [('California', 'LOC')]\n",
      "Entities [('California', 'LOC')]\n",
      "Entities [('California', 'LOC')]\n",
      "Entities [('California', 'LOC')]\n",
      "Entities [('California', 'LOC'), ('Paradise', 'LOC')]\n",
      "Entities [('Californias', 'LOC'), ('Paradise', 'LOC'), ('CA', 'LOC'), ('CampFire', 'LOC')]\n",
      "Entities [('California', 'LOC')]\n",
      "Entities [('California', 'LOC'), ('Paradise', 'LOC')]\n",
      "Entities [('CampFire', 'LOC')]\n",
      "Entities []\n",
      "Entities [('California', 'LOC')]\n",
      "Entities [('Paradise', 'LOC')]\n",
      "Entities [('California', 'LOC')]\n",
      "Entities [('California', 'LOC')]\n",
      "Entities [('Californias', 'LOC')]\n",
      "Entities [('California', 'LOC'), ('California', 'LOC')]\n",
      "Entities [('California', 'LOC')]\n",
      "Entities [('California', 'LOC'), ('Malibu', 'LOC')]\n",
      "Entities [('California', 'LOC')]\n",
      "Entities [('California', 'LOC'), ('California', 'LOC')]\n",
      "Entities [('Californias', 'LOC')]\n",
      "Entities [('California', 'LOC')]\n",
      "Entities [('California', 'LOC')]\n",
      "Entities [('Butte', 'LOC')]\n",
      "Entities [('CampFire', 'LOC')]\n",
      "Entities [('California', 'LOC')]\n",
      "Entities [('California', 'LOC'), ('Sacramento', 'LOC'), ('Chico', 'LOC')]\n",
      "Entities [('California', 'LOC')]\n",
      "Entities [('California', 'LOC')]\n",
      "Entities [('California', 'LOC')]\n",
      "Entities [('Paradise', 'LOC')]\n",
      "Entities [('California', 'LOC')]\n",
      "Entities [('California', 'LOC')]\n",
      "Entities [('CampFire', 'LOC')]\n",
      "Entities [('California', 'LOC')]\n",
      "Entities [('California', 'LOC')]\n",
      "Entities [('Paradise', 'LOC'), ('California', 'LOC'), ('California', 'LOC')]\n",
      "Entities [('California', 'LOC')]\n",
      "Entities [('California', 'LOC'), ('CampFire', 'LOC')]\n",
      "Entities [('California', 'LOC'), ('CampFire', 'LOC')]\n",
      "Entities [('California', 'LOC')]\n",
      "Entities [('California', 'LOC')]\n",
      "Entities [('California', 'LOC')]\n",
      "Entities [('CampFire', 'LOC')]\n",
      "Entities [('California', 'LOC')]\n",
      "Entities [('Californias', 'LOC')]\n",
      "Entities [('California', 'LOC')]\n",
      "Entities [('California', 'LOC')]\n",
      "Entities [('CampFire', 'LOC')]\n",
      "Entities [('California', 'LOC')]\n",
      "Entities [('Californias', 'LOC')]\n",
      "Entities [('California', 'LOC')]\n",
      "Entities [('California', 'LOC'), ('japan', 'LOC')]\n",
      "Entities [('California', 'LOC'), ('California', 'LOC')]\n",
      "Entities [('California', 'LOC')]\n",
      "Entities [('US', 'LOC'), ('California', 'LOC'), ('Paradise', 'LOC')]\n",
      "Entities [('California', 'LOC'), ('Mexican', 'LOC'), ('Oklahoma', 'LOC')]\n",
      "Entities [('California', 'LOC')]\n",
      "Entities [('california', 'LOC')]\n",
      "Entities [('Red Cross', 'LOC')]\n",
      "Entities [('California', 'LOC'), ('Feather River', 'LOC'), ('CampFire', 'LOC')]\n",
      "Entities [('California', 'LOC')]\n",
      "Entities [('California', 'LOC'), ('California', 'LOC')]\n",
      "Entities [('California', 'LOC')]\n",
      "Entities [('California', 'LOC'), ('Orange', 'LOC'), ('CA', 'LOC'), ('Red Cross', 'LOC')]\n",
      "Entities [('California', 'LOC')]\n",
      "Entities [('Lodi', 'LOC')]\n",
      "Entities [('California', 'LOC')]\n",
      "Entities [('California', 'LOC')]\n",
      "Entities [('california', 'LOC'), ('Paradise', 'LOC')]\n",
      "Entities [('California', 'LOC')]\n",
      "Entities [('California', 'LOC')]\n",
      "Entities [('US', 'LOC')]\n",
      "Entities [('CampFire', 'LOC')]\n",
      "Entities [('California', 'LOC')]\n",
      "Entities [('Chico', 'LOC'), ('CA', 'LOC')]\n",
      "Entities [('California', 'LOC')]\n",
      "Entities [('California', 'LOC')]\n",
      "Entities []\n",
      "Entities [('CampFire', 'LOC')]\n",
      "Entities [('California', 'LOC')]\n",
      "Entities [('NorCal', 'LOC')]\n",
      "Entities [('California', 'LOC')]\n",
      "Entities []\n",
      "Entities [('California', 'LOC')]\n",
      "Entities [('Malibu', 'LOC'), ('California', 'LOC')]\n",
      "Entities [('California', 'LOC')]\n",
      "Entities [('California', 'LOC'), ('American', 'LOC'), ('California', 'LOC')]\n",
      "Entities [('California', 'LOC')]\n",
      "Entities [('California', 'LOC')]\n",
      "Entities [('California', 'LOC')]\n",
      "Entities [('California', 'LOC')]\n",
      "Entities [('California', 'LOC')]\n",
      "Entities [('CampFire', 'LOC'), ('Paradise', 'LOC'), ('California', 'LOC')]\n",
      "Entities [('California', 'LOC'), ('california', 'LOC')]\n",
      "Entities [('California', 'LOC')]\n",
      "Entities [('California', 'LOC')]\n",
      "Entities [('California', 'LOC')]\n",
      "Entities [('California', 'LOC')]\n",
      "Entities [('California', 'LOC')]\n",
      "Entities [('California', 'LOC')]\n",
      "Entities [('California', 'LOC')]\n",
      "Entities [('Paradise', 'LOC')]\n",
      "Entities [('California', 'LOC')]\n",
      "Entities [('California', 'LOC')]\n",
      "Entities [('Ohio', 'LOC'), ('California', 'LOC'), ('California', 'LOC')]\n",
      "Entities [('Paradise', 'LOC'), ('Concow', 'LOC')]\n",
      "Entities [('CampFire', 'LOC')]\n",
      "Entities [('Missouri', 'LOC'), ('California', 'LOC'), ('California', 'LOC')]\n",
      "Entities [('California', 'LOC')]\n",
      "Entities [('California', 'LOC')]\n",
      "Entities [('California', 'LOC')]\n",
      "Entities [('California', 'LOC')]\n",
      "Entities [('California', 'LOC')]\n",
      "Entities [('California', 'LOC')]\n",
      "Entities [('California', 'LOC')]\n",
      "Entities [('CALIFORNIA', 'LOC')]\n",
      "Entities [('Pulga', 'LOC')]\n",
      "Entities [('California', 'LOC')]\n",
      "Entities [('California', 'LOC')]\n",
      "Entities [('Californias', 'LOC'), ('CampFire', 'LOC')]\n",
      "Entities [('PARADISE', 'LOC'), ('CA', 'LOC')]\n",
      "Entities [('California', 'LOC')]\n",
      "Entities [('California', 'LOC')]\n",
      "Entities []\n",
      "Entities [('Californias', 'LOC'), ('Malibu', 'LOC')]\n",
      "Entities [('California', 'LOC')]\n",
      "Entities [('US', 'LOC'), ('California', 'LOC'), ('American', 'LOC')]\n",
      "Entities [('California', 'LOC')]\n",
      "Entities [('California', 'LOC')]\n",
      "Entities [('California', 'LOC')]\n",
      "Entities [('California', 'LOC')]\n",
      "Entities [('Malibu', 'LOC'), ('California', 'LOC')]\n",
      "Entities [('California', 'LOC')]\n",
      "Entities [('Walmart', 'LOC')]\n",
      "Entities [('California', 'LOC')]\n",
      "Entities [('Californians', 'LOC')]\n",
      "Entities [('CampFire', 'LOC'), ('California', 'LOC')]\n",
      "Entities [('California', 'LOC')]\n",
      "Entities [('California', 'LOC')]\n",
      "Entities [('California', 'LOC')]\n",
      "Entities [('CampFire', 'LOC')]\n",
      "Entities [('California', 'LOC')]\n",
      "Entities [('US', 'LOC')]\n",
      "Entities [('Californias', 'LOC'), ('Paradise', 'LOC')]\n",
      "Entities [('US', 'LOC'), ('California', 'LOC')]\n",
      "Entities [('California', 'LOC')]\n",
      "Entities [('California', 'LOC')]\n",
      "Entities [('Thousand Oaks', 'LOC'), ('California', 'LOC')]\n",
      "Entities [('California', 'LOC')]\n",
      "Entities [('California', 'LOC')]\n",
      "Entities [('CampFire', 'LOC'), ('California', 'LOC')]\n",
      "Entities []\n",
      "Entities [('California', 'LOC'), ('CA', 'LOC')]\n",
      "Entities [('California', 'LOC')]\n",
      "Entities [('California', 'LOC'), ('California', 'LOC')]\n",
      "Entities [('Californias', 'LOC')]\n",
      "Entities [('California', 'LOC')]\n",
      "Entities [('California', 'LOC')]\n",
      "Entities [('US', 'LOC'), ('Canada', 'LOC'), ('California', 'LOC')]\n",
      "Entities [('California', 'LOC')]\n",
      "Entities []\n",
      "Entities [('CALIFORNIA', 'LOC'), ('Paradise', 'LOC'), ('California', 'LOC'), ('California', 'LOC')]\n",
      "Entities [('California', 'LOC')]\n",
      "Entities [('California', 'LOC')]\n",
      "Entities [('Ca', 'LOC'), ('CA', 'LOC'), ('California', 'LOC'), ('California', 'LOC')]\n",
      "Entities [('CampFire', 'LOC'), ('Californias', 'LOC')]\n",
      "Entities [('California', 'LOC')]\n",
      "Entities [('CampFire', 'LOC')]\n",
      "Entities [('California', 'LOC')]\n",
      "Entities [('California', 'LOC')]\n",
      "Entities [('Paradise', 'LOC'), ('California', 'LOC')]\n",
      "Entities [('California', 'LOC')]\n",
      "Entities [('California', 'LOC'), ('CampFire', 'LOC')]\n",
      "Entities [('California', 'LOC')]\n",
      "Entities [('Texas', 'LOC'), ('Florida', 'LOC'), ('CA', 'LOC')]\n",
      "Entities [('California', 'LOC'), ('CampFire', 'LOC')]\n",
      "Entities []\n",
      "Entities [('California', 'LOC')]\n",
      "Entities [('CampFire', 'LOC')]\n",
      "Entities [('california', 'LOC')]\n",
      "Entities [('California', 'LOC')]\n",
      "Entities [('California', 'LOC')]\n",
      "Entities [('California', 'LOC'), ('Malibu', 'LOC')]\n",
      "Entities [('Chico', 'LOC'), ('California', 'LOC'), ('Paradise', 'LOC'), ('California', 'LOC')]\n",
      "Entities [('California', 'LOC')]\n",
      "Entities [('California', 'LOC')]\n",
      "Entities [('California', 'LOC'), ('CampFire', 'LOC')]\n",
      "Entities [('CA', 'LOC')]\n",
      "Entities [('California', 'LOC'), ('CampFire', 'LOC')]\n",
      "Entities [('California', 'LOC')]\n",
      "Entities [('Stockton', 'LOC'), ('California', 'LOC')]\n",
      "Entities [('California', 'LOC')]\n",
      "Entities [('California', 'LOC')]\n",
      "Entities [('California', 'LOC')]\n",
      "Entities [('California', 'LOC')]\n",
      "Entities [('Californias', 'LOC')]\n",
      "Entities [('California', 'LOC')]\n",
      "Entities [('California', 'LOC')]\n",
      "Entities [('California', 'LOC')]\n",
      "Entities [('California', 'LOC')]\n",
      "Entities [('California', 'LOC')]\n",
      "Entities [('Cal', 'LOC'), ('America', 'LOC'), ('Cal', 'LOC')]\n",
      "Entities [('roseville', 'LOC')]\n",
      "Entities [('California', 'LOC')]\n",
      "Entities [('California', 'LOC')]\n",
      "Entities [('California', 'LOC')]\n",
      "Entities [('California', 'LOC')]\n",
      "Entities [('CA', 'LOC'), ('Walmart', 'LOC'), ('Walmart', 'LOC')]\n",
      "Entities [('California', 'LOC')]\n",
      "Entities [('California', 'LOC')]\n",
      "Entities [('Malibu', 'LOC')]\n",
      "Entities [('California', 'LOC')]\n",
      "Entities [('California', 'LOC')]\n",
      "Entities [('California', 'LOC')]\n",
      "Entities [('California', 'LOC'), ('California', 'LOC')]\n",
      "Entities [('Malibu', 'LOC')]\n",
      "Entities [('California', 'LOC')]\n",
      "Entities [('California', 'LOC')]\n",
      "Entities [('California', 'LOC')]\n",
      "Entities [('California', 'LOC')]\n",
      "Entities [('California', 'LOC')]\n",
      "Entities []\n",
      "Entities [('American', 'LOC')]\n",
      "Entities [('California', 'LOC')]\n",
      "Entities [('California', 'LOC')]\n",
      "Entities [('California', 'LOC')]\n",
      "Entities [('California', 'LOC')]\n",
      "Entities [('California', 'LOC')]\n",
      "Entities [('California', 'LOC')]\n",
      "Entities [('California', 'LOC'), ('Malibu', 'LOC')]\n",
      "Entities []\n",
      "Entities [('California', 'LOC')]\n",
      "Entities [('California', 'LOC')]\n",
      "Entities [('CampFire', 'LOC')]\n",
      "Entities [('California', 'LOC')]\n",
      "Entities [('California', 'LOC')]\n",
      "Entities [('Walmart', 'LOC')]\n",
      "Entities [('California', 'LOC')]\n",
      "Entities [('California', 'LOC'), ('Californias', 'LOC'), ('Paradise', 'LOC')]\n",
      "Entities [('Paradise', 'LOC'), ('CampFire', 'LOC'), ('California', 'LOC')]\n",
      "Entities []\n",
      "Entities [('California', 'LOC')]\n",
      "Entities [('California', 'LOC')]\n",
      "Entities [('California', 'LOC'), ('Texas', 'LOC'), ('California', 'LOC')]\n",
      "Entities [('California', 'LOC'), ('California', 'LOC')]\n",
      "Entities [('California', 'LOC')]\n",
      "Entities [('California', 'LOC'), ('California', 'LOC')]\n",
      "Entities [('Californias', 'LOC')]\n",
      "Entities [('CampFire', 'LOC')]\n",
      "Entities []\n",
      "Entities [('California', 'LOC')]\n",
      "Entities [('California', 'LOC')]\n",
      "Entities [('Paradise', 'LOC'), ('California', 'LOC'), ('Northridge', 'LOC'), ('CampFire', 'LOC')]\n",
      "Entities [('California', 'LOC'), ('CampFire', 'LOC'), ('California', 'LOC')]\n",
      "Entities [('California', 'LOC')]\n",
      "Entities [('California', 'LOC')]\n",
      "Entities [('Chico', 'LOC')]\n",
      "Entities []\n",
      "Entities [('California', 'LOC')]\n",
      "Entities [('Red Cross', 'LOC')]\n",
      "Entities [('California', 'LOC'), ('Chico', 'LOC'), ('Paradise', 'LOC')]\n",
      "Entities [('Paradise', 'LOC'), ('California', 'LOC')]\n",
      "Entities [('Oregon', 'LOC')]\n",
      "Entities [('California', 'LOC')]\n",
      "Entities [('California', 'LOC')]\n",
      "Entities [('California', 'LOC'), ('california', 'LOC')]\n",
      "Entities [('California', 'LOC'), ('California', 'LOC')]\n",
      "Entities [('California', 'LOC')]\n",
      "Entities [('California', 'LOC')]\n",
      "Entities [('CampFire', 'LOC')]\n",
      "Entities [('California', 'LOC')]\n",
      "Entities [('Paradise', 'LOC'), ('California', 'LOC')]\n",
      "Entities []\n",
      "Entities [('California', 'LOC')]\n",
      "Entities [('California', 'LOC'), ('Paradise', 'LOC'), ('CA', 'LOC'), ('California', 'LOC')]\n",
      "Entities [('California', 'LOC')]\n",
      "Entities [('Oxnard', 'LOC')]\n",
      "Entities [('California', 'LOC')]\n",
      "Entities [('California', 'LOC')]\n",
      "Entities [('Paradise', 'LOC'), ('Magalia', 'LOC')]\n",
      "Entities [('California', 'LOC'), ('NorthCarolina', 'LOC')]\n",
      "Entities [('California', 'LOC')]\n",
      "Entities []\n",
      "Entities [('California', 'LOC'), ('Malibu', 'LOC'), ('Butte County', 'LOC')]\n",
      "Entities [('California', 'LOC')]\n",
      "Entities [('California', 'LOC')]\n",
      "Entities [('Butte County', 'LOC')]\n",
      "Entities [('Paradise', 'LOC')]\n",
      "Entities [('California', 'LOC')]\n",
      "Entities [('Californias', 'LOC')]\n",
      "Entities [('California', 'LOC')]\n",
      "Entities [('California', 'LOC')]\n",
      "Entities [('California', 'LOC')]\n",
      "Entities [('CampFire', 'LOC'), ('U.S.', 'LOC')]\n",
      "Entities [('California', 'LOC')]\n",
      "Entities [('california', 'LOC')]\n",
      "Entities [('California', 'LOC')]\n",
      "Entities [('California', 'LOC')]\n",
      "Entities [('Californias', 'LOC'), ('CA', 'LOC'), ('Malibu', 'LOC')]\n",
      "Entities [('Paradise', 'LOC'), ('California', 'LOC')]\n",
      "Entities [('California', 'LOC')]\n",
      "Entities [('CampFire', 'LOC'), ('California', 'LOC')]\n",
      "Entities [('California', 'LOC')]\n",
      "Entities [('California', 'LOC')]\n",
      "Entities [('California', 'LOC')]\n",
      "Entities [('Paradise', 'LOC'), ('CA', 'LOC')]\n",
      "Entities []\n",
      "Entities [('California', 'LOC')]\n",
      "Entities [('California', 'LOC')]\n",
      "Entities [('California', 'LOC')]\n",
      "Entities [('California', 'LOC')]\n",
      "Entities [('CampFire', 'LOC')]\n",
      "Entities [('Woodland Hills', 'LOC'), ('Thousand Oaks', 'LOC')]\n",
      "Entities [('California', 'LOC'), ('Thousand Oaks', 'LOC'), ('Malibu', 'LOC')]\n",
      "Entities [('California', 'LOC')]\n",
      "Entities [('California', 'LOC')]\n",
      "Entities [('California', 'LOC')]\n",
      "Entities [('California', 'LOC')]\n",
      "Entities [('California', 'LOC')]\n",
      "Entities [('California', 'LOC')]\n",
      "Entities [('California', 'LOC')]\n",
      "Entities [('CampFire', 'LOC')]\n",
      "Entities [('Paradise', 'LOC'), ('CA', 'LOC')]\n",
      "Entities [('California', 'LOC'), ('CA', 'LOC')]\n",
      "Entities [('California', 'LOC')]\n",
      "Entities [('California', 'LOC')]\n",
      "Entities [('California', 'LOC')]\n",
      "Entities [('CALIFORNIA', 'LOC'), ('US', 'LOC')]\n",
      "Entities [('California', 'LOC')]\n",
      "Entities [('CampFire', 'LOC'), ('Paradise', 'LOC'), ('california', 'LOC')]\n",
      "Entities []\n",
      "Entities [('California', 'LOC'), ('USA', 'LOC')]\n",
      "Entities [('California', 'LOC'), ('CampFire', 'LOC')]\n",
      "Entities [('California', 'LOC')]\n",
      "Entities [('California', 'LOC')]\n",
      "Entities [('California', 'LOC')]\n",
      "Entities [('California', 'LOC'), ('Malibu', 'LOC')]\n",
      "Entities []\n",
      "Entities [('California', 'LOC')]\n",
      "Entities [('California', 'LOC')]\n",
      "Entities [('California', 'LOC')]\n",
      "Entities [('California', 'LOC')]\n",
      "Entities []\n",
      "Entities [('California', 'LOC')]\n",
      "Entities [('California', 'LOC')]\n",
      "Entities [('California', 'LOC')]\n",
      "Entities [('Walmart', 'LOC'), ('Chico', 'LOC')]\n",
      "Entities [('California', 'LOC'), ('US', 'LOC')]\n",
      "Entities [('California', 'LOC')]\n",
      "Entities [('California', 'LOC'), ('American', 'LOC'), ('CampFire', 'LOC')]\n",
      "Entities [('California', 'LOC')]\n",
      "Entities [('California', 'LOC')]\n",
      "Entities [('California', 'LOC')]\n",
      "Entities [('California', 'LOC')]\n",
      "Entities [('California', 'LOC')]\n",
      "Entities [('CampFire', 'LOC'), ('California', 'LOC')]\n",
      "Entities [('Malibu', 'LOC'), ('California', 'LOC')]\n",
      "Entities [('Sacramento', 'LOC'), ('California', 'LOC')]\n",
      "Entities [('Malibu', 'LOC'), ('California', 'LOC')]\n",
      "Entities [('California', 'LOC')]\n",
      "Entities [('California', 'LOC')]\n",
      "Entities [('California', 'LOC')]\n",
      "Entities [('California', 'LOC')]\n",
      "Entities [('California', 'LOC')]\n",
      "Entities [('California', 'LOC')]\n",
      "Entities [('California', 'LOC')]\n",
      "Entities [('California', 'LOC')]\n",
      "Entities [('California', 'LOC')]\n",
      "Entities [('California', 'LOC')]\n",
      "Entities [('California', 'LOC')]\n",
      "Entities [('CA', 'LOC'), ('California', 'LOC')]\n",
      "Entities [('California', 'LOC')]\n",
      "Entities [('California', 'LOC')]\n",
      "Entities [('California', 'LOC')]\n",
      "Entities [('California', 'LOC')]\n",
      "Entities [('California', 'LOC')]\n",
      "Entities [('Norcal', 'LOC')]\n",
      "Entities [('Californias', 'LOC')]\n",
      "Entities [('Californias', 'LOC')]\n",
      "Entities [('California', 'LOC')]\n",
      "Entities [('CampFire', 'LOC')]\n",
      "Entities [('California', 'LOC'), ('Manhattans', 'LOC'), ('NYC', 'LOC'), ('California', 'LOC'), ('NYC', 'LOC')]\n",
      "Entities [('Paradise', 'LOC'), ('Malibu', 'LOC')]\n",
      "Entities [('California', 'LOC')]\n",
      "Entities [('California', 'LOC')]\n",
      "Entities [('Chico', 'LOC'), ('Chico', 'LOC'), ('CA', 'LOC')]\n",
      "Entities [('USA', 'LOC')]\n",
      "Entities [('California', 'LOC')]\n",
      "Entities [('Oroville', 'LOC')]\n",
      "Entities [('California', 'LOC')]\n",
      "Entities [('Calif.', 'LOC'), ('California', 'LOC')]\n",
      "Entities [('California', 'LOC')]\n",
      "Entities [('California', 'LOC'), ('U.S.', 'LOC')]\n",
      "Entities [('California', 'LOC')]\n",
      "Entities [('Malibu', 'LOC'), ('Thousand Oaks', 'LOC')]\n",
      "Entities [('California', 'LOC')]\n",
      "Entities []\n",
      "Entities [('California', 'LOC')]\n",
      "Entities [('California', 'LOC'), ('Paradise', 'LOC')]\n",
      "Entities [('Paradise', 'LOC')]\n",
      "Entities [('California', 'LOC')]\n",
      "Entities [('California', 'LOC')]\n",
      "Entities [('California', 'LOC')]\n",
      "Entities [('Paradise', 'LOC'), ('California', 'LOC'), ('Paradise', 'LOC')]\n",
      "Entities [('CampFire', 'LOC'), ('Butte County', 'LOC'), ('Ventura', 'LOC')]\n",
      "Entities [('California', 'LOC')]\n",
      "Entities [('California', 'LOC')]\n",
      "Entities [('California', 'LOC')]\n",
      "Entities [('California', 'LOC')]\n",
      "Entities [('Georgia', 'LOC'), ('California', 'LOC')]\n",
      "Entities [('California', 'LOC')]\n",
      "Entities [('California', 'LOC')]\n",
      "Entities [('Malibu', 'LOC'), ('California', 'LOC')]\n",
      "Entities [('CampFire', 'LOC'), ('California', 'LOC')]\n",
      "Entities [('California', 'LOC'), ('California', 'LOC')]\n",
      "Entities [('California', 'LOC')]\n",
      "Entities [('California', 'LOC')]\n",
      "Entities [('California', 'LOC')]\n",
      "Entities [('CA', 'LOC')]\n",
      "Entities [('CampFire', 'LOC'), ('Chico', 'LOC')]\n",
      "Entities [('California', 'LOC')]\n",
      "Entities [('Oklahoma', 'LOC'), ('California', 'LOC'), ('Oklahoma', 'LOC')]\n",
      "Entities [('CampFire', 'LOC'), ('California', 'LOC'), ('Paradise', 'LOC')]\n",
      "Entities [('California', 'LOC')]\n",
      "Entities [('Malibu', 'LOC')]\n",
      "Entities [('California', 'LOC'), ('Malibu', 'LOC'), ('Paradise', 'LOC')]\n",
      "Entities [('California', 'LOC')]\n",
      "Entities [('Cal', 'LOC')]\n",
      "Entities [('CA', 'LOC'), ('CA', 'LOC')]\n",
      "Entities [('California', 'LOC')]\n",
      "Entities [('California', 'LOC')]\n",
      "Entities [('Chico', 'LOC'), ('Paradise', 'LOC')]\n",
      "Entities [('California', 'LOC')]\n",
      "Entities []\n",
      "Entities [('California', 'LOC')]\n",
      "Entities [('California', 'LOC')]\n",
      "Entities [('California', 'LOC')]\n",
      "Entities [('California', 'LOC')]\n",
      "Entities [('US', 'LOC'), ('California', 'LOC')]\n",
      "Entities [('California', 'LOC')]\n",
      "Entities [('Paradise', 'LOC')]\n",
      "Entities [('California', 'LOC'), ('LA', 'LOC')]\n",
      "Entities [('California', 'LOC'), ('US', 'LOC')]\n",
      "Entities [('california', 'LOC')]\n",
      "Entities [('CampFire', 'LOC'), ('California', 'LOC'), ('California', 'LOC')]\n",
      "Entities [('California', 'LOC'), ('CampFire', 'LOC')]\n",
      "Entities [('Paradise', 'LOC')]\n",
      "Entities [('California', 'LOC')]\n",
      "Entities []\n",
      "Entities [('California', 'LOC')]\n",
      "Entities [('California', 'LOC')]\n",
      "Entities [('California', 'LOC')]\n",
      "Entities [('California', 'LOC')]\n",
      "Entities [('California', 'LOC'), ('California', 'LOC')]\n",
      "Entities [('Oregon', 'LOC'), ('California', 'LOC'), ('Oregon', 'LOC'), ('Vancouver', 'LOC'), ('WA', 'LOC'), ('California', 'LOC')]\n",
      "Entities [('Paradise', 'LOC'), ('CampFire', 'LOC')]\n",
      "Entities [('California', 'LOC')]\n",
      "Entities [('malibu', 'LOC'), ('California', 'LOC')]\n",
      "Entities []\n",
      "Entities [('California', 'LOC'), ('Paradise', 'LOC')]\n",
      "Entities [('California', 'LOC')]\n",
      "Entities [('California', 'LOC')]\n",
      "Entities [('California', 'LOC')]\n",
      "Entities [('California', 'LOC')]\n",
      "Entities []\n",
      "Entities [('California', 'LOC')]\n",
      "Entities [('California', 'LOC')]\n",
      "Entities [('California', 'LOC')]\n",
      "Entities [('California', 'LOC'), ('California', 'LOC'), ('CampFire', 'LOC')]\n",
      "Entities [('California', 'LOC'), ('CampFire', 'LOC')]\n",
      "Entities [('California', 'LOC')]\n",
      "Entities [('California', 'LOC')]\n",
      "Entities [('CampFire', 'LOC'), ('Butte County', 'LOC'), ('California', 'LOC')]\n",
      "Entities [('California', 'LOC'), ('Paradise', 'LOC'), ('CA', 'LOC'), ('Sacramento', 'LOC'), ('CampFire', 'LOC')]\n",
      "Entities [('CA', 'LOC')]\n",
      "Entities [('Paradise', 'LOC'), ('California', 'LOC')]\n",
      "Entities [('California', 'LOC')]\n",
      "Entities [('California', 'LOC')]\n",
      "Entities [('California', 'LOC')]\n",
      "Entities [('California', 'LOC')]\n",
      "Entities [('California', 'LOC')]\n",
      "Entities [('Paradise', 'LOC')]\n",
      "Entities [('California', 'LOC')]\n",
      "Entities [('California', 'LOC')]\n",
      "Entities [('california', 'LOC'), ('CampFire', 'LOC')]\n",
      "Entities [('California', 'LOC')]\n",
      "Entities [('California', 'LOC')]\n",
      "Entities []\n",
      "Entities []\n",
      "Entities [('CampFire', 'LOC')]\n",
      "Entities [('Thousand Oaks', 'LOC'), ('California', 'LOC')]\n",
      "Entities [('CALIFORNIA', 'LOC'), ('Chico', 'LOC')]\n",
      "Entities [('Ca', 'LOC')]\n",
      "Entities [('California', 'LOC')]\n",
      "Entities [('California', 'LOC')]\n",
      "Entities [('California', 'LOC')]\n",
      "Entities [('Paradise', 'LOC'), ('California', 'LOC')]\n",
      "Entities [('Paradise', 'LOC')]\n",
      "Entities [('California', 'LOC')]\n",
      "Entities [('California', 'LOC')]\n",
      "Entities [('California', 'LOC')]\n",
      "Entities [('CampFire', 'LOC')]\n",
      "Entities [('California', 'LOC')]\n",
      "Entities [('California', 'LOC')]\n",
      "Entities [('CampFire', 'LOC'), ('Paradise', 'LOC'), ('California', 'LOC')]\n",
      "Entities [('Butte County', 'LOC')]\n",
      "Entities [('California', 'LOC')]\n",
      "Entities [('CampFire', 'LOC')]\n",
      "Entities [('Paradise', 'LOC'), ('Ca', 'LOC')]\n",
      "Entities [('California', 'LOC')]\n",
      "Entities [('California', 'LOC'), ('Thousand Oaks', 'LOC'), ('Woodland Hills', 'LOC')]\n",
      "Entities [('California', 'LOC')]\n",
      "Entities [('Meanwhile', 'LOC')]\n",
      "Entities [('Paradise', 'LOC'), ('California', 'LOC')]\n",
      "Entities [('California', 'LOC'), ('CampFire', 'LOC')]\n",
      "Entities [('California', 'LOC'), ('California', 'LOC')]\n",
      "Entities [('California', 'LOC')]\n",
      "Entities [('CampFire', 'LOC')]\n",
      "Entities [('California', 'LOC')]\n",
      "Entities [('California', 'LOC'), ('Walmart', 'LOC')]\n",
      "Entities [('California', 'LOC')]\n",
      "Entities [('CampFire', 'LOC'), ('California', 'LOC'), ('Paradise', 'LOC')]\n",
      "Entities [('California', 'LOC'), ('CampFire', 'LOC')]\n",
      "Entities []\n",
      "Entities [('Norcal', 'LOC')]\n",
      "Entities [('California', 'LOC')]\n",
      "Entities [('California', 'LOC')]\n",
      "Entities [('CA', 'LOC')]\n",
      "Entities []\n",
      "Entities [('Paradise', 'LOC'), ('California', 'LOC')]\n",
      "Entities [('California', 'LOC')]\n",
      "Entities [('California', 'LOC')]\n",
      "Entities [('California', 'LOC')]\n",
      "Entities [('Californians', 'LOC')]\n",
      "Entities [('California', 'LOC')]\n",
      "Entities [('California', 'LOC')]\n",
      "Entities [('California', 'LOC')]\n",
      "Entities [('Butte County', 'LOC'), ('California', 'LOC')]\n",
      "Entities [('Californias', 'LOC')]\n",
      "Entities [('Paradise', 'LOC'), ('California', 'LOC')]\n",
      "Entities [('Malibu', 'LOC'), ('California', 'LOC')]\n",
      "Entities [('California', 'LOC')]\n",
      "Entities [('PARADISE', 'LOC'), ('Calif.', 'LOC'), ('California', 'LOC')]\n",
      "Entities [('California', 'LOC')]\n",
      "Entities [('California', 'LOC')]\n",
      "Entities [('CampFire', 'LOC'), ('California', 'LOC')]\n",
      "Entities [('Butte County', 'LOC'), ('California', 'LOC'), ('CampFire', 'LOC')]\n",
      "Entities [('Chico', 'LOC'), ('CampFire', 'LOC')]\n",
      "Entities [('California', 'LOC')]\n",
      "Entities [('California', 'LOC')]\n",
      "Entities [('CA', 'LOC'), ('California', 'LOC')]\n",
      "Entities [('California', 'LOC'), ('San Diego', 'LOC')]\n",
      "Entities [('California', 'LOC'), ('Nipomo', 'LOC')]\n",
      "Entities [('Paradise', 'LOC'), ('Calif.', 'LOC')]\n",
      "Entities []\n",
      "Entities [('California', 'LOC')]\n",
      "Entities [('California', 'LOC'), ('CampFire', 'LOC'), ('USA', 'LOC')]\n",
      "Entities [('California', 'LOC')]\n",
      "Entities [('California', 'LOC')]\n",
      "Entities [('California', 'LOC')]\n",
      "Entities [('California', 'LOC')]\n",
      "Entities [('California', 'LOC'), ('Sacramento', 'LOC')]\n",
      "Entities [('SanFrancisco', 'LOC'), ('Butte County', 'LOC')]\n",
      "Entities [('California', 'LOC')]\n",
      "Entities [('California', 'LOC')]\n",
      "Entities [('California', 'LOC')]\n",
      "Entities [('California', 'LOC'), ('Paradise', 'LOC'), ('California', 'LOC')]\n",
      "Entities [('Californians', 'LOC')]\n",
      "Entities [('California', 'LOC')]\n",
      "Entities [('California', 'LOC')]\n",
      "Entities []\n",
      "Entities [('CampFire', 'LOC')]\n",
      "Entities [('CampFire', 'LOC')]\n",
      "Entities []\n",
      "Entities [('California', 'LOC')]\n",
      "Entities [('California', 'LOC')]\n",
      "Entities [('CampFire', 'LOC')]\n",
      "Entities [('Walmart', 'LOC')]\n",
      "Entities [('California', 'LOC')]\n",
      "Entities [('California', 'LOC')]\n",
      "Entities [('California', 'LOC')]\n",
      "Entities [('California', 'LOC')]\n",
      "Entities [('California', 'LOC')]\n",
      "Entities [('California', 'LOC')]\n",
      "Entities [('California', 'LOC')]\n",
      "Entities [('California', 'LOC')]\n",
      "Entities [('California', 'LOC'), ('U.S.', 'LOC')]\n",
      "Entities [('California', 'LOC')]\n",
      "Entities [('california', 'LOC')]\n",
      "Entities [('California', 'LOC')]\n",
      "Entities [('California', 'LOC'), ('Malibu', 'LOC')]\n",
      "Entities [('California', 'LOC')]\n",
      "Entities [('California', 'LOC'), ('Butte County', 'LOC')]\n",
      "Entities [('California', 'LOC'), ('California', 'LOC')]\n",
      "Entities [('California', 'LOC'), ('Nevada', 'LOC')]\n",
      "Entities [('Californias', 'LOC')]\n",
      "Entities [('California', 'LOC')]\n",
      "Entities [('Californias', 'LOC')]\n",
      "Entities [('California', 'LOC'), ('-China', 'LOC'), ('-Mississippi', 'LOC')]\n",
      "Entities [('California', 'LOC')]\n",
      "Entities [('Paradise', 'LOC'), ('Calif.', 'LOC'), ('American', 'LOC')]\n",
      "Entities [('Paradise', 'LOC'), ('California', 'LOC')]\n",
      "Entities [('California', 'LOC')]\n",
      "Entities [('Paradise', 'LOC'), ('California', 'LOC'), ('California', 'LOC')]\n",
      "Entities [('Topanga', 'LOC')]\n",
      "Entities [('Californias', 'LOC')]\n",
      "Entities []\n",
      "Entities [('California', 'LOC')]\n",
      "Entities [('California', 'LOC'), ('CA', 'LOC')]\n",
      "Entities [('California', 'LOC')]\n",
      "Entities [('California', 'LOC'), ('CampFire', 'LOC')]\n",
      "Entities [('Californias', 'LOC'), ('CampFire', 'LOC')]\n",
      "Entities [('California', 'LOC')]\n",
      "Entities [('California', 'LOC')]\n",
      "Entities [('California', 'LOC')]\n",
      "Entities [('California', 'LOC')]\n",
      "Entities []\n",
      "Entities [('California', 'LOC')]\n",
      "Entities [('California', 'LOC')]\n",
      "Entities [('California', 'LOC')]\n",
      "Entities [('Californians', 'LOC'), ('California', 'LOC')]\n",
      "Entities [('Paradise', 'LOC'), ('California', 'LOC')]\n",
      "Entities [('American', 'LOC'), ('California', 'LOC')]\n",
      "Entities [('CampFire', 'LOC')]\n",
      "Entities [('California', 'LOC')]\n",
      "Entities [('CampFire', 'LOC'), ('Paradise', 'LOC')]\n",
      "Entities [('California', 'LOC')]\n",
      "Entities [('Israeli', 'LOC'), ('US', 'LOC'), ('California', 'LOC')]\n",
      "Entities [('California', 'LOC')]\n",
      "Entities [('CampFire', 'LOC')]\n"
     ]
    }
   ],
   "execution_count": 22
  },
  {
   "metadata": {
    "ExecuteTime": {
     "end_time": "2024-08-12T16:04:43.224024Z",
     "start_time": "2024-08-12T16:04:42.131296Z"
    }
   },
   "cell_type": "code",
   "source": [
    "import srsly\n",
    "from spacy import displacy\n",
    "\n",
    "# Load the data from the test.jsonl file\n",
    "file_path = 'test.jsonl'\n",
    "data = srsly.read_jsonl(file_path)\n",
    "\n",
    "# Extract the text from each tweet and store in a list\n",
    "texts = [item['text'] for item in data]\n",
    "options = {\"ents\": [\"LOC\"], \"colors\": {\"LOC\": \"lightgreen\"}}\n",
    "# Print the extracted text\n",
    "for text in texts:\n",
    "    doc = nlp(text)\n",
    "    displacy.render(doc, style=\"ent\", options=options, jupyter=True)\n",
    "    # print('Entities', [(ent.text, ent.label_) for ent in doc.ents])\n"
   ],
   "id": "42237b15a7076cf5",
   "outputs": [
    {
     "data": {
      "text/plain": [
       "<IPython.core.display.HTML object>"
      ],
      "text/html": [
       "<span class=\"tex2jax_ignore\"><div class=\"entities\" style=\"line-height: 2.5; direction: ltr\">\n",
       "<mark class=\"entity\" style=\"background: lightgreen; padding: 0.45em 0.6em; margin: 0 0.25em; line-height: 1; border-radius: 0.35em;\">\n",
       "    California\n",
       "    <span style=\"font-size: 0.8em; font-weight: bold; line-height: 1; border-radius: 0.35em; vertical-align: middle; margin-left: 0.5rem\">LOC</span>\n",
       "</mark>\n",
       " Wildfires Destroy Camp for Teens Living With HIV [VIDEO] @trentonstraube</div></span>"
      ]
     },
     "metadata": {},
     "output_type": "display_data"
    },
    {
     "name": "stderr",
     "output_type": "stream",
     "text": [
      "/Users/abhiramyanampally/miniconda3/lib/python3.12/site-packages/spacy/displacy/__init__.py:213: UserWarning: [W006] No entities to visualize found in Doc object. If this is surprising to you, make sure the Doc was processed using a model that supports named entity recognition, and check the `doc.ents` property manually if necessary.\n",
      "  warnings.warn(Warnings.W006)\n"
     ]
    },
    {
     "data": {
      "text/plain": [
       "<IPython.core.display.HTML object>"
      ],
      "text/html": [
       "<span class=\"tex2jax_ignore\"><div class=\"entities\" style=\"line-height: 2.5; direction: ltr\">Want to help? #MarinCounty</div></span>"
      ]
     },
     "metadata": {},
     "output_type": "display_data"
    },
    {
     "data": {
      "text/plain": [
       "<IPython.core.display.HTML object>"
      ],
      "text/html": [
       "<span class=\"tex2jax_ignore\"><div class=\"entities\" style=\"line-height: 2.5; direction: ltr\">The number of buildings destroyed by Southern Californias Woolsey Fire stands at 1,500 as firefighters increased containment of the 97,000-acre fire.</div></span>"
      ]
     },
     "metadata": {},
     "output_type": "display_data"
    },
    {
     "data": {
      "text/plain": [
       "<IPython.core.display.HTML object>"
      ],
      "text/html": [
       "<span class=\"tex2jax_ignore\"><div class=\"entities\" style=\"line-height: 2.5; direction: ltr\">saw a post earlier that suggested the rainfall in smoky areas in \n",
       "<mark class=\"entity\" style=\"background: lightgreen; padding: 0.45em 0.6em; margin: 0 0.25em; line-height: 1; border-radius: 0.35em;\">\n",
       "    california\n",
       "    <span style=\"font-size: 0.8em; font-weight: bold; line-height: 1; border-radius: 0.35em; vertical-align: middle; margin-left: 0.5rem\">LOC</span>\n",
       "</mark>\n",
       " will be extremely toxic and this, uh, seems to not be the case at all:</div></span>"
      ]
     },
     "metadata": {},
     "output_type": "display_data"
    },
    {
     "data": {
      "text/plain": [
       "<IPython.core.display.HTML object>"
      ],
      "text/html": [
       "<span class=\"tex2jax_ignore\"><div class=\"entities\" style=\"line-height: 2.5; direction: ltr\">RT @NBCNightlyNews: \n",
       "<mark class=\"entity\" style=\"background: lightgreen; padding: 0.45em 0.6em; margin: 0 0.25em; line-height: 1; border-radius: 0.35em;\">\n",
       "    California\n",
       "    <span style=\"font-size: 0.8em; font-weight: bold; line-height: 1; border-radius: 0.35em; vertical-align: middle; margin-left: 0.5rem\">LOC</span>\n",
       "</mark>\n",
       " wildfires: Town hosting displaced victims for Thanksgiving feast.</div></span>"
      ]
     },
     "metadata": {},
     "output_type": "display_data"
    },
    {
     "data": {
      "text/plain": [
       "<IPython.core.display.HTML object>"
      ],
      "text/html": [
       "<span class=\"tex2jax_ignore\"><div class=\"entities\" style=\"line-height: 2.5; direction: ltr\">OVER 1000 missing people, countless families are HOMELESS! Just think about it for a second and please donate here by buying a cup of coffee or somewhere else! Buy a cup of coffee here ὄ9 Ἑ8100% of the money will go to victims of \n",
       "<mark class=\"entity\" style=\"background: lightgreen; padding: 0.45em 0.6em; margin: 0 0.25em; line-height: 1; border-radius: 0.35em;\">\n",
       "    California\n",
       "    <span style=\"font-size: 0.8em; font-weight: bold; line-height: 1; border-radius: 0.35em; vertical-align: middle; margin-left: 0.5rem\">LOC</span>\n",
       "</mark>\n",
       " Fires!Ἑ8</div></span>"
      ]
     },
     "metadata": {},
     "output_type": "display_data"
    },
    {
     "data": {
      "text/plain": [
       "<IPython.core.display.HTML object>"
      ],
      "text/html": [
       "<span class=\"tex2jax_ignore\"><div class=\"entities\" style=\"line-height: 2.5; direction: ltr\">@pewdiepie - I want to help with the \n",
       "<mark class=\"entity\" style=\"background: lightgreen; padding: 0.45em 0.6em; margin: 0 0.25em; line-height: 1; border-radius: 0.35em;\">\n",
       "    California\n",
       "    <span style=\"font-size: 0.8em; font-weight: bold; line-height: 1; border-radius: 0.35em; vertical-align: middle; margin-left: 0.5rem\">LOC</span>\n",
       "</mark>\n",
       " Wildfires. Please retweet my pinned tweet, Im wanting to donate anything it might make to the \n",
       "<mark class=\"entity\" style=\"background: lightgreen; padding: 0.45em 0.6em; margin: 0 0.25em; line-height: 1; border-radius: 0.35em;\">\n",
       "    California\n",
       "    <span style=\"font-size: 0.8em; font-weight: bold; line-height: 1; border-radius: 0.35em; vertical-align: middle; margin-left: 0.5rem\">LOC</span>\n",
       "</mark>\n",
       " Relief fund. You have the power to make this happen, and I ask that you change my life, and the victims life in just 3 clicks.</div></span>"
      ]
     },
     "metadata": {},
     "output_type": "display_data"
    },
    {
     "data": {
      "text/plain": [
       "<IPython.core.display.HTML object>"
      ],
      "text/html": [
       "<span class=\"tex2jax_ignore\"><div class=\"entities\" style=\"line-height: 2.5; direction: ltr\">#DemocratsAreDangerous Their policies kill people. They let environmental groups run wild and this is the results massive fires w massive deaths. Bring back common sense. #\n",
       "<mark class=\"entity\" style=\"background: lightgreen; padding: 0.45em 0.6em; margin: 0 0.25em; line-height: 1; border-radius: 0.35em;\">\n",
       "    CampFire\n",
       "    <span style=\"font-size: 0.8em; font-weight: bold; line-height: 1; border-radius: 0.35em; vertical-align: middle; margin-left: 0.5rem\">LOC</span>\n",
       "</mark>\n",
       " #\n",
       "<mark class=\"entity\" style=\"background: lightgreen; padding: 0.45em 0.6em; margin: 0 0.25em; line-height: 1; border-radius: 0.35em;\">\n",
       "    California\n",
       "    <span style=\"font-size: 0.8em; font-weight: bold; line-height: 1; border-radius: 0.35em; vertical-align: middle; margin-left: 0.5rem\">LOC</span>\n",
       "</mark>\n",
       "</div></span>"
      ]
     },
     "metadata": {},
     "output_type": "display_data"
    },
    {
     "data": {
      "text/plain": [
       "<IPython.core.display.HTML object>"
      ],
      "text/html": [
       "<span class=\"tex2jax_ignore\"><div class=\"entities\" style=\"line-height: 2.5; direction: ltr\">A long time ago in a galaxy not so far way, I was a wildlife biologist. Fires were absolutely heartbreaking. So I just donated to @NVADG because they help wildlife as well as livestock and pets. Please consider any of these charities (or any charity you damn well please).</div></span>"
      ]
     },
     "metadata": {},
     "output_type": "display_data"
    },
    {
     "data": {
      "text/plain": [
       "<IPython.core.display.HTML object>"
      ],
      "text/html": [
       "<span class=\"tex2jax_ignore\"><div class=\"entities\" style=\"line-height: 2.5; direction: ltr\">Lexus/Toyota Offers Payment Relief to Customers Affected by \n",
       "<mark class=\"entity\" style=\"background: lightgreen; padding: 0.45em 0.6em; margin: 0 0.25em; line-height: 1; border-radius: 0.35em;\">\n",
       "    California\n",
       "    <span style=\"font-size: 0.8em; font-weight: bold; line-height: 1; border-radius: 0.35em; vertical-align: middle; margin-left: 0.5rem\">LOC</span>\n",
       "</mark>\n",
       " Wildfires #californiawildfires</div></span>"
      ]
     },
     "metadata": {},
     "output_type": "display_data"
    },
    {
     "data": {
      "text/plain": [
       "<IPython.core.display.HTML object>"
      ],
      "text/html": [
       "<span class=\"tex2jax_ignore\"><div class=\"entities\" style=\"line-height: 2.5; direction: ltr\">.@AnaheimFire and @orange_city_fd are participating in the rescue and recovery efforts at the Camp Fire in @CountyofButte #ButteStrong #ParadiseStrong</div></span>"
      ]
     },
     "metadata": {},
     "output_type": "display_data"
    },
    {
     "data": {
      "text/plain": [
       "<IPython.core.display.HTML object>"
      ],
      "text/html": [
       "<span class=\"tex2jax_ignore\"><div class=\"entities\" style=\"line-height: 2.5; direction: ltr\">Another inspirational rescue story from the \n",
       "<mark class=\"entity\" style=\"background: lightgreen; padding: 0.45em 0.6em; margin: 0 0.25em; line-height: 1; border-radius: 0.35em;\">\n",
       "    California\n",
       "    <span style=\"font-size: 0.8em; font-weight: bold; line-height: 1; border-radius: 0.35em; vertical-align: middle; margin-left: 0.5rem\">LOC</span>\n",
       "</mark>\n",
       " fires.</div></span>"
      ]
     },
     "metadata": {},
     "output_type": "display_data"
    },
    {
     "data": {
      "text/plain": [
       "<IPython.core.display.HTML object>"
      ],
      "text/html": [
       "<span class=\"tex2jax_ignore\"><div class=\"entities\" style=\"line-height: 2.5; direction: ltr\">Kevin Hannes with FEMA  its unclear if trailers will be brought in to handle the displaced @fema @Cal_OES set up trailers NOW, why do I pay taxes????!!!! or is it because #IlegitimatePOTUS @realdonaldtrump stripped the budget?</div></span>"
      ]
     },
     "metadata": {},
     "output_type": "display_data"
    },
    {
     "data": {
      "text/plain": [
       "<IPython.core.display.HTML object>"
      ],
      "text/html": [
       "<span class=\"tex2jax_ignore\"><div class=\"entities\" style=\"line-height: 2.5; direction: ltr\">Disaster Relief \n",
       "<mark class=\"entity\" style=\"background: lightgreen; padding: 0.45em 0.6em; margin: 0 0.25em; line-height: 1; border-radius: 0.35em;\">\n",
       "    UpdateCalifornia\n",
       "    <span style=\"font-size: 0.8em; font-weight: bold; line-height: 1; border-radius: 0.35em; vertical-align: middle; margin-left: 0.5rem\">LOC</span>\n",
       "</mark>\n",
       " wildfires - you can help! Heres how:  #DisasterRelief #JesusB</div></span>"
      ]
     },
     "metadata": {},
     "output_type": "display_data"
    },
    {
     "data": {
      "text/plain": [
       "<IPython.core.display.HTML object>"
      ],
      "text/html": [
       "<span class=\"tex2jax_ignore\"><div class=\"entities\" style=\"line-height: 2.5; direction: ltr\">Hazy shot of downtown #Memphis from the @WMCActionNews5 #FirstAlert camera in Midtown. Meteorologist @spencerstorm5 says it’s hazy b/c of smoke from the \n",
       "<mark class=\"entity\" style=\"background: lightgreen; padding: 0.45em 0.6em; margin: 0 0.25em; line-height: 1; border-radius: 0.35em;\">\n",
       "    California\n",
       "    <span style=\"font-size: 0.8em; font-weight: bold; line-height: 1; border-radius: 0.35em; vertical-align: middle; margin-left: 0.5rem\">LOC</span>\n",
       "</mark>\n",
       " #wildfires! #memwx</div></span>"
      ]
     },
     "metadata": {},
     "output_type": "display_data"
    },
    {
     "data": {
      "text/plain": [
       "<IPython.core.display.HTML object>"
      ],
      "text/html": [
       "<span class=\"tex2jax_ignore\"><div class=\"entities\" style=\"line-height: 2.5; direction: ltr\">RT @GreatBeerNow: Sierra Nevada brews new beer, Resilience IPA, to aid \n",
       "<mark class=\"entity\" style=\"background: lightgreen; padding: 0.45em 0.6em; margin: 0 0.25em; line-height: 1; border-radius: 0.35em;\">\n",
       "    California\n",
       "    <span style=\"font-size: 0.8em; font-weight: bold; line-height: 1; border-radius: 0.35em; vertical-align: middle; margin-left: 0.5rem\">LOC</span>\n",
       "</mark>\n",
       " fire victims:</div></span>"
      ]
     },
     "metadata": {},
     "output_type": "display_data"
    },
    {
     "data": {
      "text/plain": [
       "<IPython.core.display.HTML object>"
      ],
      "text/html": [
       "<span class=\"tex2jax_ignore\"><div class=\"entities\" style=\"line-height: 2.5; direction: ltr\">There is still so much work to be done! 50% of ALL subscriptions to @SportsAlDente will be donated to the #RedCross to aid in WildFire relief. Let’s help rebuild our community!</div></span>"
      ]
     },
     "metadata": {},
     "output_type": "display_data"
    },
    {
     "data": {
      "text/plain": [
       "<IPython.core.display.HTML object>"
      ],
      "text/html": [
       "<span class=\"tex2jax_ignore\"><div class=\"entities\" style=\"line-height: 2.5; direction: ltr\">Here is a great cause help Reigns Around Hope Foundation raise funds to rescue livestock affected by the fires in \n",
       "<mark class=\"entity\" style=\"background: lightgreen; padding: 0.45em 0.6em; margin: 0 0.25em; line-height: 1; border-radius: 0.35em;\">\n",
       "    California\n",
       "    <span style=\"font-size: 0.8em; font-weight: bold; line-height: 1; border-radius: 0.35em; vertical-align: middle; margin-left: 0.5rem\">LOC</span>\n",
       "</mark>\n",
       " go to  #CaliforniaWildfire #horse #reignsaroundhope #charities #animalrescue</div></span>"
      ]
     },
     "metadata": {},
     "output_type": "display_data"
    },
    {
     "data": {
      "text/plain": [
       "<IPython.core.display.HTML object>"
      ],
      "text/html": [
       "<span class=\"tex2jax_ignore\"><div class=\"entities\" style=\"line-height: 2.5; direction: ltr\">Excellent use of the @abcnews before-after sliders to show the extent of the damage caused in \n",
       "<mark class=\"entity\" style=\"background: lightgreen; padding: 0.45em 0.6em; margin: 0 0.25em; line-height: 1; border-radius: 0.35em;\">\n",
       "    Paradise\n",
       "    <span style=\"font-size: 0.8em; font-weight: bold; line-height: 1; border-radius: 0.35em; vertical-align: middle; margin-left: 0.5rem\">LOC</span>\n",
       "</mark>\n",
       " by the recent #\n",
       "<mark class=\"entity\" style=\"background: lightgreen; padding: 0.45em 0.6em; margin: 0 0.25em; line-height: 1; border-radius: 0.35em;\">\n",
       "    CampFire\n",
       "    <span style=\"font-size: 0.8em; font-weight: bold; line-height: 1; border-radius: 0.35em; vertical-align: middle; margin-left: 0.5rem\">LOC</span>\n",
       "</mark>\n",
       " in \n",
       "<mark class=\"entity\" style=\"background: lightgreen; padding: 0.45em 0.6em; margin: 0 0.25em; line-height: 1; border-radius: 0.35em;\">\n",
       "    California\n",
       "    <span style=\"font-size: 0.8em; font-weight: bold; line-height: 1; border-radius: 0.35em; vertical-align: middle; margin-left: 0.5rem\">LOC</span>\n",
       "</mark>\n",
       ". Fine work by @cristentilley and @tim_leslie</div></span>"
      ]
     },
     "metadata": {},
     "output_type": "display_data"
    },
    {
     "data": {
      "text/plain": [
       "<IPython.core.display.HTML object>"
      ],
      "text/html": [
       "<span class=\"tex2jax_ignore\"><div class=\"entities\" style=\"line-height: 2.5; direction: ltr\">Im happy to announce that we raised over $1000 for the \n",
       "<mark class=\"entity\" style=\"background: lightgreen; padding: 0.45em 0.6em; margin: 0 0.25em; line-height: 1; border-radius: 0.35em;\">\n",
       "    California\n",
       "    <span style=\"font-size: 0.8em; font-weight: bold; line-height: 1; border-radius: 0.35em; vertical-align: middle; margin-left: 0.5rem\">LOC</span>\n",
       "</mark>\n",
       " Community Fund’s Wildfire Relief Fund last night at monday_monday_at_hotel_cafe!! Thanks to all of the</div></span>"
      ]
     },
     "metadata": {},
     "output_type": "display_data"
    },
    {
     "data": {
      "text/plain": [
       "<IPython.core.display.HTML object>"
      ],
      "text/html": [
       "<span class=\"tex2jax_ignore\"><div class=\"entities\" style=\"line-height: 2.5; direction: ltr\">We have donated to the Los Angeles Fire Department Foundation to help after the deadly \n",
       "<mark class=\"entity\" style=\"background: lightgreen; padding: 0.45em 0.6em; margin: 0 0.25em; line-height: 1; border-radius: 0.35em;\">\n",
       "    California\n",
       "    <span style=\"font-size: 0.8em; font-weight: bold; line-height: 1; border-radius: 0.35em; vertical-align: middle; margin-left: 0.5rem\">LOC</span>\n",
       "</mark>\n",
       " wildfires, and encourage others to support the recovery effort as they see fit. We can do this together. #laharecovery #wildfires</div></span>"
      ]
     },
     "metadata": {},
     "output_type": "display_data"
    },
    {
     "data": {
      "text/plain": [
       "<IPython.core.display.HTML object>"
      ],
      "text/html": [
       "<span class=\"tex2jax_ignore\"><div class=\"entities\" style=\"line-height: 2.5; direction: ltr\">Was your business affected by the Wooley fire? We have a list of trusted resources to guide you through the process of recovering. Our Americas Job Centers of \n",
       "<mark class=\"entity\" style=\"background: lightgreen; padding: 0.45em 0.6em; margin: 0 0.25em; line-height: 1; border-radius: 0.35em;\">\n",
       "    California\n",
       "    <span style=\"font-size: 0.8em; font-weight: bold; line-height: 1; border-radius: 0.35em; vertical-align: middle; margin-left: 0.5rem\">LOC</span>\n",
       "</mark>\n",
       " (AJCCs) can provide you with one-on-one assistance. #woolseyfire #businessresource #businessrecovery</div></span>"
      ]
     },
     "metadata": {},
     "output_type": "display_data"
    },
    {
     "data": {
      "text/plain": [
       "<IPython.core.display.HTML object>"
      ],
      "text/html": [
       "<span class=\"tex2jax_ignore\"><div class=\"entities\" style=\"line-height: 2.5; direction: ltr\">Team 2840 springing into action to help our fellow orange blooded associates who have been impacted by the \n",
       "<mark class=\"entity\" style=\"background: lightgreen; padding: 0.45em 0.6em; margin: 0 0.25em; line-height: 1; border-radius: 0.35em;\">\n",
       "    California\n",
       "    <span style=\"font-size: 0.8em; font-weight: bold; line-height: 1; border-radius: 0.35em; vertical-align: middle; margin-left: 0.5rem\">LOC</span>\n",
       "</mark>\n",
       " wild fires. #letsdothis #thecello #GivingTuesday #OrangeSupport4CA</div></span>"
      ]
     },
     "metadata": {},
     "output_type": "display_data"
    },
    {
     "data": {
      "text/plain": [
       "<IPython.core.display.HTML object>"
      ],
      "text/html": [
       "<span class=\"tex2jax_ignore\"><div class=\"entities\" style=\"line-height: 2.5; direction: ltr\">Live at Camp Out for a Cause! Fire is ready and we are ready for some more donations to help Abraham’s Tent this Holiday Season!</div></span>"
      ]
     },
     "metadata": {},
     "output_type": "display_data"
    },
    {
     "data": {
      "text/plain": [
       "<IPython.core.display.HTML object>"
      ],
      "text/html": [
       "<span class=\"tex2jax_ignore\"><div class=\"entities\" style=\"line-height: 2.5; direction: ltr\">*Far Northern Regional Center is Seeking Help* The Camp Fire is responsible for devastating loss for clients, families, regional center staff, and service provider staff in the Far Northern Regional Center</div></span>"
      ]
     },
     "metadata": {},
     "output_type": "display_data"
    },
    {
     "data": {
      "text/plain": [
       "<IPython.core.display.HTML object>"
      ],
      "text/html": [
       "<span class=\"tex2jax_ignore\"><div class=\"entities\" style=\"line-height: 2.5; direction: ltr\">#TexasProud! We give thanks to the 200+ \n",
       "<mark class=\"entity\" style=\"background: lightgreen; padding: 0.45em 0.6em; margin: 0 0.25em; line-height: 1; border-radius: 0.35em;\">\n",
       "    Texas\n",
       "    <span style=\"font-size: 0.8em; font-weight: bold; line-height: 1; border-radius: 0.35em; vertical-align: middle; margin-left: 0.5rem\">LOC</span>\n",
       "</mark>\n",
       " firefighters &amp; support crews from across the state, who are returning after deploying to help our \n",
       "<mark class=\"entity\" style=\"background: lightgreen; padding: 0.45em 0.6em; margin: 0 0.25em; line-height: 1; border-radius: 0.35em;\">\n",
       "    California\n",
       "    <span style=\"font-size: 0.8em; font-weight: bold; line-height: 1; border-radius: 0.35em; vertical-align: middle; margin-left: 0.5rem\">LOC</span>\n",
       "</mark>\n",
       " neighbors battle wildfires. We salute you! ὏8Courtesy: @austinfiredept, @FortWorthFire, @mckinneytxfire &amp; @TXForestService</div></span>"
      ]
     },
     "metadata": {},
     "output_type": "display_data"
    },
    {
     "data": {
      "text/plain": [
       "<IPython.core.display.HTML object>"
      ],
      "text/html": [
       "<span class=\"tex2jax_ignore\"><div class=\"entities\" style=\"line-height: 2.5; direction: ltr\">Veterans who need serious help -- homeless Americans, people who were born here and have made a life here and suffer hardship (like the wildfires in California)--these folks come BEFORE any illegal alien. Thats it. Americans first. ESPECIALLY VETERANS</div></span>"
      ]
     },
     "metadata": {},
     "output_type": "display_data"
    },
    {
     "data": {
      "text/plain": [
       "<IPython.core.display.HTML object>"
      ],
      "text/html": [
       "<span class=\"tex2jax_ignore\"><div class=\"entities\" style=\"line-height: 2.5; direction: ltr\">RT @OrovilleMR: Smoke from \n",
       "<mark class=\"entity\" style=\"background: lightgreen; padding: 0.45em 0.6em; margin: 0 0.25em; line-height: 1; border-radius: 0.35em;\">\n",
       "    California\n",
       "    <span style=\"font-size: 0.8em; font-weight: bold; line-height: 1; border-radius: 0.35em; vertical-align: middle; margin-left: 0.5rem\">LOC</span>\n",
       "</mark>\n",
       " fires can cause problems for wildlife and pets</div></span>"
      ]
     },
     "metadata": {},
     "output_type": "display_data"
    },
    {
     "data": {
      "text/plain": [
       "<IPython.core.display.HTML object>"
      ],
      "text/html": [
       "<span class=\"tex2jax_ignore\"><div class=\"entities\" style=\"line-height: 2.5; direction: ltr\">Authorities are using a powerful tool in their effort to identify the scores of people killed by the wildfire that ripped through Northern \n",
       "<mark class=\"entity\" style=\"background: lightgreen; padding: 0.45em 0.6em; margin: 0 0.25em; line-height: 1; border-radius: 0.35em;\">\n",
       "    California\n",
       "    <span style=\"font-size: 0.8em; font-weight: bold; line-height: 1; border-radius: 0.35em; vertical-align: middle; margin-left: 0.5rem\">LOC</span>\n",
       "</mark>\n",
       ".</div></span>"
      ]
     },
     "metadata": {},
     "output_type": "display_data"
    },
    {
     "data": {
      "text/plain": [
       "<IPython.core.display.HTML object>"
      ],
      "text/html": [
       "<span class=\"tex2jax_ignore\"><div class=\"entities\" style=\"line-height: 2.5; direction: ltr\">RT @kron4news: WATCH: Newly released video shows dramatic rescue during #WoolseyFire</div></span>"
      ]
     },
     "metadata": {},
     "output_type": "display_data"
    },
    {
     "data": {
      "text/plain": [
       "<IPython.core.display.HTML object>"
      ],
      "text/html": [
       "<span class=\"tex2jax_ignore\"><div class=\"entities\" style=\"line-height: 2.5; direction: ltr\">At that moment, I could tell that these people were in need for very basic items that we have every day,” said Samreet Kaur, social media and supplies manager of Bhagat Puran Singh Health Initiative, on her visit to an evacuation shelter in \n",
       "<mark class=\"entity\" style=\"background: lightgreen; padding: 0.45em 0.6em; margin: 0 0.25em; line-height: 1; border-radius: 0.35em;\">\n",
       "    Oroville\n",
       "    <span style=\"font-size: 0.8em; font-weight: bold; line-height: 1; border-radius: 0.35em; vertical-align: middle; margin-left: 0.5rem\">LOC</span>\n",
       "</mark>\n",
       ".</div></span>"
      ]
     },
     "metadata": {},
     "output_type": "display_data"
    },
    {
     "data": {
      "text/plain": [
       "<IPython.core.display.HTML object>"
      ],
      "text/html": [
       "<span class=\"tex2jax_ignore\"><div class=\"entities\" style=\"line-height: 2.5; direction: ltr\">Q. Questions and answers: red cross shelter now accepting people with pets displaced by the camp creek road fire. See video for details (trigger warning opens with destroyed \n",
       "<mark class=\"entity\" style=\"background: lightgreen; padding: 0.45em 0.6em; margin: 0 0.25em; line-height: 1; border-radius: 0.35em;\">\n",
       "    Paradise\n",
       "    <span style=\"font-size: 0.8em; font-weight: bold; line-height: 1; border-radius: 0.35em; vertical-align: middle; margin-left: 0.5rem\">LOC</span>\n",
       "</mark>\n",
       " image) #ButteCounty #campfire</div></span>"
      ]
     },
     "metadata": {},
     "output_type": "display_data"
    },
    {
     "data": {
      "text/plain": [
       "<IPython.core.display.HTML object>"
      ],
      "text/html": [
       "<span class=\"tex2jax_ignore\"><div class=\"entities\" style=\"line-height: 2.5; direction: ltr\">Interior Secretary Ryan Zinke blamed radical environmentalists” Tuesday for blocking federal forest-management efforts and causing dangerous conditions that lead to deadly wildfires such as the blaze that killed dozens last week in northern \n",
       "<mark class=\"entity\" style=\"background: lightgreen; padding: 0.45em 0.6em; margin: 0 0.25em; line-height: 1; border-radius: 0.35em;\">\n",
       "    California\n",
       "    <span style=\"font-size: 0.8em; font-weight: bold; line-height: 1; border-radius: 0.35em; vertical-align: middle; margin-left: 0.5rem\">LOC</span>\n",
       "</mark>\n",
       ".</div></span>"
      ]
     },
     "metadata": {},
     "output_type": "display_data"
    },
    {
     "data": {
      "text/plain": [
       "<IPython.core.display.HTML object>"
      ],
      "text/html": [
       "<span class=\"tex2jax_ignore\"><div class=\"entities\" style=\"line-height: 2.5; direction: ltr\">This week Im doing my best not to spiral into hopelessness at the news about the wildfires in \n",
       "<mark class=\"entity\" style=\"background: lightgreen; padding: 0.45em 0.6em; margin: 0 0.25em; line-height: 1; border-radius: 0.35em;\">\n",
       "    California\n",
       "    <span style=\"font-size: 0.8em; font-weight: bold; line-height: 1; border-radius: 0.35em; vertical-align: middle; margin-left: 0.5rem\">LOC</span>\n",
       "</mark>\n",
       ", where 1600+ people are still missing. Or yesterdays shootings. Or the DOW. Or the emails. If</div></span>"
      ]
     },
     "metadata": {},
     "output_type": "display_data"
    },
    {
     "data": {
      "text/plain": [
       "<IPython.core.display.HTML object>"
      ],
      "text/html": [
       "<span class=\"tex2jax_ignore\"><div class=\"entities\" style=\"line-height: 2.5; direction: ltr\">NEW #\n",
       "<mark class=\"entity\" style=\"background: lightgreen; padding: 0.45em 0.6em; margin: 0 0.25em; line-height: 1; border-radius: 0.35em;\">\n",
       "    CampFire\n",
       "    <span style=\"font-size: 0.8em; font-weight: bold; line-height: 1; border-radius: 0.35em; vertical-align: middle; margin-left: 0.5rem\">LOC</span>\n",
       "</mark>\n",
       " death toll: 81 Bed springs? a searcher wonders. Bathtub? Crews in \n",
       "<mark class=\"entity\" style=\"background: lightgreen; padding: 0.45em 0.6em; margin: 0 0.25em; line-height: 1; border-radius: 0.35em;\">\n",
       "    Paradise\n",
       "    <span style=\"font-size: 0.8em; font-weight: bold; line-height: 1; border-radius: 0.35em; vertical-align: middle; margin-left: 0.5rem\">LOC</span>\n",
       "</mark>\n",
       " are up against the clock to find high-priority search spots &amp; signs of the unfound dead before a rainstorm washes them away forever. My latest:  via @azcentral</div></span>"
      ]
     },
     "metadata": {},
     "output_type": "display_data"
    },
    {
     "data": {
      "text/plain": [
       "<IPython.core.display.HTML object>"
      ],
      "text/html": [
       "<span class=\"tex2jax_ignore\"><div class=\"entities\" style=\"line-height: 2.5; direction: ltr\">Authorities are using a rapid DNA test that produces results in just two hours to help identify the scores of people killed by the Northern \n",
       "<mark class=\"entity\" style=\"background: lightgreen; padding: 0.45em 0.6em; margin: 0 0.25em; line-height: 1; border-radius: 0.35em;\">\n",
       "    California\n",
       "    <span style=\"font-size: 0.8em; font-weight: bold; line-height: 1; border-radius: 0.35em; vertical-align: middle; margin-left: 0.5rem\">LOC</span>\n",
       "</mark>\n",
       " wildfire. The death toll nearly two weeks after the inferno stands at 79.</div></span>"
      ]
     },
     "metadata": {},
     "output_type": "display_data"
    },
    {
     "data": {
      "text/plain": [
       "<IPython.core.display.HTML object>"
      ],
      "text/html": [
       "<span class=\"tex2jax_ignore\"><div class=\"entities\" style=\"line-height: 2.5; direction: ltr\">List of missing in #\n",
       "<mark class=\"entity\" style=\"background: lightgreen; padding: 0.45em 0.6em; margin: 0 0.25em; line-height: 1; border-radius: 0.35em;\">\n",
       "    CampFire\n",
       "    <span style=\"font-size: 0.8em; font-weight: bold; line-height: 1; border-radius: 0.35em; vertical-align: middle; margin-left: 0.5rem\">LOC</span>\n",
       "</mark>\n",
       " fluctuates, confusing some. 699 still unaccounted for. 81 confirmed dead.</div></span>"
      ]
     },
     "metadata": {},
     "output_type": "display_data"
    },
    {
     "data": {
      "text/plain": [
       "<IPython.core.display.HTML object>"
      ],
      "text/html": [
       "<span class=\"tex2jax_ignore\"><div class=\"entities\" style=\"line-height: 2.5; direction: ltr\">RT @danielleiat: oof. probably best not to talk about how fires that have killed hundreds of people are improving your view</div></span>"
      ]
     },
     "metadata": {},
     "output_type": "display_data"
    },
    {
     "data": {
      "text/plain": [
       "<IPython.core.display.HTML object>"
      ],
      "text/html": [
       "<span class=\"tex2jax_ignore\"><div class=\"entities\" style=\"line-height: 2.5; direction: ltr\">This guy is awesome! Buy a shirt til Monday. 100% donations to the \n",
       "<mark class=\"entity\" style=\"background: lightgreen; padding: 0.45em 0.6em; margin: 0 0.25em; line-height: 1; border-radius: 0.35em;\">\n",
       "    CA\n",
       "    <span style=\"font-size: 0.8em; font-weight: bold; line-height: 1; border-radius: 0.35em; vertical-align: middle; margin-left: 0.5rem\">LOC</span>\n",
       "</mark>\n",
       " fires.ὤFὠ7❤\n",
       "<mark class=\"entity\" style=\"background: lightgreen; padding: 0.45em 0.6em; margin: 0 0.25em; line-height: 1; border-radius: 0.35em;\">\n",
       "    ️Ὁ5\n",
       "    <span style=\"font-size: 0.8em; font-weight: bold; line-height: 1; border-radius: 0.35em; vertical-align: middle; margin-left: 0.5rem\">LOC</span>\n",
       "</mark>\n",
       "</div></span>"
      ]
     },
     "metadata": {},
     "output_type": "display_data"
    },
    {
     "data": {
      "text/plain": [
       "<IPython.core.display.HTML object>"
      ],
      "text/html": [
       "<span class=\"tex2jax_ignore\"><div class=\"entities\" style=\"line-height: 2.5; direction: ltr\">Service centers, donations, free bus service for #\n",
       "<mark class=\"entity\" style=\"background: lightgreen; padding: 0.45em 0.6em; margin: 0 0.25em; line-height: 1; border-radius: 0.35em;\">\n",
       "    CampFire\n",
       "    <span style=\"font-size: 0.8em; font-weight: bold; line-height: 1; border-radius: 0.35em; vertical-align: middle; margin-left: 0.5rem\">LOC</span>\n",
       "</mark>\n",
       " Survivors #\n",
       "<mark class=\"entity\" style=\"background: lightgreen; padding: 0.45em 0.6em; margin: 0 0.25em; line-height: 1; border-radius: 0.35em;\">\n",
       "    CampFire\n",
       "    <span style=\"font-size: 0.8em; font-weight: bold; line-height: 1; border-radius: 0.35em; vertical-align: middle; margin-left: 0.5rem\">LOC</span>\n",
       "</mark>\n",
       " #ButteCounty #\n",
       "<mark class=\"entity\" style=\"background: lightgreen; padding: 0.45em 0.6em; margin: 0 0.25em; line-height: 1; border-radius: 0.35em;\">\n",
       "    Chico\n",
       "    <span style=\"font-size: 0.8em; font-weight: bold; line-height: 1; border-radius: 0.35em; vertical-align: middle; margin-left: 0.5rem\">LOC</span>\n",
       "</mark>\n",
       " #\n",
       "<mark class=\"entity\" style=\"background: lightgreen; padding: 0.45em 0.6em; margin: 0 0.25em; line-height: 1; border-radius: 0.35em;\">\n",
       "    Paradise\n",
       "    <span style=\"font-size: 0.8em; font-weight: bold; line-height: 1; border-radius: 0.35em; vertical-align: middle; margin-left: 0.5rem\">LOC</span>\n",
       "</mark>\n",
       " #\n",
       "<mark class=\"entity\" style=\"background: lightgreen; padding: 0.45em 0.6em; margin: 0 0.25em; line-height: 1; border-radius: 0.35em;\">\n",
       "    Oroville\n",
       "    <span style=\"font-size: 0.8em; font-weight: bold; line-height: 1; border-radius: 0.35em; vertical-align: middle; margin-left: 0.5rem\">LOC</span>\n",
       "</mark>\n",
       " #\n",
       "<mark class=\"entity\" style=\"background: lightgreen; padding: 0.45em 0.6em; margin: 0 0.25em; line-height: 1; border-radius: 0.35em;\">\n",
       "    Magalia\n",
       "    <span style=\"font-size: 0.8em; font-weight: bold; line-height: 1; border-radius: 0.35em; vertical-align: middle; margin-left: 0.5rem\">LOC</span>\n",
       "</mark>\n",
       " #\n",
       "<mark class=\"entity\" style=\"background: lightgreen; padding: 0.45em 0.6em; margin: 0 0.25em; line-height: 1; border-radius: 0.35em;\">\n",
       "    Pulga\n",
       "    <span style=\"font-size: 0.8em; font-weight: bold; line-height: 1; border-radius: 0.35em; vertical-align: middle; margin-left: 0.5rem\">LOC</span>\n",
       "</mark>\n",
       " #\n",
       "<mark class=\"entity\" style=\"background: lightgreen; padding: 0.45em 0.6em; margin: 0 0.25em; line-height: 1; border-radius: 0.35em;\">\n",
       "    Concow\n",
       "    <span style=\"font-size: 0.8em; font-weight: bold; line-height: 1; border-radius: 0.35em; vertical-align: middle; margin-left: 0.5rem\">LOC</span>\n",
       "</mark>\n",
       " #Corning #RedBluff #Gridley #HamiltonCity #BarberCA #DurhamCA</div></span>"
      ]
     },
     "metadata": {},
     "output_type": "display_data"
    },
    {
     "data": {
      "text/plain": [
       "<IPython.core.display.HTML object>"
      ],
      "text/html": [
       "<span class=\"tex2jax_ignore\"><div class=\"entities\" style=\"line-height: 2.5; direction: ltr\">The death toll in \n",
       "<mark class=\"entity\" style=\"background: lightgreen; padding: 0.45em 0.6em; margin: 0 0.25em; line-height: 1; border-radius: 0.35em;\">\n",
       "    California\n",
       "    <span style=\"font-size: 0.8em; font-weight: bold; line-height: 1; border-radius: 0.35em; vertical-align: middle; margin-left: 0.5rem\">LOC</span>\n",
       "</mark>\n",
       "’s Camp Fire rises further, with hundreds still missing</div></span>"
      ]
     },
     "metadata": {},
     "output_type": "display_data"
    },
    {
     "data": {
      "text/plain": [
       "<IPython.core.display.HTML object>"
      ],
      "text/html": [
       "<span class=\"tex2jax_ignore\"><div class=\"entities\" style=\"line-height: 2.5; direction: ltr\">Please retweet &amp; like!!! I’ve created a fundraiser to help the \n",
       "<mark class=\"entity\" style=\"background: lightgreen; padding: 0.45em 0.6em; margin: 0 0.25em; line-height: 1; border-radius: 0.35em;\">\n",
       "    california\n",
       "    <span style=\"font-size: 0.8em; font-weight: bold; line-height: 1; border-radius: 0.35em; vertical-align: middle; margin-left: 0.5rem\">LOC</span>\n",
       "</mark>\n",
       " wildfire victims!!! Your donation DOES make a difference to these families!! PLEASE SHARE!!!!❤️</div></span>"
      ]
     },
     "metadata": {},
     "output_type": "display_data"
    },
    {
     "data": {
      "text/plain": [
       "<IPython.core.display.HTML object>"
      ],
      "text/html": [
       "<span class=\"tex2jax_ignore\"><div class=\"entities\" style=\"line-height: 2.5; direction: ltr\">With rain on the way, \n",
       "<mark class=\"entity\" style=\"background: lightgreen; padding: 0.45em 0.6em; margin: 0 0.25em; line-height: 1; border-radius: 0.35em;\">\n",
       "    California\n",
       "    <span style=\"font-size: 0.8em; font-weight: bold; line-height: 1; border-radius: 0.35em; vertical-align: middle; margin-left: 0.5rem\">LOC</span>\n",
       "</mark>\n",
       " fire evacuees brace for relief and danger #NewsGrit</div></span>"
      ]
     },
     "metadata": {},
     "output_type": "display_data"
    },
    {
     "data": {
      "text/plain": [
       "<IPython.core.display.HTML object>"
      ],
      "text/html": [
       "<span class=\"tex2jax_ignore\"><div class=\"entities\" style=\"line-height: 2.5; direction: ltr\">#News- Number of missing in \n",
       "<mark class=\"entity\" style=\"background: lightgreen; padding: 0.45em 0.6em; margin: 0 0.25em; line-height: 1; border-radius: 0.35em;\">\n",
       "    California\n",
       "    <span style=\"font-size: 0.8em; font-weight: bold; line-height: 1; border-radius: 0.35em; vertical-align: middle; margin-left: 0.5rem\">LOC</span>\n",
       "</mark>\n",
       " fires continues to fluctuate amid chaos</div></span>"
      ]
     },
     "metadata": {},
     "output_type": "display_data"
    },
    {
     "data": {
      "text/plain": [
       "<IPython.core.display.HTML object>"
      ],
      "text/html": [
       "<span class=\"tex2jax_ignore\"><div class=\"entities\" style=\"line-height: 2.5; direction: ltr\">We are trying to figure how to remove the roadblocks to their recovery.” This article provides a great look at the critical role that #RedCross caseworkers play after disasters like the \n",
       "<mark class=\"entity\" style=\"background: lightgreen; padding: 0.45em 0.6em; margin: 0 0.25em; line-height: 1; border-radius: 0.35em;\">\n",
       "    California\n",
       "    <span style=\"font-size: 0.8em; font-weight: bold; line-height: 1; border-radius: 0.35em; vertical-align: middle; margin-left: 0.5rem\">LOC</span>\n",
       "</mark>\n",
       " #wildfires. Thank you, casework volunteers!</div></span>"
      ]
     },
     "metadata": {},
     "output_type": "display_data"
    },
    {
     "data": {
      "text/plain": [
       "<IPython.core.display.HTML object>"
      ],
      "text/html": [
       "<span class=\"tex2jax_ignore\"><div class=\"entities\" style=\"line-height: 2.5; direction: ltr\">#\n",
       "<mark class=\"entity\" style=\"background: lightgreen; padding: 0.45em 0.6em; margin: 0 0.25em; line-height: 1; border-radius: 0.35em;\">\n",
       "    California\n",
       "    <span style=\"font-size: 0.8em; font-weight: bold; line-height: 1; border-radius: 0.35em; vertical-align: middle; margin-left: 0.5rem\">LOC</span>\n",
       "</mark>\n",
       " is a National Emergency, with thousands homeless &amp; more displaced by #Fires. So, WHY did #Judge in #\n",
       "<mark class=\"entity\" style=\"background: lightgreen; padding: 0.45em 0.6em; margin: 0 0.25em; line-height: 1; border-radius: 0.35em;\">\n",
       "    SanFrancisco\n",
       "    <span style=\"font-size: 0.8em; font-weight: bold; line-height: 1; border-radius: 0.35em; vertical-align: middle; margin-left: 0.5rem\">LOC</span>\n",
       "</mark>\n",
       " rule against #America⁉️ ‘This Has To Be STOPPED Right Now - Ben Shapiro REACTS To Migrant Carav.. via @YouTube</div></span>"
      ]
     },
     "metadata": {},
     "output_type": "display_data"
    },
    {
     "data": {
      "text/plain": [
       "<IPython.core.display.HTML object>"
      ],
      "text/html": [
       "<span class=\"tex2jax_ignore\"><div class=\"entities\" style=\"line-height: 2.5; direction: ltr\">The death toll in Northern Californias #\n",
       "<mark class=\"entity\" style=\"background: lightgreen; padding: 0.45em 0.6em; margin: 0 0.25em; line-height: 1; border-radius: 0.35em;\">\n",
       "    CampFire\n",
       "    <span style=\"font-size: 0.8em; font-weight: bold; line-height: 1; border-radius: 0.35em; vertical-align: middle; margin-left: 0.5rem\">LOC</span>\n",
       "</mark>\n",
       " has increased to 81. Rain today could significantly hamper recovery efforts.</div></span>"
      ]
     },
     "metadata": {},
     "output_type": "display_data"
    },
    {
     "data": {
      "text/plain": [
       "<IPython.core.display.HTML object>"
      ],
      "text/html": [
       "<span class=\"tex2jax_ignore\"><div class=\"entities\" style=\"line-height: 2.5; direction: ltr\">Denver News Camp Fire containment grows to 75 percent as death toll rises to 81</div></span>"
      ]
     },
     "metadata": {},
     "output_type": "display_data"
    },
    {
     "data": {
      "text/plain": [
       "<IPython.core.display.HTML object>"
      ],
      "text/html": [
       "<span class=\"tex2jax_ignore\"><div class=\"entities\" style=\"line-height: 2.5; direction: ltr\">\n",
       "<mark class=\"entity\" style=\"background: lightgreen; padding: 0.45em 0.6em; margin: 0 0.25em; line-height: 1; border-radius: 0.35em;\">\n",
       "    California\n",
       "    <span style=\"font-size: 0.8em; font-weight: bold; line-height: 1; border-radius: 0.35em; vertical-align: middle; margin-left: 0.5rem\">LOC</span>\n",
       "</mark>\n",
       " damages topped $10 billion in 2017. The bill for this years fires could be worse.</div></span>"
      ]
     },
     "metadata": {},
     "output_type": "display_data"
    },
    {
     "data": {
      "text/plain": [
       "<IPython.core.display.HTML object>"
      ],
      "text/html": [
       "<span class=\"tex2jax_ignore\"><div class=\"entities\" style=\"line-height: 2.5; direction: ltr\">RT @SueGlashauser: Trump official trashes victims of \n",
       "<mark class=\"entity\" style=\"background: lightgreen; padding: 0.45em 0.6em; margin: 0 0.25em; line-height: 1; border-radius: 0.35em;\">\n",
       "    California\n",
       "    <span style=\"font-size: 0.8em; font-weight: bold; line-height: 1; border-radius: 0.35em; vertical-align: middle; margin-left: 0.5rem\">LOC</span>\n",
       "</mark>\n",
       " fire as death toll rises to 79</div></span>"
      ]
     },
     "metadata": {},
     "output_type": "display_data"
    },
    {
     "data": {
      "text/plain": [
       "<IPython.core.display.HTML object>"
      ],
      "text/html": [
       "<span class=\"tex2jax_ignore\"><div class=\"entities\" style=\"line-height: 2.5; direction: ltr\">Encouraging news for woman searching for dads friend missing in \n",
       "<mark class=\"entity\" style=\"background: lightgreen; padding: 0.45em 0.6em; margin: 0 0.25em; line-height: 1; border-radius: 0.35em;\">\n",
       "    California\n",
       "    <span style=\"font-size: 0.8em; font-weight: bold; line-height: 1; border-radius: 0.35em; vertical-align: middle; margin-left: 0.5rem\">LOC</span>\n",
       "</mark>\n",
       " wildfires - CBS News</div></span>"
      ]
     },
     "metadata": {},
     "output_type": "display_data"
    },
    {
     "data": {
      "text/plain": [
       "<IPython.core.display.HTML object>"
      ],
      "text/html": [
       "<span class=\"tex2jax_ignore\"><div class=\"entities\" style=\"line-height: 2.5; direction: ltr\">UPDATE: There are now 15 Lancaster area breweries collaborating for Camp Fire relief as a part of @SierraNevadas country wide program. Get details on this Lancaster collab that will help \n",
       "<mark class=\"entity\" style=\"background: lightgreen; padding: 0.45em 0.6em; margin: 0 0.25em; line-height: 1; border-radius: 0.35em;\">\n",
       "    California\n",
       "    <span style=\"font-size: 0.8em; font-weight: bold; line-height: 1; border-radius: 0.35em; vertical-align: middle; margin-left: 0.5rem\">LOC</span>\n",
       "</mark>\n",
       " fire relief. #PABeer Details:</div></span>"
      ]
     },
     "metadata": {},
     "output_type": "display_data"
    },
    {
     "data": {
      "text/plain": [
       "<IPython.core.display.HTML object>"
      ],
      "text/html": [
       "<span class=\"tex2jax_ignore\"><div class=\"entities\" style=\"line-height: 2.5; direction: ltr\">RT @Bravotv: #RHONYs @Bethenny is getting her B Strong team organized to help humans and animals affected by the fires.</div></span>"
      ]
     },
     "metadata": {},
     "output_type": "display_data"
    },
    {
     "data": {
      "text/plain": [
       "<IPython.core.display.HTML object>"
      ],
      "text/html": [
       "<span class=\"tex2jax_ignore\"><div class=\"entities\" style=\"line-height: 2.5; direction: ltr\">As #\n",
       "<mark class=\"entity\" style=\"background: lightgreen; padding: 0.45em 0.6em; margin: 0 0.25em; line-height: 1; border-radius: 0.35em;\">\n",
       "    California\n",
       "    <span style=\"font-size: 0.8em; font-weight: bold; line-height: 1; border-radius: 0.35em; vertical-align: middle; margin-left: 0.5rem\">LOC</span>\n",
       "</mark>\n",
       " homeowners try to rebuild from the ashes, an uncertain home insurance market awaits: We’re slowly marching toward a world that’s uninsurable.” ⁦@marywalshnyt⁩ @sejorg #wildfires #climatechange</div></span>"
      ]
     },
     "metadata": {},
     "output_type": "display_data"
    },
    {
     "data": {
      "text/plain": [
       "<IPython.core.display.HTML object>"
      ],
      "text/html": [
       "<span class=\"tex2jax_ignore\"><div class=\"entities\" style=\"line-height: 2.5; direction: ltr\">How bad is the emergency housing/shelter situation in \n",
       "<mark class=\"entity\" style=\"background: lightgreen; padding: 0.45em 0.6em; margin: 0 0.25em; line-height: 1; border-radius: 0.35em;\">\n",
       "    California\n",
       "    <span style=\"font-size: 0.8em; font-weight: bold; line-height: 1; border-radius: 0.35em; vertical-align: middle; margin-left: 0.5rem\">LOC</span>\n",
       "</mark>\n",
       "? FEMA just told us theyve put up about 120 people in hotels. \n",
       "<mark class=\"entity\" style=\"background: lightgreen; padding: 0.45em 0.6em; margin: 0 0.25em; line-height: 1; border-radius: 0.35em;\">\n",
       "    Yep\n",
       "    <span style=\"font-size: 0.8em; font-weight: bold; line-height: 1; border-radius: 0.35em; vertical-align: middle; margin-left: 0.5rem\">LOC</span>\n",
       "</mark>\n",
       ", 120. But potentially hundreds of thousands of people are displaced.</div></span>"
      ]
     },
     "metadata": {},
     "output_type": "display_data"
    },
    {
     "data": {
      "text/plain": [
       "<IPython.core.display.HTML object>"
      ],
      "text/html": [
       "<span class=\"tex2jax_ignore\"><div class=\"entities\" style=\"line-height: 2.5; direction: ltr\">⛑️CALIFORNIA FORREST FIRE CONTENT!⛑️ By now, we have all seen the incredible situations that our friends in \n",
       "<mark class=\"entity\" style=\"background: lightgreen; padding: 0.45em 0.6em; margin: 0 0.25em; line-height: 1; border-radius: 0.35em;\">\n",
       "    California\n",
       "    <span style=\"font-size: 0.8em; font-weight: bold; line-height: 1; border-radius: 0.35em; vertical-align: middle; margin-left: 0.5rem\">LOC</span>\n",
       "</mark>\n",
       " are experiencing due to Forrest fires. Fire Departments across the nation are pitching in to help.our neighbors in the</div></span>"
      ]
     },
     "metadata": {},
     "output_type": "display_data"
    },
    {
     "data": {
      "text/plain": [
       "<IPython.core.display.HTML object>"
      ],
      "text/html": [
       "<span class=\"tex2jax_ignore\"><div class=\"entities\" style=\"line-height: 2.5; direction: ltr\">#\n",
       "<mark class=\"entity\" style=\"background: lightgreen; padding: 0.45em 0.6em; margin: 0 0.25em; line-height: 1; border-radius: 0.35em;\">\n",
       "    Chiefs\n",
       "    <span style=\"font-size: 0.8em; font-weight: bold; line-height: 1; border-radius: 0.35em; vertical-align: middle; margin-left: 0.5rem\">LOC</span>\n",
       "</mark>\n",
       " QB Patrick Mahomes game-worn jersey appears in NFLs charity auctions to benefit \n",
       "<mark class=\"entity\" style=\"background: lightgreen; padding: 0.45em 0.6em; margin: 0 0.25em; line-height: 1; border-radius: 0.35em;\">\n",
       "    California\n",
       "    <span style=\"font-size: 0.8em; font-weight: bold; line-height: 1; border-radius: 0.35em; vertical-align: middle; margin-left: 0.5rem\">LOC</span>\n",
       "</mark>\n",
       " wildfire victims</div></span>"
      ]
     },
     "metadata": {},
     "output_type": "display_data"
    },
    {
     "data": {
      "text/plain": [
       "<IPython.core.display.HTML object>"
      ],
      "text/html": [
       "<span class=\"tex2jax_ignore\"><div class=\"entities\" style=\"line-height: 2.5; direction: ltr\">Almost 1 million people are under flash flood watch in Northern \n",
       "<mark class=\"entity\" style=\"background: lightgreen; padding: 0.45em 0.6em; margin: 0 0.25em; line-height: 1; border-radius: 0.35em;\">\n",
       "    California\n",
       "    <span style=\"font-size: 0.8em; font-weight: bold; line-height: 1; border-radius: 0.35em; vertical-align: middle; margin-left: 0.5rem\">LOC</span>\n",
       "</mark>\n",
       ", where 4 to 6 inches of rain are expected to fall through Friday.</div></span>"
      ]
     },
     "metadata": {},
     "output_type": "display_data"
    },
    {
     "data": {
      "text/plain": [
       "<IPython.core.display.HTML object>"
      ],
      "text/html": [
       "<span class=\"tex2jax_ignore\"><div class=\"entities\" style=\"line-height: 2.5; direction: ltr\">Resources to Support Wildfires Response &amp; Recovery in Northern and Southern California  #\n",
       "<mark class=\"entity\" style=\"background: lightgreen; padding: 0.45em 0.6em; margin: 0 0.25em; line-height: 1; border-radius: 0.35em;\">\n",
       "    california\n",
       "    <span style=\"font-size: 0.8em; font-weight: bold; line-height: 1; border-radius: 0.35em; vertical-align: middle; margin-left: 0.5rem\">LOC</span>\n",
       "</mark>\n",
       " #wildfires #resources #nnlm</div></span>"
      ]
     },
     "metadata": {},
     "output_type": "display_data"
    },
    {
     "data": {
      "text/plain": [
       "<IPython.core.display.HTML object>"
      ],
      "text/html": [
       "<span class=\"tex2jax_ignore\"><div class=\"entities\" style=\"line-height: 2.5; direction: ltr\">Like so many things, the destruction of \n",
       "<mark class=\"entity\" style=\"background: lightgreen; padding: 0.45em 0.6em; margin: 0 0.25em; line-height: 1; border-radius: 0.35em;\">\n",
       "    Californias\n",
       "    <span style=\"font-size: 0.8em; font-weight: bold; line-height: 1; border-radius: 0.35em; vertical-align: middle; margin-left: 0.5rem\">LOC</span>\n",
       "</mark>\n",
       " massive Camp fire was less natural, more man made. The Camp fire burned homes but left trees standing.</div></span>"
      ]
     },
     "metadata": {},
     "output_type": "display_data"
    },
    {
     "data": {
      "text/plain": [
       "<IPython.core.display.HTML object>"
      ],
      "text/html": [
       "<span class=\"tex2jax_ignore\"><div class=\"entities\" style=\"line-height: 2.5; direction: ltr\">The Camp Fire has destroyed around 13,000 homes alone, while the Woolsey Fire destroyed more than 1,600 structures.</div></span>"
      ]
     },
     "metadata": {},
     "output_type": "display_data"
    },
    {
     "data": {
      "text/plain": [
       "<IPython.core.display.HTML object>"
      ],
      "text/html": [
       "<span class=\"tex2jax_ignore\"><div class=\"entities\" style=\"line-height: 2.5; direction: ltr\">So many of you have reached out and asked how you can help, we cannot thank you enough for this outreach. Visit  to make a donation to those already on the ground making a difference. When doing so, select \n",
       "<mark class=\"entity\" style=\"background: lightgreen; padding: 0.45em 0.6em; margin: 0 0.25em; line-height: 1; border-radius: 0.35em;\">\n",
       "    California\n",
       "    <span style=\"font-size: 0.8em; font-weight: bold; line-height: 1; border-radius: 0.35em; vertical-align: middle; margin-left: 0.5rem\">LOC</span>\n",
       "</mark>\n",
       " Wildfires” from the drop-down #CALove</div></span>"
      ]
     },
     "metadata": {},
     "output_type": "display_data"
    },
    {
     "data": {
      "text/plain": [
       "<IPython.core.display.HTML object>"
      ],
      "text/html": [
       "<span class=\"tex2jax_ignore\"><div class=\"entities\" style=\"line-height: 2.5; direction: ltr\">RT @KRNV: Harrahs Reno is collecting donations for victims affected by the northern \n",
       "<mark class=\"entity\" style=\"background: lightgreen; padding: 0.45em 0.6em; margin: 0 0.25em; line-height: 1; border-radius: 0.35em;\">\n",
       "    California\n",
       "    <span style=\"font-size: 0.8em; font-weight: bold; line-height: 1; border-radius: 0.35em; vertical-align: middle; margin-left: 0.5rem\">LOC</span>\n",
       "</mark>\n",
       " wildfire this week.</div></span>"
      ]
     },
     "metadata": {},
     "output_type": "display_data"
    },
    {
     "data": {
      "text/plain": [
       "<IPython.core.display.HTML object>"
      ],
      "text/html": [
       "<span class=\"tex2jax_ignore\"><div class=\"entities\" style=\"line-height: 2.5; direction: ltr\">Camp Fire Death Toll Increases To 81</div></span>"
      ]
     },
     "metadata": {},
     "output_type": "display_data"
    },
    {
     "data": {
      "text/plain": [
       "<IPython.core.display.HTML object>"
      ],
      "text/html": [
       "<span class=\"tex2jax_ignore\"><div class=\"entities\" style=\"line-height: 2.5; direction: ltr\">Private firefighters are being paid to protect certain homes amid \n",
       "<mark class=\"entity\" style=\"background: lightgreen; padding: 0.45em 0.6em; margin: 0 0.25em; line-height: 1; border-radius: 0.35em;\">\n",
       "    Californias\n",
       "    <span style=\"font-size: 0.8em; font-weight: bold; line-height: 1; border-radius: 0.35em; vertical-align: middle; margin-left: 0.5rem\">LOC</span>\n",
       "</mark>\n",
       " fires. Officials say it is making their jobs harder.  via @salhernandez</div></span>"
      ]
     },
     "metadata": {},
     "output_type": "display_data"
    },
    {
     "data": {
      "text/plain": [
       "<IPython.core.display.HTML object>"
      ],
      "text/html": [
       "<span class=\"tex2jax_ignore\"><div class=\"entities\" style=\"line-height: 2.5; direction: ltr\">RT @thomasfullerNYT: Here’s How to Check and Help Update the List of Those Missing After \n",
       "<mark class=\"entity\" style=\"background: lightgreen; padding: 0.45em 0.6em; margin: 0 0.25em; line-height: 1; border-radius: 0.35em;\">\n",
       "    California\n",
       "    <span style=\"font-size: 0.8em; font-weight: bold; line-height: 1; border-radius: 0.35em; vertical-align: middle; margin-left: 0.5rem\">LOC</span>\n",
       "</mark>\n",
       "’s Camp Fire</div></span>"
      ]
     },
     "metadata": {},
     "output_type": "display_data"
    },
    {
     "data": {
      "text/plain": [
       "<IPython.core.display.HTML object>"
      ],
      "text/html": [
       "<span class=\"tex2jax_ignore\"><div class=\"entities\" style=\"line-height: 2.5; direction: ltr\">Plenty of unique items on  to benefit \n",
       "<mark class=\"entity\" style=\"background: lightgreen; padding: 0.45em 0.6em; margin: 0 0.25em; line-height: 1; border-radius: 0.35em;\">\n",
       "    California\n",
       "    <span style=\"font-size: 0.8em; font-weight: bold; line-height: 1; border-radius: 0.35em; vertical-align: middle; margin-left: 0.5rem\">LOC</span>\n",
       "</mark>\n",
       " wildfire relief efforts, inc., game-worn jerseys from players like @JaredGoff16 &amp; this one from Monday of @PatrickMahomes5. Up to $13,100</div></span>"
      ]
     },
     "metadata": {},
     "output_type": "display_data"
    },
    {
     "data": {
      "text/plain": [
       "<IPython.core.display.HTML object>"
      ],
      "text/html": [
       "<span class=\"tex2jax_ignore\"><div class=\"entities\" style=\"line-height: 2.5; direction: ltr\">You all have heroes for dads and moms.” Watch @alroker, his cooking crew and @nmoralesnbc surprise some \n",
       "<mark class=\"entity\" style=\"background: lightgreen; padding: 0.45em 0.6em; margin: 0 0.25em; line-height: 1; border-radius: 0.35em;\">\n",
       "    California\n",
       "    <span style=\"font-size: 0.8em; font-weight: bold; line-height: 1; border-radius: 0.35em; vertical-align: middle; margin-left: 0.5rem\">LOC</span>\n",
       "</mark>\n",
       " firefighters, who have been working tirelessly to fight the raging wildfires despite suffering their own losses.</div></span>"
      ]
     },
     "metadata": {},
     "output_type": "display_data"
    },
    {
     "data": {
      "text/plain": [
       "<IPython.core.display.HTML object>"
      ],
      "text/html": [
       "<span class=\"tex2jax_ignore\"><div class=\"entities\" style=\"line-height: 2.5; direction: ltr\">Dont just like thislisten to the msg and follow the instructions on the retweet to help out \n",
       "<mark class=\"entity\" style=\"background: lightgreen; padding: 0.45em 0.6em; margin: 0 0.25em; line-height: 1; border-radius: 0.35em;\">\n",
       "    California\n",
       "    <span style=\"font-size: 0.8em; font-weight: bold; line-height: 1; border-radius: 0.35em; vertical-align: middle; margin-left: 0.5rem\">LOC</span>\n",
       "</mark>\n",
       " fire victims! #retweet4good</div></span>"
      ]
     },
     "metadata": {},
     "output_type": "display_data"
    },
    {
     "data": {
      "text/plain": [
       "<IPython.core.display.HTML object>"
      ],
      "text/html": [
       "<span class=\"tex2jax_ignore\"><div class=\"entities\" style=\"line-height: 2.5; direction: ltr\">As Camp Fire burned, Bay Area residents gave up Thanksgiving plans to help</div></span>"
      ]
     },
     "metadata": {},
     "output_type": "display_data"
    },
    {
     "data": {
      "text/plain": [
       "<IPython.core.display.HTML object>"
      ],
      "text/html": [
       "<span class=\"tex2jax_ignore\"><div class=\"entities\" style=\"line-height: 2.5; direction: ltr\">Aaron Rodgers is donating $1 million to help \n",
       "<mark class=\"entity\" style=\"background: lightgreen; padding: 0.45em 0.6em; margin: 0 0.25em; line-height: 1; border-radius: 0.35em;\">\n",
       "    California\n",
       "    <span style=\"font-size: 0.8em; font-weight: bold; line-height: 1; border-radius: 0.35em; vertical-align: middle; margin-left: 0.5rem\">LOC</span>\n",
       "</mark>\n",
       " wildfire relief efforts ὤF #retweet4good #ButteStrong (via @AaronRodgers12)</div></span>"
      ]
     },
     "metadata": {},
     "output_type": "display_data"
    },
    {
     "data": {
      "text/plain": [
       "<IPython.core.display.HTML object>"
      ],
      "text/html": [
       "<span class=\"tex2jax_ignore\"><div class=\"entities\" style=\"line-height: 2.5; direction: ltr\">\n",
       "<mark class=\"entity\" style=\"background: lightgreen; padding: 0.45em 0.6em; margin: 0 0.25em; line-height: 1; border-radius: 0.35em;\">\n",
       "    California\n",
       "    <span style=\"font-size: 0.8em; font-weight: bold; line-height: 1; border-radius: 0.35em; vertical-align: middle; margin-left: 0.5rem\">LOC</span>\n",
       "</mark>\n",
       " needs our help. This Black Friday (11/23), we will be donating 100% of ALL our website sales to support \n",
       "<mark class=\"entity\" style=\"background: lightgreen; padding: 0.45em 0.6em; margin: 0 0.25em; line-height: 1; border-radius: 0.35em;\">\n",
       "    California\n",
       "    <span style=\"font-size: 0.8em; font-weight: bold; line-height: 1; border-radius: 0.35em; vertical-align: middle; margin-left: 0.5rem\">LOC</span>\n",
       "</mark>\n",
       " wildfire relief efforts. Specifically, all sales generated on</div></span>"
      ]
     },
     "metadata": {},
     "output_type": "display_data"
    },
    {
     "data": {
      "text/plain": [
       "<IPython.core.display.HTML object>"
      ],
      "text/html": [
       "<span class=\"tex2jax_ignore\"><div class=\"entities\" style=\"line-height: 2.5; direction: ltr\">\n",
       "<mark class=\"entity\" style=\"background: lightgreen; padding: 0.45em 0.6em; margin: 0 0.25em; line-height: 1; border-radius: 0.35em;\">\n",
       "    Chico\n",
       "    <span style=\"font-size: 0.8em; font-weight: bold; line-height: 1; border-radius: 0.35em; vertical-align: middle; margin-left: 0.5rem\">LOC</span>\n",
       "</mark>\n",
       " native Aaron Rodgers donating $1M toward recovery/rebuild from the destructive Camp Fire. \n",
       "<mark class=\"entity\" style=\"background: lightgreen; padding: 0.45em 0.6em; margin: 0 0.25em; line-height: 1; border-radius: 0.35em;\">\n",
       "    Meanwhile\n",
       "    <span style=\"font-size: 0.8em; font-weight: bold; line-height: 1; border-radius: 0.35em; vertical-align: middle; margin-left: 0.5rem\">LOC</span>\n",
       "</mark>\n",
       ", State Farm will donate $1 for every RT of Rodgers post. You know what to do</div></span>"
      ]
     },
     "metadata": {},
     "output_type": "display_data"
    },
    {
     "data": {
      "text/plain": [
       "<IPython.core.display.HTML object>"
      ],
      "text/html": [
       "<span class=\"tex2jax_ignore\"><div class=\"entities\" style=\"line-height: 2.5; direction: ltr\">Theres now a flash flood watch in wildfire-ravaged areas of Northern \n",
       "<mark class=\"entity\" style=\"background: lightgreen; padding: 0.45em 0.6em; margin: 0 0.25em; line-height: 1; border-radius: 0.35em;\">\n",
       "    California\n",
       "    <span style=\"font-size: 0.8em; font-weight: bold; line-height: 1; border-radius: 0.35em; vertical-align: middle; margin-left: 0.5rem\">LOC</span>\n",
       "</mark>\n",
       ".</div></span>"
      ]
     },
     "metadata": {},
     "output_type": "display_data"
    },
    {
     "data": {
      "text/plain": [
       "<IPython.core.display.HTML object>"
      ],
      "text/html": [
       "<span class=\"tex2jax_ignore\"><div class=\"entities\" style=\"line-height: 2.5; direction: ltr\">RT @GivingMarin: @MarinHumane is helping w/animal rescue in \n",
       "<mark class=\"entity\" style=\"background: lightgreen; padding: 0.45em 0.6em; margin: 0 0.25em; line-height: 1; border-radius: 0.35em;\">\n",
       "    Butte County\n",
       "    <span style=\"font-size: 0.8em; font-weight: bold; line-height: 1; border-radius: 0.35em; vertical-align: middle; margin-left: 0.5rem\">LOC</span>\n",
       "</mark>\n",
       ". @marinij @adrianrrodri</div></span>"
      ]
     },
     "metadata": {},
     "output_type": "display_data"
    },
    {
     "data": {
      "text/plain": [
       "<IPython.core.display.HTML object>"
      ],
      "text/html": [
       "<span class=\"tex2jax_ignore\"><div class=\"entities\" style=\"line-height: 2.5; direction: ltr\">What am amazing opportunity and incredible action. Be on the lookout soon for our version of this #ResilienceIPA Thanks to @SierraNevada for their continued support to this relief effort.</div></span>"
      ]
     },
     "metadata": {},
     "output_type": "display_data"
    },
    {
     "data": {
      "text/plain": [
       "<IPython.core.display.HTML object>"
      ],
      "text/html": [
       "<span class=\"tex2jax_ignore\"><div class=\"entities\" style=\"line-height: 2.5; direction: ltr\">‘We made it out with our lives’: Al Roker surprises #\n",
       "<mark class=\"entity\" style=\"background: lightgreen; padding: 0.45em 0.6em; margin: 0 0.25em; line-height: 1; border-radius: 0.35em;\">\n",
       "    California\n",
       "    <span style=\"font-size: 0.8em; font-weight: bold; line-height: 1; border-radius: 0.35em; vertical-align: middle; margin-left: 0.5rem\">LOC</span>\n",
       "</mark>\n",
       " #firefighters who lost their homes Bravo @Today, #AlRoker #NatalieMorales and everyone else who contributed to this celebration for those who are fighting those #wildfires.  via @TODAYshow</div></span>"
      ]
     },
     "metadata": {},
     "output_type": "display_data"
    },
    {
     "data": {
      "text/plain": [
       "<IPython.core.display.HTML object>"
      ],
      "text/html": [
       "<span class=\"tex2jax_ignore\"><div class=\"entities\" style=\"line-height: 2.5; direction: ltr\">I know some of my followers are in the Bay Area and I know some of your are radio journalists. A radio station in Northern \n",
       "<mark class=\"entity\" style=\"background: lightgreen; padding: 0.45em 0.6em; margin: 0 0.25em; line-height: 1; border-radius: 0.35em;\">\n",
       "    California\n",
       "    <span style=\"font-size: 0.8em; font-weight: bold; line-height: 1; border-radius: 0.35em; vertical-align: middle; margin-left: 0.5rem\">LOC</span>\n",
       "</mark>\n",
       " needs your help.</div></span>"
      ]
     },
     "metadata": {},
     "output_type": "display_data"
    },
    {
     "data": {
      "text/plain": [
       "<IPython.core.display.HTML object>"
      ],
      "text/html": [
       "<span class=\"tex2jax_ignore\"><div class=\"entities\" style=\"line-height: 2.5; direction: ltr\">RT @TinaFra80898810: REPORT: Death toll increases in NorCals</div></span>"
      ]
     },
     "metadata": {},
     "output_type": "display_data"
    },
    {
     "data": {
      "text/plain": [
       "<IPython.core.display.HTML object>"
      ],
      "text/html": [
       "<span class=\"tex2jax_ignore\"><div class=\"entities\" style=\"line-height: 2.5; direction: ltr\">RT @ABC7: \n",
       "<mark class=\"entity\" style=\"background: lightgreen; padding: 0.45em 0.6em; margin: 0 0.25em; line-height: 1; border-radius: 0.35em;\">\n",
       "    California\n",
       "    <span style=\"font-size: 0.8em; font-weight: bold; line-height: 1; border-radius: 0.35em; vertical-align: middle; margin-left: 0.5rem\">LOC</span>\n",
       "</mark>\n",
       " has spent more than $600 million fighting wildfires since June</div></span>"
      ]
     },
     "metadata": {},
     "output_type": "display_data"
    },
    {
     "data": {
      "text/plain": [
       "<IPython.core.display.HTML object>"
      ],
      "text/html": [
       "<span class=\"tex2jax_ignore\"><div class=\"entities\" style=\"line-height: 2.5; direction: ltr\">Benefit auction for the Red Cross due to \n",
       "<mark class=\"entity\" style=\"background: lightgreen; padding: 0.45em 0.6em; margin: 0 0.25em; line-height: 1; border-radius: 0.35em;\">\n",
       "    California\n",
       "    <span style=\"font-size: 0.8em; font-weight: bold; line-height: 1; border-radius: 0.35em; vertical-align: middle; margin-left: 0.5rem\">LOC</span>\n",
       "</mark>\n",
       " wild fires Here --&gt;  Everything starts @ $1.99 PLEASE SHARE WITH YOUR FRIENDS #auction #charity #redcross #benefit #helpingothers #ebay</div></span>"
      ]
     },
     "metadata": {},
     "output_type": "display_data"
    },
    {
     "data": {
      "text/plain": [
       "<IPython.core.display.HTML object>"
      ],
      "text/html": [
       "<span class=\"tex2jax_ignore\"><div class=\"entities\" style=\"line-height: 2.5; direction: ltr\">Thank you to former Gov. @Schwarzenegger, another @CalCommColleges alum, for serving and meeting firefighters and first responders today. The outpouring of support for those fighting the #\n",
       "<mark class=\"entity\" style=\"background: lightgreen; padding: 0.45em 0.6em; margin: 0 0.25em; line-height: 1; border-radius: 0.35em;\">\n",
       "    CampFire\n",
       "    <span style=\"font-size: 0.8em; font-weight: bold; line-height: 1; border-radius: 0.35em; vertical-align: middle; margin-left: 0.5rem\">LOC</span>\n",
       "</mark>\n",
       " and those affected by it has been wonderful.</div></span>"
      ]
     },
     "metadata": {},
     "output_type": "display_data"
    },
    {
     "data": {
      "text/plain": [
       "<IPython.core.display.HTML object>"
      ],
      "text/html": [
       "<span class=\"tex2jax_ignore\"><div class=\"entities\" style=\"line-height: 2.5; direction: ltr\">Mike McCarthy on Aaron Rodgers’ $1 million donation to help \n",
       "<mark class=\"entity\" style=\"background: lightgreen; padding: 0.45em 0.6em; margin: 0 0.25em; line-height: 1; border-radius: 0.35em;\">\n",
       "    California\n",
       "    <span style=\"font-size: 0.8em; font-weight: bold; line-height: 1; border-radius: 0.35em; vertical-align: middle; margin-left: 0.5rem\">LOC</span>\n",
       "</mark>\n",
       " fire victims: He’s so much more than just our quarterback. I know the fire has been constantly on his mind. We talk about it pretty much every day. What he’s doing is tremendous.</div></span>"
      ]
     },
     "metadata": {},
     "output_type": "display_data"
    },
    {
     "data": {
      "text/plain": [
       "<IPython.core.display.HTML object>"
      ],
      "text/html": [
       "<span class=\"tex2jax_ignore\"><div class=\"entities\" style=\"line-height: 2.5; direction: ltr\">HUMBOLDT COUNTY FIREFIGHTERS RETURN HOME FROM THE FATAL CAMP FIRE AS A LOCAL SEARCH AND RESCUE TEAM PREPARES TO LOOK FOR BODIES  #\n",
       "<mark class=\"entity\" style=\"background: lightgreen; padding: 0.45em 0.6em; margin: 0 0.25em; line-height: 1; border-radius: 0.35em;\">\n",
       "    CampFire\n",
       "    <span style=\"font-size: 0.8em; font-weight: bold; line-height: 1; border-radius: 0.35em; vertical-align: middle; margin-left: 0.5rem\">LOC</span>\n",
       "</mark>\n",
       " #ButteCounty #SearchandRescue</div></span>"
      ]
     },
     "metadata": {},
     "output_type": "display_data"
    },
    {
     "data": {
      "text/plain": [
       "<IPython.core.display.HTML object>"
      ],
      "text/html": [
       "<span class=\"tex2jax_ignore\"><div class=\"entities\" style=\"line-height: 2.5; direction: ltr\">I donated to Help For The Wagoner Family -  via @gofundme Cousins of a friend, they also lost everything in the Camp Fire. Please help if you can. Even just $5 times a lot of people helps so much.</div></span>"
      ]
     },
     "metadata": {},
     "output_type": "display_data"
    },
    {
     "data": {
      "text/plain": [
       "<IPython.core.display.HTML object>"
      ],
      "text/html": [
       "<span class=\"tex2jax_ignore\"><div class=\"entities\" style=\"line-height: 2.5; direction: ltr\">State Farm donating $1 up to $1 million for \n",
       "<mark class=\"entity\" style=\"background: lightgreen; padding: 0.45em 0.6em; margin: 0 0.25em; line-height: 1; border-radius: 0.35em;\">\n",
       "    California\n",
       "    <span style=\"font-size: 0.8em; font-weight: bold; line-height: 1; border-radius: 0.35em; vertical-align: middle; margin-left: 0.5rem\">LOC</span>\n",
       "</mark>\n",
       " wildfire victims to match Aaron Rodgers #retweetforgood</div></span>"
      ]
     },
     "metadata": {},
     "output_type": "display_data"
    },
    {
     "data": {
      "text/plain": [
       "<IPython.core.display.HTML object>"
      ],
      "text/html": [
       "<span class=\"tex2jax_ignore\"><div class=\"entities\" style=\"line-height: 2.5; direction: ltr\">\n",
       "<mark class=\"entity\" style=\"background: lightgreen; padding: 0.45em 0.6em; margin: 0 0.25em; line-height: 1; border-radius: 0.35em;\">\n",
       "    California\n",
       "    <span style=\"font-size: 0.8em; font-weight: bold; line-height: 1; border-radius: 0.35em; vertical-align: middle; margin-left: 0.5rem\">LOC</span>\n",
       "</mark>\n",
       " WIC Assoc @calwic is collecting cash donations to buy gift cards for basics, meals &amp; groceries for \n",
       "<mark class=\"entity\" style=\"background: lightgreen; padding: 0.45em 0.6em; margin: 0 0.25em; line-height: 1; border-radius: 0.35em;\">\n",
       "    CA\n",
       "    <span style=\"font-size: 0.8em; font-weight: bold; line-height: 1; border-radius: 0.35em; vertical-align: middle; margin-left: 0.5rem\">LOC</span>\n",
       "</mark>\n",
       " WIC staff who have lost homes and been affected by wildfires. #WIC #WICStrong #MomStrong</div></span>"
      ]
     },
     "metadata": {},
     "output_type": "display_data"
    },
    {
     "data": {
      "text/plain": [
       "<IPython.core.display.HTML object>"
      ],
      "text/html": [
       "<span class=\"tex2jax_ignore\"><div class=\"entities\" style=\"line-height: 2.5; direction: ltr\">Aaron Rodgers announced hes donating $1 million to help those affected by the \n",
       "<mark class=\"entity\" style=\"background: lightgreen; padding: 0.45em 0.6em; margin: 0 0.25em; line-height: 1; border-radius: 0.35em;\">\n",
       "    California\n",
       "    <span style=\"font-size: 0.8em; font-weight: bold; line-height: 1; border-radius: 0.35em; vertical-align: middle; margin-left: 0.5rem\">LOC</span>\n",
       "</mark>\n",
       " wildfires. VIDEO @</div></span>"
      ]
     },
     "metadata": {},
     "output_type": "display_data"
    },
    {
     "data": {
      "text/plain": [
       "<IPython.core.display.HTML object>"
      ],
      "text/html": [
       "<span class=\"tex2jax_ignore\"><div class=\"entities\" style=\"line-height: 2.5; direction: ltr\">23 hours left to purchase/donate this one of a kind pieces of art! all going to helping aid the \n",
       "<mark class=\"entity\" style=\"background: lightgreen; padding: 0.45em 0.6em; margin: 0 0.25em; line-height: 1; border-radius: 0.35em;\">\n",
       "    California\n",
       "    <span style=\"font-size: 0.8em; font-weight: bold; line-height: 1; border-radius: 0.35em; vertical-align: middle; margin-left: 0.5rem\">LOC</span>\n",
       "</mark>\n",
       " wildfire victims!</div></span>"
      ]
     },
     "metadata": {},
     "output_type": "display_data"
    },
    {
     "data": {
      "text/plain": [
       "<IPython.core.display.HTML object>"
      ],
      "text/html": [
       "<span class=\"tex2jax_ignore\"><div class=\"entities\" style=\"line-height: 2.5; direction: ltr\">More than 1,000 are unaccounted for in the most devastating wildfire in \n",
       "<mark class=\"entity\" style=\"background: lightgreen; padding: 0.45em 0.6em; margin: 0 0.25em; line-height: 1; border-radius: 0.35em;\">\n",
       "    California\n",
       "    <span style=\"font-size: 0.8em; font-weight: bold; line-height: 1; border-radius: 0.35em; vertical-align: middle; margin-left: 0.5rem\">LOC</span>\n",
       "</mark>\n",
       "’s history. Over 66 people have been reported dead and thousands have lost their loved ones, and are struggling for basic necessities.This holiday season let’s help the survivors. #CaliforniaFires</div></span>"
      ]
     },
     "metadata": {},
     "output_type": "display_data"
    },
    {
     "data": {
      "text/plain": [
       "<IPython.core.display.HTML object>"
      ],
      "text/html": [
       "<span class=\"tex2jax_ignore\"><div class=\"entities\" style=\"line-height: 2.5; direction: ltr\">RT @jen_burs: Please give ὤFὉ5.. Grass Valley , \n",
       "<mark class=\"entity\" style=\"background: lightgreen; padding: 0.45em 0.6em; margin: 0 0.25em; line-height: 1; border-radius: 0.35em;\">\n",
       "    Nevada\n",
       "    <span style=\"font-size: 0.8em; font-weight: bold; line-height: 1; border-radius: 0.35em; vertical-align: middle; margin-left: 0.5rem\">LOC</span>\n",
       "</mark>\n",
       " City, Marysville area for Camp Fire victims . Thank you @Radiokvmr ὄD</div></span>"
      ]
     },
     "metadata": {},
     "output_type": "display_data"
    },
    {
     "data": {
      "text/plain": [
       "<IPython.core.display.HTML object>"
      ],
      "text/html": [
       "<span class=\"tex2jax_ignore\"><div class=\"entities\" style=\"line-height: 2.5; direction: ltr\">\n",
       "<mark class=\"entity\" style=\"background: lightgreen; padding: 0.45em 0.6em; margin: 0 0.25em; line-height: 1; border-radius: 0.35em;\">\n",
       "    California\n",
       "    <span style=\"font-size: 0.8em; font-weight: bold; line-height: 1; border-radius: 0.35em; vertical-align: middle; margin-left: 0.5rem\">LOC</span>\n",
       "</mark>\n",
       " wildfire victims get new #tax relief from IRS; additional locations in \n",
       "<mark class=\"entity\" style=\"background: lightgreen; padding: 0.45em 0.6em; margin: 0 0.25em; line-height: 1; border-radius: 0.35em;\">\n",
       "    Virginia\n",
       "    <span style=\"font-size: 0.8em; font-weight: bold; line-height: 1; border-radius: 0.35em; vertical-align: middle; margin-left: 0.5rem\">LOC</span>\n",
       "</mark>\n",
       " added to Hurricane Florence eligibility list</div></span>"
      ]
     },
     "metadata": {},
     "output_type": "display_data"
    },
    {
     "data": {
      "text/plain": [
       "<IPython.core.display.HTML object>"
      ],
      "text/html": [
       "<span class=\"tex2jax_ignore\"><div class=\"entities\" style=\"line-height: 2.5; direction: ltr\">Aaron Rodgers gives huge donation to Camp Fire victims</div></span>"
      ]
     },
     "metadata": {},
     "output_type": "display_data"
    },
    {
     "data": {
      "text/plain": [
       "<IPython.core.display.HTML object>"
      ],
      "text/html": [
       "<span class=\"tex2jax_ignore\"><div class=\"entities\" style=\"line-height: 2.5; direction: ltr\">#retweet4good Even if you arent able to personally donate, please take a moment to RT this ὄ7 with the hashtag to help raise money for \n",
       "<mark class=\"entity\" style=\"background: lightgreen; padding: 0.45em 0.6em; margin: 0 0.25em; line-height: 1; border-radius: 0.35em;\">\n",
       "    California\n",
       "    <span style=\"font-size: 0.8em; font-weight: bold; line-height: 1; border-radius: 0.35em; vertical-align: middle; margin-left: 0.5rem\">LOC</span>\n",
       "</mark>\n",
       " wildfire relief.</div></span>"
      ]
     },
     "metadata": {},
     "output_type": "display_data"
    },
    {
     "data": {
      "text/plain": [
       "<IPython.core.display.HTML object>"
      ],
      "text/html": [
       "<span class=\"tex2jax_ignore\"><div class=\"entities\" style=\"line-height: 2.5; direction: ltr\">To Do List: 1. Tweet using #retweet4good to donate to \n",
       "<mark class=\"entity\" style=\"background: lightgreen; padding: 0.45em 0.6em; margin: 0 0.25em; line-height: 1; border-radius: 0.35em;\">\n",
       "    California\n",
       "    <span style=\"font-size: 0.8em; font-weight: bold; line-height: 1; border-radius: 0.35em; vertical-align: middle; margin-left: 0.5rem\">LOC</span>\n",
       "</mark>\n",
       " fire victims 2. Download Makin Bacon () to donate $28.20 to @alzfdn #AFA30daysofteal #AFALightTheWorldInTeal #alzheimersdisease #alzheimersawarenessmonth #Alzheimers #supernatural</div></span>"
      ]
     },
     "metadata": {},
     "output_type": "display_data"
    },
    {
     "data": {
      "text/plain": [
       "<IPython.core.display.HTML object>"
      ],
      "text/html": [
       "<span class=\"tex2jax_ignore\"><div class=\"entities\" style=\"line-height: 2.5; direction: ltr\">#HipHopNews • KANYE WEST PLANS TO DONATE $500,000 TO \n",
       "<mark class=\"entity\" style=\"background: lightgreen; padding: 0.45em 0.6em; margin: 0 0.25em; line-height: 1; border-radius: 0.35em;\">\n",
       "    CALIFORNIA\n",
       "    <span style=\"font-size: 0.8em; font-weight: bold; line-height: 1; border-radius: 0.35em; vertical-align: middle; margin-left: 0.5rem\">LOC</span>\n",
       "</mark>\n",
       " WILDFIRE RELIEF • #KanyeWest #\n",
       "<mark class=\"entity\" style=\"background: lightgreen; padding: 0.45em 0.6em; margin: 0 0.25em; line-height: 1; border-radius: 0.35em;\">\n",
       "    California\n",
       "    <span style=\"font-size: 0.8em; font-weight: bold; line-height: 1; border-radius: 0.35em; vertical-align: middle; margin-left: 0.5rem\">LOC</span>\n",
       "</mark>\n",
       " #KimKardashian Kanye West has been doing his part to help combat the damage done</div></span>"
      ]
     },
     "metadata": {},
     "output_type": "display_data"
    },
    {
     "data": {
      "text/plain": [
       "<IPython.core.display.HTML object>"
      ],
      "text/html": [
       "<span class=\"tex2jax_ignore\"><div class=\"entities\" style=\"line-height: 2.5; direction: ltr\">An E.coli outbreak has prompted the CDC to advise Americans to avoid romaine lettuce this Thanksgiving. Also, the death toll for \n",
       "<mark class=\"entity\" style=\"background: lightgreen; padding: 0.45em 0.6em; margin: 0 0.25em; line-height: 1; border-radius: 0.35em;\">\n",
       "    California\n",
       "    <span style=\"font-size: 0.8em; font-weight: bold; line-height: 1; border-radius: 0.35em; vertical-align: middle; margin-left: 0.5rem\">LOC</span>\n",
       "</mark>\n",
       "’s wildfire reaches 81 and now flash floods are set to complicate the search for the nearly 900 still missing.</div></span>"
      ]
     },
     "metadata": {},
     "output_type": "display_data"
    },
    {
     "data": {
      "text/plain": [
       "<IPython.core.display.HTML object>"
      ],
      "text/html": [
       "<span class=\"tex2jax_ignore\"><div class=\"entities\" style=\"line-height: 2.5; direction: ltr\">Kanye, along with adidas and yeezy made a $500,000 worth of donations to \n",
       "<mark class=\"entity\" style=\"background: lightgreen; padding: 0.45em 0.6em; margin: 0 0.25em; line-height: 1; border-radius: 0.35em;\">\n",
       "    California\n",
       "    <span style=\"font-size: 0.8em; font-weight: bold; line-height: 1; border-radius: 0.35em; vertical-align: middle; margin-left: 0.5rem\">LOC</span>\n",
       "</mark>\n",
       " fire relief. @AaronRodgers12 made a $1 million donation (on his own). Thank u, next.</div></span>"
      ]
     },
     "metadata": {},
     "output_type": "display_data"
    },
    {
     "data": {
      "text/plain": [
       "<IPython.core.display.HTML object>"
      ],
      "text/html": [
       "<span class=\"tex2jax_ignore\"><div class=\"entities\" style=\"line-height: 2.5; direction: ltr\">Dish duty at World Central Kitchen. Amazing organization feeding 1000’s of people here in Northern California displaced by fire. My surf holiday joyfully turned into a serve holiday Ἴ4ἿC‍♀️ὤF</div></span>"
      ]
     },
     "metadata": {},
     "output_type": "display_data"
    },
    {
     "data": {
      "text/plain": [
       "<IPython.core.display.HTML object>"
      ],
      "text/html": [
       "<span class=\"tex2jax_ignore\"><div class=\"entities\" style=\"line-height: 2.5; direction: ltr\">Kanye West Donates $500,000 to \n",
       "<mark class=\"entity\" style=\"background: lightgreen; padding: 0.45em 0.6em; margin: 0 0.25em; line-height: 1; border-radius: 0.35em;\">\n",
       "    California\n",
       "    <span style=\"font-size: 0.8em; font-weight: bold; line-height: 1; border-radius: 0.35em; vertical-align: middle; margin-left: 0.5rem\">LOC</span>\n",
       "</mark>\n",
       " Wildfire Relief Kim Kardashian and Kanye Wests home in Hidden Hills, \n",
       "<mark class=\"entity\" style=\"background: lightgreen; padding: 0.45em 0.6em; margin: 0 0.25em; line-height: 1; border-radius: 0.35em;\">\n",
       "    Calif.\n",
       "    <span style=\"font-size: 0.8em; font-weight: bold; line-height: 1; border-radius: 0.35em; vertical-align: middle; margin-left: 0.5rem\">LOC</span>\n",
       "</mark>\n",
       ", is still standing after the Woolsey fire threatened to destroy it earlier this month. The 38-year-old Keeping Up With the</div></span>"
      ]
     },
     "metadata": {},
     "output_type": "display_data"
    },
    {
     "data": {
      "text/plain": [
       "<IPython.core.display.HTML object>"
      ],
      "text/html": [
       "<span class=\"tex2jax_ignore\"><div class=\"entities\" style=\"line-height: 2.5; direction: ltr\">#USDepartmentOfLabor announced this week how it will assist the victims of #CaliforniaWildfires in employment-related ways. #employer #\n",
       "<mark class=\"entity\" style=\"background: lightgreen; padding: 0.45em 0.6em; margin: 0 0.25em; line-height: 1; border-radius: 0.35em;\">\n",
       "    CampFire\n",
       "    <span style=\"font-size: 0.8em; font-weight: bold; line-height: 1; border-radius: 0.35em; vertical-align: middle; margin-left: 0.5rem\">LOC</span>\n",
       "</mark>\n",
       " #HillFire #WoosleyFire #wildfires #wildfirerelief #calchamber</div></span>"
      ]
     },
     "metadata": {},
     "output_type": "display_data"
    },
    {
     "data": {
      "text/plain": [
       "<IPython.core.display.HTML object>"
      ],
      "text/html": [
       "<span class=\"tex2jax_ignore\"><div class=\"entities\" style=\"line-height: 2.5; direction: ltr\">SierraNevada: CaptCaveDave SideProjectBrew Hi Dave, for long-term support, we have set up a Sierra Nevada Camp Fire Relief Fund. The brewery is seeding this fund with an initial $100,000 to start. To help support this long-term effort, visit  and select</div></span>"
      ]
     },
     "metadata": {},
     "output_type": "display_data"
    },
    {
     "data": {
      "text/plain": [
       "<IPython.core.display.HTML object>"
      ],
      "text/html": [
       "<span class=\"tex2jax_ignore\"><div class=\"entities\" style=\"line-height: 2.5; direction: ltr\">.@3M Supports \n",
       "<mark class=\"entity\" style=\"background: lightgreen; padding: 0.45em 0.6em; margin: 0 0.25em; line-height: 1; border-radius: 0.35em;\">\n",
       "    California\n",
       "    <span style=\"font-size: 0.8em; font-weight: bold; line-height: 1; border-radius: 0.35em; vertical-align: middle; margin-left: 0.5rem\">LOC</span>\n",
       "</mark>\n",
       " Wildfire Relief Efforts</div></span>"
      ]
     },
     "metadata": {},
     "output_type": "display_data"
    },
    {
     "data": {
      "text/plain": [
       "<IPython.core.display.HTML object>"
      ],
      "text/html": [
       "<span class=\"tex2jax_ignore\"><div class=\"entities\" style=\"line-height: 2.5; direction: ltr\">for Christmas I gave a indian school , monies for a coat, scarf , gloves, booths, hat .please REMEMBER ITS BETTER TO GIVE THAN RECIEVE, HOMELESS, HOMELESS VETS, SAINT JUDE FOR CHILDREN , SHRINERS FOR KIDS, FIRE VICTIMS IN \n",
       "<mark class=\"entity\" style=\"background: lightgreen; padding: 0.45em 0.6em; margin: 0 0.25em; line-height: 1; border-radius: 0.35em;\">\n",
       "    CALIFORNIA\n",
       "    <span style=\"font-size: 0.8em; font-weight: bold; line-height: 1; border-radius: 0.35em; vertical-align: middle; margin-left: 0.5rem\">LOC</span>\n",
       "</mark>\n",
       ", MISSIONS WITH KITCHENS TO FEED THE HUNGRY</div></span>"
      ]
     },
     "metadata": {},
     "output_type": "display_data"
    },
    {
     "data": {
      "text/plain": [
       "<IPython.core.display.HTML object>"
      ],
      "text/html": [
       "<span class=\"tex2jax_ignore\"><div class=\"entities\" style=\"line-height: 2.5; direction: ltr\">@samhensonCA didn’t know if you saw Aaron Rogers donated 1 Million dollars for victims of Camp Fire #AaronRodgers #charity #campfire #donate #love #ButteStrong</div></span>"
      ]
     },
     "metadata": {},
     "output_type": "display_data"
    },
    {
     "data": {
      "text/plain": [
       "<IPython.core.display.HTML object>"
      ],
      "text/html": [
       "<span class=\"tex2jax_ignore\"><div class=\"entities\" style=\"line-height: 2.5; direction: ltr\">#CaliforniaBurningNews: ‛ \n",
       "<mark class=\"entity\" style=\"background: lightgreen; padding: 0.45em 0.6em; margin: 0 0.25em; line-height: 1; border-radius: 0.35em;\">\n",
       "    California\n",
       "    <span style=\"font-size: 0.8em; font-weight: bold; line-height: 1; border-radius: 0.35em; vertical-align: middle; margin-left: 0.5rem\">LOC</span>\n",
       "</mark>\n",
       " Wildfire Evacuees Brace for Heavy Rains ’ | As Much as Nearly Eight Inches of Rain Is Forecast to Fall by Friday in Areas Around the Town of \n",
       "<mark class=\"entity\" style=\"background: lightgreen; padding: 0.45em 0.6em; margin: 0 0.25em; line-height: 1; border-radius: 0.35em;\">\n",
       "    Paradise\n",
       "    <span style=\"font-size: 0.8em; font-weight: bold; line-height: 1; border-radius: 0.35em; vertical-align: middle; margin-left: 0.5rem\">LOC</span>\n",
       "</mark>\n",
       ", Town That Was Largely Incinerated by..▼</div></span>"
      ]
     },
     "metadata": {},
     "output_type": "display_data"
    },
    {
     "data": {
      "text/plain": [
       "<IPython.core.display.HTML object>"
      ],
      "text/html": [
       "<span class=\"tex2jax_ignore\"><div class=\"entities\" style=\"line-height: 2.5; direction: ltr\">\n",
       "<mark class=\"entity\" style=\"background: lightgreen; padding: 0.45em 0.6em; margin: 0 0.25em; line-height: 1; border-radius: 0.35em;\">\n",
       "    CALIFORNIA\n",
       "    <span style=\"font-size: 0.8em; font-weight: bold; line-height: 1; border-radius: 0.35em; vertical-align: middle; margin-left: 0.5rem\">LOC</span>\n",
       "</mark>\n",
       " FIRE VICTIMS RELIEF AND AID. If you are in Los Angeles and want to help victims of the wildfire, please read below. If you are unable to make it this week, please retweet! THANK YOU #Woolseyfires #MalibuFire #CaliforniaFires #CaliforniaWildfires #\n",
       "<mark class=\"entity\" style=\"background: lightgreen; padding: 0.45em 0.6em; margin: 0 0.25em; line-height: 1; border-radius: 0.35em;\">\n",
       "    CampFire\n",
       "    <span style=\"font-size: 0.8em; font-weight: bold; line-height: 1; border-radius: 0.35em; vertical-align: middle; margin-left: 0.5rem\">LOC</span>\n",
       "</mark>\n",
       "</div></span>"
      ]
     },
     "metadata": {},
     "output_type": "display_data"
    },
    {
     "data": {
      "text/plain": [
       "<IPython.core.display.HTML object>"
      ],
      "text/html": [
       "<span class=\"tex2jax_ignore\"><div class=\"entities\" style=\"line-height: 2.5; direction: ltr\">When my QB @AaronRodgers12 donates $1 million to help in the effort to combat the \n",
       "<mark class=\"entity\" style=\"background: lightgreen; padding: 0.45em 0.6em; margin: 0 0.25em; line-height: 1; border-radius: 0.35em;\">\n",
       "    California\n",
       "    <span style=\"font-size: 0.8em; font-weight: bold; line-height: 1; border-radius: 0.35em; vertical-align: middle; margin-left: 0.5rem\">LOC</span>\n",
       "</mark>\n",
       " fires, the least I can do is tweet out #retweet4good ! State Farm will donate $1 for every tweet with that hashtag. Make it happen, Twitter!</div></span>"
      ]
     },
     "metadata": {},
     "output_type": "display_data"
    },
    {
     "data": {
      "text/plain": [
       "<IPython.core.display.HTML object>"
      ],
      "text/html": [
       "<span class=\"tex2jax_ignore\"><div class=\"entities\" style=\"line-height: 2.5; direction: ltr\">RT @MReeseAuthor: Helping families affected by the \n",
       "<mark class=\"entity\" style=\"background: lightgreen; padding: 0.45em 0.6em; margin: 0 0.25em; line-height: 1; border-radius: 0.35em;\">\n",
       "    California\n",
       "    <span style=\"font-size: 0.8em; font-weight: bold; line-height: 1; border-radius: 0.35em; vertical-align: middle; margin-left: 0.5rem\">LOC</span>\n",
       "</mark>\n",
       " fires.</div></span>"
      ]
     },
     "metadata": {},
     "output_type": "display_data"
    },
    {
     "data": {
      "text/plain": [
       "<IPython.core.display.HTML object>"
      ],
      "text/html": [
       "<span class=\"tex2jax_ignore\"><div class=\"entities\" style=\"line-height: 2.5; direction: ltr\">Starting tomorrow, donations will be accepted in the Bret Harte office! Bring in your new and un-opened toys and help make the holiday season as normal as possible for the families affected by the Camp Fire ὉCὉB</div></span>"
      ]
     },
     "metadata": {},
     "output_type": "display_data"
    },
    {
     "data": {
      "text/plain": [
       "<IPython.core.display.HTML object>"
      ],
      "text/html": [
       "<span class=\"tex2jax_ignore\"><div class=\"entities\" style=\"line-height: 2.5; direction: ltr\">Aaron Rodgers makes $1 million donation to help those impacted by \n",
       "<mark class=\"entity\" style=\"background: lightgreen; padding: 0.45em 0.6em; margin: 0 0.25em; line-height: 1; border-radius: 0.35em;\">\n",
       "    California\n",
       "    <span style=\"font-size: 0.8em; font-weight: bold; line-height: 1; border-radius: 0.35em; vertical-align: middle; margin-left: 0.5rem\">LOC</span>\n",
       "</mark>\n",
       " wildfires  via @YahooSports</div></span>"
      ]
     },
     "metadata": {},
     "output_type": "display_data"
    },
    {
     "data": {
      "text/plain": [
       "<IPython.core.display.HTML object>"
      ],
      "text/html": [
       "<span class=\"tex2jax_ignore\"><div class=\"entities\" style=\"line-height: 2.5; direction: ltr\">Our hearts go out to communities impacted by wildfires throughout \n",
       "<mark class=\"entity\" style=\"background: lightgreen; padding: 0.45em 0.6em; margin: 0 0.25em; line-height: 1; border-radius: 0.35em;\">\n",
       "    California\n",
       "    <span style=\"font-size: 0.8em; font-weight: bold; line-height: 1; border-radius: 0.35em; vertical-align: middle; margin-left: 0.5rem\">LOC</span>\n",
       "</mark>\n",
       ". A recent story in @amlibraries magazine tells how @ButteCoLibrary has helped relief efforts.  Photo: NASA #wildfire #\n",
       "<mark class=\"entity\" style=\"background: lightgreen; padding: 0.45em 0.6em; margin: 0 0.25em; line-height: 1; border-radius: 0.35em;\">\n",
       "    California\n",
       "    <span style=\"font-size: 0.8em; font-weight: bold; line-height: 1; border-radius: 0.35em; vertical-align: middle; margin-left: 0.5rem\">LOC</span>\n",
       "</mark>\n",
       " #library #ButteCounty #relief #humanities</div></span>"
      ]
     },
     "metadata": {},
     "output_type": "display_data"
    },
    {
     "data": {
      "text/plain": [
       "<IPython.core.display.HTML object>"
      ],
      "text/html": [
       "<span class=\"tex2jax_ignore\"><div class=\"entities\" style=\"line-height: 2.5; direction: ltr\">The fires continue to burn throughout \n",
       "<mark class=\"entity\" style=\"background: lightgreen; padding: 0.45em 0.6em; margin: 0 0.25em; line-height: 1; border-radius: 0.35em;\">\n",
       "    California\n",
       "    <span style=\"font-size: 0.8em; font-weight: bold; line-height: 1; border-radius: 0.35em; vertical-align: middle; margin-left: 0.5rem\">LOC</span>\n",
       "</mark>\n",
       ", and many are seeking shelter as well as supplies. If you would like to donate, the link below has a few options.ὤF We are continuing to pray and</div></span>"
      ]
     },
     "metadata": {},
     "output_type": "display_data"
    },
    {
     "data": {
      "text/plain": [
       "<IPython.core.display.HTML object>"
      ],
      "text/html": [
       "<span class=\"tex2jax_ignore\"><div class=\"entities\" style=\"line-height: 2.5; direction: ltr\">RT @EurekaBrent: I’m enjoying a @SierraNevada at @FlyingSaucerHou. $1 of every SN sold at Saucer goes to the \n",
       "<mark class=\"entity\" style=\"background: lightgreen; padding: 0.45em 0.6em; margin: 0 0.25em; line-height: 1; border-radius: 0.35em;\">\n",
       "    California\n",
       "    <span style=\"font-size: 0.8em; font-weight: bold; line-height: 1; border-radius: 0.35em; vertical-align: middle; margin-left: 0.5rem\">LOC</span>\n",
       "</mark>\n",
       " Fire Relief ὠ7</div></span>"
      ]
     },
     "metadata": {},
     "output_type": "display_data"
    },
    {
     "data": {
      "text/plain": [
       "<IPython.core.display.HTML object>"
      ],
      "text/html": [
       "<span class=\"tex2jax_ignore\"><div class=\"entities\" style=\"line-height: 2.5; direction: ltr\">Helping Camp Fire Victims Organized by NextHome. Please help if you are able to. We are halfway there already! Thank you to those who generously helped out!</div></span>"
      ]
     },
     "metadata": {},
     "output_type": "display_data"
    },
    {
     "data": {
      "text/plain": [
       "<IPython.core.display.HTML object>"
      ],
      "text/html": [
       "<span class=\"tex2jax_ignore\"><div class=\"entities\" style=\"line-height: 2.5; direction: ltr\">Vacaville businesses partnering to fill trailer of toys for Camp Fire victims</div></span>"
      ]
     },
     "metadata": {},
     "output_type": "display_data"
    },
    {
     "data": {
      "text/plain": [
       "<IPython.core.display.HTML object>"
      ],
      "text/html": [
       "<span class=\"tex2jax_ignore\"><div class=\"entities\" style=\"line-height: 2.5; direction: ltr\">RT @jamalagnew: Retweet this y’all to help those affected by wildfires in \n",
       "<mark class=\"entity\" style=\"background: lightgreen; padding: 0.45em 0.6em; margin: 0 0.25em; line-height: 1; border-radius: 0.35em;\">\n",
       "    California\n",
       "    <span style=\"font-size: 0.8em; font-weight: bold; line-height: 1; border-radius: 0.35em; vertical-align: middle; margin-left: 0.5rem\">LOC</span>\n",
       "</mark>\n",
       "!! ὤFἿE</div></span>"
      ]
     },
     "metadata": {},
     "output_type": "display_data"
    },
    {
     "data": {
      "text/plain": [
       "<IPython.core.display.HTML object>"
      ],
      "text/html": [
       "<span class=\"tex2jax_ignore\"><div class=\"entities\" style=\"line-height: 2.5; direction: ltr\">Camp Fire Critter Victims Rescued By Dublin, \n",
       "<mark class=\"entity\" style=\"background: lightgreen; padding: 0.45em 0.6em; margin: 0 0.25em; line-height: 1; border-radius: 0.35em;\">\n",
       "    Oakland\n",
       "    <span style=\"font-size: 0.8em; font-weight: bold; line-height: 1; border-radius: 0.35em; vertical-align: middle; margin-left: 0.5rem\">LOC</span>\n",
       "</mark>\n",
       " Shelters</div></span>"
      ]
     },
     "metadata": {},
     "output_type": "display_data"
    },
    {
     "data": {
      "text/plain": [
       "<IPython.core.display.HTML object>"
      ],
      "text/html": [
       "<span class=\"tex2jax_ignore\"><div class=\"entities\" style=\"line-height: 2.5; direction: ltr\">\n",
       "<mark class=\"entity\" style=\"background: lightgreen; padding: 0.45em 0.6em; margin: 0 0.25em; line-height: 1; border-radius: 0.35em;\">\n",
       "    Israeli\n",
       "    <span style=\"font-size: 0.8em; font-weight: bold; line-height: 1; border-radius: 0.35em; vertical-align: middle; margin-left: 0.5rem\">LOC</span>\n",
       "</mark>\n",
       " NGO Sends Aid to Fire Hit \n",
       "<mark class=\"entity\" style=\"background: lightgreen; padding: 0.45em 0.6em; margin: 0 0.25em; line-height: 1; border-radius: 0.35em;\">\n",
       "    California\n",
       "    <span style=\"font-size: 0.8em; font-weight: bold; line-height: 1; border-radius: 0.35em; vertical-align: middle; margin-left: 0.5rem\">LOC</span>\n",
       "</mark>\n",
       "</div></span>"
      ]
     },
     "metadata": {},
     "output_type": "display_data"
    },
    {
     "data": {
      "text/plain": [
       "<IPython.core.display.HTML object>"
      ],
      "text/html": [
       "<span class=\"tex2jax_ignore\"><div class=\"entities\" style=\"line-height: 2.5; direction: ltr\">The Camp Fire could surpass the Tubbs Fire in losses. Read more in: JLT Re: \n",
       "<mark class=\"entity\" style=\"background: lightgreen; padding: 0.45em 0.6em; margin: 0 0.25em; line-height: 1; border-radius: 0.35em;\">\n",
       "    California\n",
       "    <span style=\"font-size: 0.8em; font-weight: bold; line-height: 1; border-radius: 0.35em; vertical-align: middle; margin-left: 0.5rem\">LOC</span>\n",
       "</mark>\n",
       "’s Camp Wildfire Most Destructive in \n",
       "<mark class=\"entity\" style=\"background: lightgreen; padding: 0.45em 0.6em; margin: 0 0.25em; line-height: 1; border-radius: 0.35em;\">\n",
       "    US\n",
       "    <span style=\"font-size: 0.8em; font-weight: bold; line-height: 1; border-radius: 0.35em; vertical-align: middle; margin-left: 0.5rem\">LOC</span>\n",
       "</mark>\n",
       " History; 7,150 Structures Destroyed or Damaged.  #insurance #claims #litigation #wildfires #\n",
       "<mark class=\"entity\" style=\"background: lightgreen; padding: 0.45em 0.6em; margin: 0 0.25em; line-height: 1; border-radius: 0.35em;\">\n",
       "    California\n",
       "    <span style=\"font-size: 0.8em; font-weight: bold; line-height: 1; border-radius: 0.35em; vertical-align: middle; margin-left: 0.5rem\">LOC</span>\n",
       "</mark>\n",
       "</div></span>"
      ]
     },
     "metadata": {},
     "output_type": "display_data"
    },
    {
     "data": {
      "text/plain": [
       "<IPython.core.display.HTML object>"
      ],
      "text/html": [
       "<span class=\"tex2jax_ignore\"><div class=\"entities\" style=\"line-height: 2.5; direction: ltr\">Death toll rises to 81 in Camp Fire; 870 unaccounted for More than 12,600 homes destroyed in \n",
       "<mark class=\"entity\" style=\"background: lightgreen; padding: 0.45em 0.6em; margin: 0 0.25em; line-height: 1; border-radius: 0.35em;\">\n",
       "    Butte County\n",
       "    <span style=\"font-size: 0.8em; font-weight: bold; line-height: 1; border-radius: 0.35em; vertical-align: middle; margin-left: 0.5rem\">LOC</span>\n",
       "</mark>\n",
       " blaze #ButteCountyFire #\n",
       "<mark class=\"entity\" style=\"background: lightgreen; padding: 0.45em 0.6em; margin: 0 0.25em; line-height: 1; border-radius: 0.35em;\">\n",
       "    CampFire\n",
       "    <span style=\"font-size: 0.8em; font-weight: bold; line-height: 1; border-radius: 0.35em; vertical-align: middle; margin-left: 0.5rem\">LOC</span>\n",
       "</mark>\n",
       "</div></span>"
      ]
     },
     "metadata": {},
     "output_type": "display_data"
    },
    {
     "data": {
      "text/plain": [
       "<IPython.core.display.HTML object>"
      ],
      "text/html": [
       "<span class=\"tex2jax_ignore\"><div class=\"entities\" style=\"line-height: 2.5; direction: ltr\">Such a sweet light during this time of sorrow in \n",
       "<mark class=\"entity\" style=\"background: lightgreen; padding: 0.45em 0.6em; margin: 0 0.25em; line-height: 1; border-radius: 0.35em;\">\n",
       "    California\n",
       "    <span style=\"font-size: 0.8em; font-weight: bold; line-height: 1; border-radius: 0.35em; vertical-align: middle; margin-left: 0.5rem\">LOC</span>\n",
       "</mark>\n",
       ". If youre looking to donate to rescue teams that are aiding animals during these \n",
       "<mark class=\"entity\" style=\"background: lightgreen; padding: 0.45em 0.6em; margin: 0 0.25em; line-height: 1; border-radius: 0.35em;\">\n",
       "    California\n",
       "    <span style=\"font-size: 0.8em; font-weight: bold; line-height: 1; border-radius: 0.35em; vertical-align: middle; margin-left: 0.5rem\">LOC</span>\n",
       "</mark>\n",
       " fires, check out North Valley Animal Disaster Group.</div></span>"
      ]
     },
     "metadata": {},
     "output_type": "display_data"
    },
    {
     "data": {
      "text/plain": [
       "<IPython.core.display.HTML object>"
      ],
      "text/html": [
       "<span class=\"tex2jax_ignore\"><div class=\"entities\" style=\"line-height: 2.5; direction: ltr\">My good friend is running a charity stream benefiting the victims of the \n",
       "<mark class=\"entity\" style=\"background: lightgreen; padding: 0.45em 0.6em; margin: 0 0.25em; line-height: 1; border-radius: 0.35em;\">\n",
       "    California\n",
       "    <span style=\"font-size: 0.8em; font-weight: bold; line-height: 1; border-radius: 0.35em; vertical-align: middle; margin-left: 0.5rem\">LOC</span>\n",
       "</mark>\n",
       " wildfires in \n",
       "<mark class=\"entity\" style=\"background: lightgreen; padding: 0.45em 0.6em; margin: 0 0.25em; line-height: 1; border-radius: 0.35em;\">\n",
       "    Paradise\n",
       "    <span style=\"font-size: 0.8em; font-weight: bold; line-height: 1; border-radius: 0.35em; vertical-align: middle; margin-left: 0.5rem\">LOC</span>\n",
       "</mark>\n",
       ", \n",
       "<mark class=\"entity\" style=\"background: lightgreen; padding: 0.45em 0.6em; margin: 0 0.25em; line-height: 1; border-radius: 0.35em;\">\n",
       "    California\n",
       "    <span style=\"font-size: 0.8em; font-weight: bold; line-height: 1; border-radius: 0.35em; vertical-align: middle; margin-left: 0.5rem\">LOC</span>\n",
       "</mark>\n",
       ". If you can, stop by and show him some love, and donate to this cause.</div></span>"
      ]
     },
     "metadata": {},
     "output_type": "display_data"
    },
    {
     "data": {
      "text/plain": [
       "<IPython.core.display.HTML object>"
      ],
      "text/html": [
       "<span class=\"tex2jax_ignore\"><div class=\"entities\" style=\"line-height: 2.5; direction: ltr\">If youre looking for legitimate relief organizations to help those affected by the \n",
       "<mark class=\"entity\" style=\"background: lightgreen; padding: 0.45em 0.6em; margin: 0 0.25em; line-height: 1; border-radius: 0.35em;\">\n",
       "    CA\n",
       "    <span style=\"font-size: 0.8em; font-weight: bold; line-height: 1; border-radius: 0.35em; vertical-align: middle; margin-left: 0.5rem\">LOC</span>\n",
       "</mark>\n",
       " fires, I found this link: How to Help Those Affected by \n",
       "<mark class=\"entity\" style=\"background: lightgreen; padding: 0.45em 0.6em; margin: 0 0.25em; line-height: 1; border-radius: 0.35em;\">\n",
       "    California\n",
       "    <span style=\"font-size: 0.8em; font-weight: bold; line-height: 1; border-radius: 0.35em; vertical-align: middle; margin-left: 0.5rem\">LOC</span>\n",
       "</mark>\n",
       " Wildfires - Consumer Reports</div></span>"
      ]
     },
     "metadata": {},
     "output_type": "display_data"
    },
    {
     "data": {
      "text/plain": [
       "<IPython.core.display.HTML object>"
      ],
      "text/html": [
       "<span class=\"tex2jax_ignore\"><div class=\"entities\" style=\"line-height: 2.5; direction: ltr\">ep 115 of @deleteuracct: J. Redwoods and Cassandra Williams of @MaskOakland tell @roqchams and me how they’ve stepped in where authorities failed and distributed tens of thousands of masks during the Northern California #\n",
       "<mark class=\"entity\" style=\"background: lightgreen; padding: 0.45em 0.6em; margin: 0 0.25em; line-height: 1; border-radius: 0.35em;\">\n",
       "    CampFire\n",
       "    <span style=\"font-size: 0.8em; font-weight: bold; line-height: 1; border-radius: 0.35em; vertical-align: middle; margin-left: 0.5rem\">LOC</span>\n",
       "</mark>\n",
       " wildfires</div></span>"
      ]
     },
     "metadata": {},
     "output_type": "display_data"
    },
    {
     "data": {
      "text/plain": [
       "<IPython.core.display.HTML object>"
      ],
      "text/html": [
       "<span class=\"tex2jax_ignore\"><div class=\"entities\" style=\"line-height: 2.5; direction: ltr\">Show your Packers support and donate to those affected by the \n",
       "<mark class=\"entity\" style=\"background: lightgreen; padding: 0.45em 0.6em; margin: 0 0.25em; line-height: 1; border-radius: 0.35em;\">\n",
       "    California\n",
       "    <span style=\"font-size: 0.8em; font-weight: bold; line-height: 1; border-radius: 0.35em; vertical-align: middle; margin-left: 0.5rem\">LOC</span>\n",
       "</mark>\n",
       " wildfires. #\n",
       "<mark class=\"entity\" style=\"background: lightgreen; padding: 0.45em 0.6em; margin: 0 0.25em; line-height: 1; border-radius: 0.35em;\">\n",
       "    PackersForCali\n",
       "    <span style=\"font-size: 0.8em; font-weight: bold; line-height: 1; border-radius: 0.35em; vertical-align: middle; margin-left: 0.5rem\">LOC</span>\n",
       "</mark>\n",
       "</div></span>"
      ]
     },
     "metadata": {},
     "output_type": "display_data"
    },
    {
     "data": {
      "text/plain": [
       "<IPython.core.display.HTML object>"
      ],
      "text/html": [
       "<span class=\"tex2jax_ignore\"><div class=\"entities\" style=\"line-height: 2.5; direction: ltr\">Firefighters from all over #Houston are coming home early from fighting #\n",
       "<mark class=\"entity\" style=\"background: lightgreen; padding: 0.45em 0.6em; margin: 0 0.25em; line-height: 1; border-radius: 0.35em;\">\n",
       "    California\n",
       "    <span style=\"font-size: 0.8em; font-weight: bold; line-height: 1; border-radius: 0.35em; vertical-align: middle; margin-left: 0.5rem\">LOC</span>\n",
       "</mark>\n",
       " wildfires. These guys are from Montgomery County, fighting the #WoolseyFire. Home just in time for #Thanksgiving. #KHOU11</div></span>"
      ]
     },
     "metadata": {},
     "output_type": "display_data"
    },
    {
     "data": {
      "text/plain": [
       "<IPython.core.display.HTML object>"
      ],
      "text/html": [
       "<span class=\"tex2jax_ignore\"><div class=\"entities\" style=\"line-height: 2.5; direction: ltr\">Any #hamradio or #Maker folks looking to help in future wildfires (and floods, mudflows, etc.) in Northern \n",
       "<mark class=\"entity\" style=\"background: lightgreen; padding: 0.45em 0.6em; margin: 0 0.25em; line-height: 1; border-radius: 0.35em;\">\n",
       "    California\n",
       "    <span style=\"font-size: 0.8em; font-weight: bold; line-height: 1; border-radius: 0.35em; vertical-align: middle; margin-left: 0.5rem\">LOC</span>\n",
       "</mark>\n",
       ", YOU can help DIRECTLY by putting up a Raspberry Pi with fire department channels into Broadcastify. Here are instructions:</div></span>"
      ]
     },
     "metadata": {},
     "output_type": "display_data"
    },
    {
     "data": {
      "text/plain": [
       "<IPython.core.display.HTML object>"
      ],
      "text/html": [
       "<span class=\"tex2jax_ignore\"><div class=\"entities\" style=\"line-height: 2.5; direction: ltr\">Resilience Butte County Proud IPA will raise funds for those impacted by the \n",
       "<mark class=\"entity\" style=\"background: lightgreen; padding: 0.45em 0.6em; margin: 0 0.25em; line-height: 1; border-radius: 0.35em;\">\n",
       "    California\n",
       "    <span style=\"font-size: 0.8em; font-weight: bold; line-height: 1; border-radius: 0.35em; vertical-align: middle; margin-left: 0.5rem\">LOC</span>\n",
       "</mark>\n",
       " wildfires, and Sierra Nevada will donate 100 percent of sales to Camp Fire relief.</div></span>"
      ]
     },
     "metadata": {},
     "output_type": "display_data"
    },
    {
     "data": {
      "text/plain": [
       "<IPython.core.display.HTML object>"
      ],
      "text/html": [
       "<span class=\"tex2jax_ignore\"><div class=\"entities\" style=\"line-height: 2.5; direction: ltr\">I just became a Packer fan. Green Bay Packers Aaron Rodgers donates $1m to \n",
       "<mark class=\"entity\" style=\"background: lightgreen; padding: 0.45em 0.6em; margin: 0 0.25em; line-height: 1; border-radius: 0.35em;\">\n",
       "    California\n",
       "    <span style=\"font-size: 0.8em; font-weight: bold; line-height: 1; border-radius: 0.35em; vertical-align: middle; margin-left: 0.5rem\">LOC</span>\n",
       "</mark>\n",
       " wildfire victims</div></span>"
      ]
     },
     "metadata": {},
     "output_type": "display_data"
    }
   ],
   "execution_count": 24
  },
  {
   "metadata": {
    "ExecuteTime": {
     "end_time": "2024-08-12T15:57:27.750260Z",
     "start_time": "2024-08-12T15:57:27.748740Z"
    }
   },
   "cell_type": "code",
   "source": "",
   "id": "3965329e30f1948",
   "outputs": [],
   "execution_count": 23
  }
 ],
 "metadata": {
  "kernelspec": {
   "display_name": "Python 3",
   "language": "python",
   "name": "python3"
  },
  "language_info": {
   "codemirror_mode": {
    "name": "ipython",
    "version": 2
   },
   "file_extension": ".py",
   "mimetype": "text/x-python",
   "name": "python",
   "nbconvert_exporter": "python",
   "pygments_lexer": "ipython2",
   "version": "2.7.6"
  }
 },
 "nbformat": 4,
 "nbformat_minor": 5
}
